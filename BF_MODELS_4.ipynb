{
 "cells": [
  {
   "cell_type": "code",
   "execution_count": 1,
   "metadata": {},
   "outputs": [],
   "source": [
    "## Importing the required Packages\n",
    "import warnings\n",
    "warnings.filterwarnings('ignore')\n",
    "import numpy as np\n",
    "import pandas as pd\n",
    "from datetime import datetime, date, time\n",
    "import joblib\n",
    "# to display all columns of the dataframe in the notebook\n",
    "pd.pandas.set_option('display.max_columns', None)"
   ]
  },
  {
   "cell_type": "code",
   "execution_count": 2,
   "metadata": {},
   "outputs": [],
   "source": [
    "import matplotlib.pyplot as plt\n",
    "import seaborn as sns\n",
    "%matplotlib inline\n",
    "from matplotlib.pyplot import figure\n",
    "from pylab import rcParams"
   ]
  },
  {
   "cell_type": "code",
   "execution_count": 3,
   "metadata": {},
   "outputs": [],
   "source": [
    "import copy\n",
    "import statistics\n",
    "import scipy\n",
    "import scipy.stats as stats\n",
    "import statsmodels.api as sm"
   ]
  },
  {
   "cell_type": "markdown",
   "metadata": {},
   "source": [
    "#### import pickled dataset"
   ]
  },
  {
   "cell_type": "code",
   "execution_count": 4,
   "metadata": {},
   "outputs": [
    {
     "data": {
      "text/plain": [
       "(550068, 100)"
      ]
     },
     "execution_count": 4,
     "metadata": {},
     "output_type": "execute_result"
    }
   ],
   "source": [
    "# load pickled dataset\n",
    "df_train_fs = joblib.load(\"df_train_fs.pkl\")\n",
    "df_train_fs.shape"
   ]
  },
  {
   "cell_type": "code",
   "execution_count": 5,
   "metadata": {},
   "outputs": [
    {
     "data": {
      "text/plain": [
       "25"
      ]
     },
     "execution_count": 5,
     "metadata": {},
     "output_type": "execute_result"
    }
   ],
   "source": [
    "# ANOVA Features Selection List\n",
    "anova_features_lst = joblib.load('anova_features_lst.pkl')\n",
    "len(anova_features_lst)  "
   ]
  },
  {
   "cell_type": "code",
   "execution_count": 6,
   "metadata": {},
   "outputs": [
    {
     "data": {
      "text/plain": [
       "25"
      ]
     },
     "execution_count": 6,
     "metadata": {},
     "output_type": "execute_result"
    }
   ],
   "source": [
    "# Step Backward feature selection columns\n",
    "bfs_features_lst = joblib.load('bfs_features_lst.pkl')\n",
    "len(bfs_features_lst)"
   ]
  },
  {
   "cell_type": "code",
   "execution_count": 7,
   "metadata": {},
   "outputs": [
    {
     "data": {
      "text/plain": [
       "27"
      ]
     },
     "execution_count": 7,
     "metadata": {},
     "output_type": "execute_result"
    }
   ],
   "source": [
    "# lasso feature selection columns\n",
    "lasso_features_f_list = joblib.load('lasso_features_f_list.pkl')\n",
    "len(lasso_features_f_list)"
   ]
  },
  {
   "cell_type": "code",
   "execution_count": 8,
   "metadata": {},
   "outputs": [
    {
     "data": {
      "text/plain": [
       "25"
      ]
     },
     "execution_count": 8,
     "metadata": {},
     "output_type": "execute_result"
    }
   ],
   "source": [
    "# Tree based Random Forest Regressor feature selection columns\n",
    "rfr_features_lst = joblib.load('rfr_features_lst.pkl')\n",
    "len(rfr_features_lst) "
   ]
  },
  {
   "cell_type": "code",
   "execution_count": 9,
   "metadata": {},
   "outputs": [
    {
     "data": {
      "text/plain": [
       "25"
      ]
     },
     "execution_count": 9,
     "metadata": {},
     "output_type": "execute_result"
    }
   ],
   "source": [
    "# ExtraTrees Feature important selection list\n",
    "extratrees_feature_lst = joblib.load('extratrees_feature_lst.pkl')\n",
    "len(extratrees_feature_lst)"
   ]
  },
  {
   "cell_type": "code",
   "execution_count": 10,
   "metadata": {},
   "outputs": [
    {
     "data": {
      "text/plain": [
       "Index(['Occupation', 'Marital_Status', 'Purchase', 'Product_ID_Rare',\n",
       "       'Product_Category_1_Rare', 'Product_Category_2_Rare',\n",
       "       'Product_Category_3_Rare', 'Gender_le', 'ohe_city_A', 'ohe_city_B',\n",
       "       'ohe_city_C', 'f_product_tot_sale_amt', 'f_product_id_m',\n",
       "       'f_product_id_median', 'f_product_id_min', 'f_product_id_max',\n",
       "       'f_product_id_std', 'f_gender_unique_users_cnt', 'f_age_m',\n",
       "       'f_age_median', 'f_age_std', 'f_Age_Min', 'f_Age_Max', 'f_occupation_m',\n",
       "       'f_occupation_tot_amt', 'f_current_city_m', 'f_current_city_median',\n",
       "       'f_current_city_min', 'f_current_city_max', 'f_current_city_std',\n",
       "       'f_prod_category_1_m', 'f_prod_category_1_tot_amt',\n",
       "       'f_prod_category_1_median', 'f_prod_category_1_min',\n",
       "       'f_prod_category_1_max', 'f_prod_category_1_std', 'f_prod_category_2_m',\n",
       "       'f_prod_category_2_tot_amt', 'f_prod_category_2_median',\n",
       "       'f_prod_category_2_min', 'f_prod_category_2_max',\n",
       "       'f_prod_category_2_std', 'f_prod_category_3_m',\n",
       "       'f_prod_category_3_tot_amt', 'f_prod_category_3_median',\n",
       "       'f_prod_category_3_min', 'f_prod_category_3_max',\n",
       "       'f_prod_category_3_std', 'f_age_occupation_m', 'f_age_city_m',\n",
       "       'f_age_current_city_m', 'f_age_prod_category_1_m',\n",
       "       'f_age_prod_category_2_m', 'f_age_prod_category_3_m',\n",
       "       'f_city_current_stay_m', 'f_occupation_city_m',\n",
       "       'f_occupation_current_city_m', 'f_product_category_1_2_m',\n",
       "       'f_product_category_1_3_m', 'f_product_category_2_3_m',\n",
       "       'f_occupation_gender_m', 'f_city_m', 'f_city_median', 'f_city_min',\n",
       "       'f_city_max', 'f_city_std', 'f_city_product_category_1_m',\n",
       "       'f_city_product_category_1_tot_amt', 'f_city_product_category_1_median',\n",
       "       'f_city_product_category_1_min', 'f_city_product_category_1_max',\n",
       "       'f_city_product_category_1_std', 'f_city_product_category_2_m',\n",
       "       'f_city_product_category_2_tot_amt', 'f_city_product_category_2_median',\n",
       "       'f_city_product_category_2_min', 'f_city_product_category_2_max',\n",
       "       'f_city_product_category_2_std', 'f_city_product_category_3_m',\n",
       "       'f_city_product_category_3_tot_amt', 'f_city_product_category_3_median',\n",
       "       'f_city_product_category_3_min', 'f_city_product_category_3_max',\n",
       "       'f_city_product_category_3_std', 'f_productid_age_m',\n",
       "       'f_productid_age_tot_amt', 'f_productid_age_median',\n",
       "       'f_productid_age_min', 'f_productid_age_max',\n",
       "       'f_productid_occupation_m', 'f_productid_occupation_tot_amt',\n",
       "       'f_productid_occupation_median', 'f_productid_occupation_min',\n",
       "       'f_productid_occupation_max', 'f_productid_city_cat_m',\n",
       "       'f_productid_city_cat_tot_amt', 'f_productid_city_cat_median',\n",
       "       'f_productid_city_cat_min', 'f_productid_city_cat_max',\n",
       "       'f_productid_city_cat_std'],\n",
       "      dtype='object')"
      ]
     },
     "execution_count": 10,
     "metadata": {},
     "output_type": "execute_result"
    }
   ],
   "source": [
    "#### column names\n",
    "df_train_fs.columns"
   ]
  },
  {
   "cell_type": "markdown",
   "metadata": {},
   "source": [
    "#### train and validation dataset"
   ]
  },
  {
   "cell_type": "code",
   "execution_count": 11,
   "metadata": {},
   "outputs": [
    {
     "name": "stdout",
     "output_type": "stream",
     "text": [
      "(440054, 99) (440054,)\n",
      "(110014, 99) (110014,)\n"
     ]
    }
   ],
   "source": [
    "# train and validation datasets\n",
    "from sklearn.model_selection import train_test_split\n",
    "X_train, X_validation, y_train, y_validation = train_test_split(df_train_fs.drop(labels = ['Purchase'], axis = 1), df_train_fs['Purchase'], test_size = 0.2, random_state = 0 )\n",
    "print(X_train.shape, y_train.shape); print(X_validation.shape, y_validation.shape)"
   ]
  },
  {
   "cell_type": "markdown",
   "metadata": {},
   "source": [
    "#### 1. Linear Regression Model"
   ]
  },
  {
   "cell_type": "code",
   "execution_count": 36,
   "metadata": {},
   "outputs": [
    {
     "name": "stdout",
     "output_type": "stream",
     "text": [
      "R squared of Regressor model: 0.6973208344372424\n",
      "Wall time: 6.05 s\n"
     ]
    }
   ],
   "source": [
    "%%time\n",
    "# Linear Regression\n",
    "from sklearn.linear_model import LinearRegression\n",
    "regressor = LinearRegression()\n",
    "regressor = regressor.fit(X_train[rfr_features_lst], y_train)\n",
    "regressor_R_squared = regressor.score(X_train[rfr_features_lst], y_train)\n",
    "print('R squared of Regressor model:', regressor_R_squared)"
   ]
  },
  {
   "cell_type": "code",
   "execution_count": 37,
   "metadata": {},
   "outputs": [],
   "source": [
    "# Prediction of X_validation Dataset\n",
    "y_validation_predict = regressor.predict(X_validation[rfr_features_lst])"
   ]
  },
  {
   "cell_type": "markdown",
   "metadata": {},
   "source": [
    "#### 2. XGBoost Regressor"
   ]
  },
  {
   "cell_type": "code",
   "execution_count": 121,
   "metadata": {},
   "outputs": [],
   "source": [
    "# XGBoost parameter optimizing\n",
    "from sklearn.model_selection import GridSearchCV\n",
    "\n",
    "# parameter grid\n",
    "param_grid = {\n",
    "              \"learning_rate\": [0.05, 0.1],\n",
    "              \"min_child_weight\": [5, 8],\n",
    "              \"gamma\" : [0],\n",
    "              \"reg_alpha\": [0.01, 1],\n",
    "              \"subsample\": [0.8],\n",
    "              'n_estimators': [200],\n",
    "              'max_depth' : [5, 8],\n",
    "              \"colsample_bytree\" : [0.8],\n",
    "              }\n",
    "\n",
    "# StratifiedKfold\n",
    "from sklearn.model_selection import StratifiedKFold \n",
    "strkfold = StratifiedKFold(n_splits=3, random_state=0, shuffle=True)\n",
    "\n",
    "### Creation of Base model ###\n",
    "from xgboost import XGBRegressor\n",
    "xgbr = XGBRegressor( random_state = 0 )\n",
    "\n",
    "# Grid Search \n",
    "grid_search = GridSearchCV(estimator = xgbr, param_grid = param_grid, cv = strkfold, n_jobs = -1, verbose = 2)"
   ]
  },
  {
   "cell_type": "code",
   "execution_count": 122,
   "metadata": {},
   "outputs": [
    {
     "name": "stdout",
     "output_type": "stream",
     "text": [
      "Fitting 3 folds for each of 16 candidates, totalling 48 fits\n"
     ]
    },
    {
     "name": "stderr",
     "output_type": "stream",
     "text": [
      "[Parallel(n_jobs=-1)]: Using backend LokyBackend with 4 concurrent workers.\n",
      "[Parallel(n_jobs=-1)]: Done  33 tasks      | elapsed: 85.2min\n",
      "[Parallel(n_jobs=-1)]: Done  48 out of  48 | elapsed: 124.5min finished\n"
     ]
    },
    {
     "name": "stdout",
     "output_type": "stream",
     "text": [
      "Wall time: 2h 10min 50s\n"
     ]
    },
    {
     "data": {
      "text/plain": [
       "GridSearchCV(cv=StratifiedKFold(n_splits=3, random_state=0, shuffle=True),\n",
       "             error_score='raise-deprecating',\n",
       "             estimator=XGBRegressor(base_score=None, booster=None,\n",
       "                                    colsample_bylevel=None,\n",
       "                                    colsample_bynode=None,\n",
       "                                    colsample_bytree=None, gamma=None,\n",
       "                                    gpu_id=None, importance_type='gain',\n",
       "                                    interaction_constraints=None,\n",
       "                                    learning_rate=None, max_delta_step=None,\n",
       "                                    max_depth=Non...\n",
       "                                    subsample=None, tree_method=None,\n",
       "                                    validate_parameters=None, verbosity=None),\n",
       "             iid='warn', n_jobs=-1,\n",
       "             param_grid={'colsample_bytree': [0.8], 'gamma': [0],\n",
       "                         'learning_rate': [0.05, 0.1], 'max_depth': [5, 8],\n",
       "                         'min_child_weight': [5, 8], 'n_estimators': [200],\n",
       "                         'reg_alpha': [0.01, 1], 'subsample': [0.8]},\n",
       "             pre_dispatch='2*n_jobs', refit=True, return_train_score=False,\n",
       "             scoring=None, verbose=2)"
      ]
     },
     "execution_count": 122,
     "metadata": {},
     "output_type": "execute_result"
    }
   ],
   "source": [
    "%%time\n",
    "# Fitting the grid_search to the model ####\n",
    "grid_search.fit(X_train[extratrees_feature_lst], y_train)"
   ]
  },
  {
   "cell_type": "code",
   "execution_count": 123,
   "metadata": {},
   "outputs": [
    {
     "data": {
      "text/plain": [
       "{'colsample_bytree': 0.8,\n",
       " 'gamma': 0,\n",
       " 'learning_rate': 0.1,\n",
       " 'max_depth': 8,\n",
       " 'min_child_weight': 8,\n",
       " 'n_estimators': 200,\n",
       " 'reg_alpha': 1,\n",
       " 'subsample': 0.8}"
      ]
     },
     "execution_count": 123,
     "metadata": {},
     "output_type": "execute_result"
    }
   ],
   "source": [
    "# Grid Search Best Params\n",
    "grid_search.best_params_\n",
    "# filter - {'colsample_bytree': 0.8, 'gamma': 0, 'learning_rate': 0.05, 'max_depth': 5, 'min_child_weight': 5, 'n_estimators': 600, 'reg_alpha': 1, 'subsample': 0.8}\n",
    "# bfs - {'colsample_bytree': 0.8, 'gamma': 0, 'learning_rate': 0.1, 'max_depth': 8, 'min_child_weight': 8, 'n_estimators': 200, 'reg_alpha': 0.01, 'subsample': 0.8}\n",
    "# lasso - {'colsample_bytree': 0.8,  'gamma': 0, 'learning_rate': 0.1, 'max_depth': 8, 'min_child_weight': 5, 'n_estimators': 200, 'reg_alpha': 0.01, 'subsample': 0.8}\n",
    "# rfr - {'colsample_bytree': 0.8, 'gamma': 0, 'learning_rate': 0.1, 'max_depth': 8, 'min_child_weight': 5, 'n_estimators': 200, 'reg_alpha': 0.01, 'subsample': 0.8}\n",
    "# extratrees - {'colsample_bytree': 0.8, 'gamma': 0, 'learning_rate': 0.1, 'max_depth': 8, 'min_child_weight': 8, 'n_estimators': 200, 'reg_alpha': 1, 'subsample': 0.8}"
   ]
  },
  {
   "cell_type": "code",
   "execution_count": 38,
   "metadata": {},
   "outputs": [
    {
     "name": "stdout",
     "output_type": "stream",
     "text": [
      "R squared of xgboost model: 0.7593040646327318\n",
      "Wall time: 4min 9s\n",
      "Parser   : 103 ms\n"
     ]
    }
   ],
   "source": [
    "%%time\n",
    "# XGBoost Regressor\n",
    "from xgboost import XGBRegressor\n",
    "xgbr = XGBRegressor(colsample_bytree= 0.8, gamma= 0, learning_rate= 0.1, max_depth= 8, min_child_weight= 5, n_estimators= 200,\n",
    "reg_alpha= 0.01, subsample= 0.8, random_state = 0 )\n",
    "xgbr = xgbr.fit(X_train[rfr_features_lst], y_train)\n",
    "xgboost_R_squared = xgbr.score(X_train[rfr_features_lst], y_train)\n",
    "print('R squared of xgboost model:', xgboost_R_squared)"
   ]
  },
  {
   "cell_type": "code",
   "execution_count": 42,
   "metadata": {},
   "outputs": [],
   "source": [
    "# Prediction of X_validation Dataset  \n",
    "y_validation_predict = xgbr.predict(X_validation[rfr_features_lst])"
   ]
  },
  {
   "cell_type": "markdown",
   "metadata": {},
   "source": [
    "#### 3. Cat Boost Model"
   ]
  },
  {
   "cell_type": "code",
   "execution_count": 62,
   "metadata": {},
   "outputs": [],
   "source": [
    "# Cat Boost parameter optimizing\n",
    "from sklearn.model_selection import GridSearchCV\n",
    "\n",
    "# parameter grid\n",
    "param_grid = {\n",
    "              \"iterations\": [600],\n",
    "              \"learning_rate\": [0.05, 0.1],\n",
    "              \"depth\" : [6, 8],\n",
    "              \"l2_leaf_reg\" : [0.1, 1],\n",
    "              \"bagging_temperature\" : [0, 1],\n",
    "              \"random_strength\" : [0, 1 ]\n",
    "              }\n",
    "\n",
    "# StratifiedKfold\n",
    "from sklearn.model_selection import StratifiedKFold \n",
    "strkfold = StratifiedKFold(n_splits=3, random_state=15, shuffle=True)\n",
    "\n",
    "### Creation of Base model ###\n",
    "import catboost\n",
    "from catboost import CatBoostRegressor\n",
    "catboostr = CatBoostRegressor(loss_function='RMSE', random_state= 15)\n",
    "\n",
    "# Grid Search \n",
    "grid_search = GridSearchCV(estimator = catboostr, param_grid = param_grid, cv = strkfold, n_jobs = -1, verbose = 2)"
   ]
  },
  {
   "cell_type": "code",
   "execution_count": 63,
   "metadata": {},
   "outputs": [
    {
     "name": "stdout",
     "output_type": "stream",
     "text": [
      "Fitting 3 folds for each of 32 candidates, totalling 96 fits\n"
     ]
    },
    {
     "name": "stderr",
     "output_type": "stream",
     "text": [
      "[Parallel(n_jobs=-1)]: Using backend LokyBackend with 4 concurrent workers.\n",
      "[Parallel(n_jobs=-1)]: Done  33 tasks      | elapsed: 54.9min\n",
      "[Parallel(n_jobs=-1)]: Done  96 out of  96 | elapsed: 164.1min finished\n"
     ]
    },
    {
     "name": "stdout",
     "output_type": "stream",
     "text": [
      "0:\tlearn: 4684.4420373\ttotal: 495ms\tremaining: 4m 56s\n",
      "1:\tlearn: 4389.7405871\ttotal: 1.17s\tremaining: 5m 50s\n",
      "2:\tlearn: 4135.4034287\ttotal: 1.9s\tremaining: 6m 17s\n",
      "3:\tlearn: 3915.2493598\ttotal: 2.66s\tremaining: 6m 37s\n",
      "4:\tlearn: 3725.5319596\ttotal: 3.16s\tremaining: 6m 16s\n",
      "5:\tlearn: 3564.9055832\ttotal: 3.6s\tremaining: 5m 56s\n",
      "6:\tlearn: 3427.2173819\ttotal: 3.82s\tremaining: 5m 23s\n",
      "7:\tlearn: 3311.0520749\ttotal: 4.06s\tremaining: 5m\n",
      "8:\tlearn: 3212.0402150\ttotal: 4.33s\tremaining: 4m 44s\n",
      "9:\tlearn: 3128.8346799\ttotal: 4.58s\tremaining: 4m 30s\n",
      "10:\tlearn: 3058.4569092\ttotal: 4.83s\tremaining: 4m 18s\n",
      "11:\tlearn: 2999.9604019\ttotal: 5.06s\tremaining: 4m 8s\n",
      "12:\tlearn: 2950.4302112\ttotal: 5.31s\tremaining: 3m 59s\n",
      "13:\tlearn: 2906.6728141\ttotal: 5.55s\tremaining: 3m 52s\n",
      "14:\tlearn: 2871.7072762\ttotal: 5.79s\tremaining: 3m 45s\n",
      "15:\tlearn: 2842.7656286\ttotal: 6.01s\tremaining: 3m 39s\n",
      "16:\tlearn: 2816.2567462\ttotal: 6.24s\tremaining: 3m 34s\n",
      "17:\tlearn: 2795.8183281\ttotal: 6.47s\tremaining: 3m 29s\n",
      "18:\tlearn: 2776.8323194\ttotal: 6.71s\tremaining: 3m 25s\n",
      "19:\tlearn: 2762.3785392\ttotal: 6.93s\tremaining: 3m 21s\n",
      "20:\tlearn: 2750.2407852\ttotal: 7.16s\tremaining: 3m 17s\n",
      "21:\tlearn: 2739.5590787\ttotal: 7.45s\tremaining: 3m 15s\n",
      "22:\tlearn: 2730.6924388\ttotal: 7.81s\tremaining: 3m 16s\n",
      "23:\tlearn: 2723.1524777\ttotal: 8.01s\tremaining: 3m 12s\n",
      "24:\tlearn: 2716.5899171\ttotal: 8.25s\tremaining: 3m 9s\n",
      "25:\tlearn: 2711.0287029\ttotal: 8.54s\tremaining: 3m 8s\n",
      "26:\tlearn: 2706.0506130\ttotal: 8.8s\tremaining: 3m 6s\n",
      "27:\tlearn: 2701.7452421\ttotal: 9.03s\tremaining: 3m 4s\n",
      "28:\tlearn: 2698.0720309\ttotal: 9.27s\tremaining: 3m 2s\n",
      "29:\tlearn: 2694.5400020\ttotal: 9.52s\tremaining: 3m\n",
      "30:\tlearn: 2691.7238770\ttotal: 9.73s\tremaining: 2m 58s\n",
      "31:\tlearn: 2689.0396341\ttotal: 9.98s\tremaining: 2m 57s\n",
      "32:\tlearn: 2686.5221949\ttotal: 10.2s\tremaining: 2m 55s\n",
      "33:\tlearn: 2682.3475826\ttotal: 10.4s\tremaining: 2m 53s\n",
      "34:\tlearn: 2678.8986168\ttotal: 10.7s\tremaining: 2m 52s\n",
      "35:\tlearn: 2677.1718344\ttotal: 10.9s\tremaining: 2m 50s\n",
      "36:\tlearn: 2675.6434475\ttotal: 11.1s\tremaining: 2m 48s\n",
      "37:\tlearn: 2673.2006492\ttotal: 11.3s\tremaining: 2m 47s\n",
      "38:\tlearn: 2670.7540198\ttotal: 11.6s\tremaining: 2m 46s\n",
      "39:\tlearn: 2669.3449146\ttotal: 11.9s\tremaining: 2m 46s\n",
      "40:\tlearn: 2668.1206847\ttotal: 12.1s\tremaining: 2m 44s\n",
      "41:\tlearn: 2666.9805358\ttotal: 12.3s\tremaining: 2m 43s\n",
      "42:\tlearn: 2665.7220035\ttotal: 12.5s\tremaining: 2m 41s\n",
      "43:\tlearn: 2664.5584633\ttotal: 12.7s\tremaining: 2m 40s\n",
      "44:\tlearn: 2663.5485074\ttotal: 12.9s\tremaining: 2m 39s\n",
      "45:\tlearn: 2662.5935619\ttotal: 13.1s\tremaining: 2m 38s\n",
      "46:\tlearn: 2661.5375330\ttotal: 13.4s\tremaining: 2m 37s\n",
      "47:\tlearn: 2660.7264499\ttotal: 13.6s\tremaining: 2m 35s\n",
      "48:\tlearn: 2659.7893556\ttotal: 13.8s\tremaining: 2m 34s\n",
      "49:\tlearn: 2659.2334972\ttotal: 14s\tremaining: 2m 33s\n",
      "50:\tlearn: 2657.4389979\ttotal: 14.2s\tremaining: 2m 32s\n",
      "51:\tlearn: 2656.7577122\ttotal: 14.4s\tremaining: 2m 31s\n",
      "52:\tlearn: 2656.1280205\ttotal: 14.6s\tremaining: 2m 30s\n",
      "53:\tlearn: 2655.4481545\ttotal: 14.8s\tremaining: 2m 29s\n",
      "54:\tlearn: 2654.4457020\ttotal: 15.1s\tremaining: 2m 29s\n",
      "55:\tlearn: 2653.6772168\ttotal: 15.3s\tremaining: 2m 28s\n",
      "56:\tlearn: 2652.6099948\ttotal: 15.5s\tremaining: 2m 27s\n",
      "57:\tlearn: 2652.1667674\ttotal: 15.7s\tremaining: 2m 26s\n",
      "58:\tlearn: 2651.4531676\ttotal: 15.9s\tremaining: 2m 26s\n",
      "59:\tlearn: 2650.5553102\ttotal: 16.2s\tremaining: 2m 25s\n",
      "60:\tlearn: 2649.7587976\ttotal: 16.4s\tremaining: 2m 24s\n",
      "61:\tlearn: 2649.0767790\ttotal: 16.6s\tremaining: 2m 24s\n",
      "62:\tlearn: 2648.2567608\ttotal: 16.9s\tremaining: 2m 23s\n",
      "63:\tlearn: 2647.6134962\ttotal: 17.1s\tremaining: 2m 22s\n",
      "64:\tlearn: 2646.8398257\ttotal: 17.3s\tremaining: 2m 22s\n",
      "65:\tlearn: 2646.3823956\ttotal: 17.5s\tremaining: 2m 21s\n",
      "66:\tlearn: 2645.2983360\ttotal: 17.7s\tremaining: 2m 20s\n",
      "67:\tlearn: 2643.8457386\ttotal: 18s\tremaining: 2m 20s\n",
      "68:\tlearn: 2642.9077692\ttotal: 18.2s\tremaining: 2m 20s\n",
      "69:\tlearn: 2642.1662238\ttotal: 18.4s\tremaining: 2m 19s\n",
      "70:\tlearn: 2641.6088673\ttotal: 18.6s\tremaining: 2m 18s\n",
      "71:\tlearn: 2640.7616997\ttotal: 18.8s\tremaining: 2m 18s\n",
      "72:\tlearn: 2639.9734265\ttotal: 19.1s\tremaining: 2m 17s\n",
      "73:\tlearn: 2639.0958600\ttotal: 19.3s\tremaining: 2m 17s\n",
      "74:\tlearn: 2638.4961817\ttotal: 19.5s\tremaining: 2m 16s\n",
      "75:\tlearn: 2637.9636695\ttotal: 19.7s\tremaining: 2m 15s\n",
      "76:\tlearn: 2637.5336395\ttotal: 19.9s\tremaining: 2m 15s\n",
      "77:\tlearn: 2636.4148363\ttotal: 20.2s\tremaining: 2m 14s\n",
      "78:\tlearn: 2635.5870580\ttotal: 20.4s\tremaining: 2m 14s\n",
      "79:\tlearn: 2634.9617225\ttotal: 20.7s\tremaining: 2m 14s\n",
      "80:\tlearn: 2634.1485829\ttotal: 20.9s\tremaining: 2m 13s\n",
      "81:\tlearn: 2633.4052939\ttotal: 21.1s\tremaining: 2m 13s\n",
      "82:\tlearn: 2632.2190662\ttotal: 21.4s\tremaining: 2m 13s\n",
      "83:\tlearn: 2631.7445331\ttotal: 21.6s\tremaining: 2m 12s\n",
      "84:\tlearn: 2631.0071278\ttotal: 21.8s\tremaining: 2m 12s\n",
      "85:\tlearn: 2630.5757317\ttotal: 22.1s\tremaining: 2m 11s\n",
      "86:\tlearn: 2629.8986646\ttotal: 22.3s\tremaining: 2m 11s\n",
      "87:\tlearn: 2629.5885355\ttotal: 22.5s\tremaining: 2m 10s\n",
      "88:\tlearn: 2628.9710432\ttotal: 22.7s\tremaining: 2m 10s\n",
      "89:\tlearn: 2628.3585040\ttotal: 23s\tremaining: 2m 10s\n",
      "90:\tlearn: 2627.1300727\ttotal: 23.3s\tremaining: 2m 10s\n",
      "91:\tlearn: 2626.7206036\ttotal: 23.6s\tremaining: 2m 10s\n",
      "92:\tlearn: 2626.1939954\ttotal: 23.8s\tremaining: 2m 9s\n",
      "93:\tlearn: 2625.6462624\ttotal: 24s\tremaining: 2m 9s\n",
      "94:\tlearn: 2625.0359624\ttotal: 24.3s\tremaining: 2m 9s\n",
      "95:\tlearn: 2624.4900878\ttotal: 24.5s\tremaining: 2m 8s\n",
      "96:\tlearn: 2623.4250262\ttotal: 24.7s\tremaining: 2m 8s\n",
      "97:\tlearn: 2622.9839852\ttotal: 25s\tremaining: 2m 7s\n",
      "98:\tlearn: 2622.6242142\ttotal: 25.2s\tremaining: 2m 7s\n",
      "99:\tlearn: 2622.1344381\ttotal: 25.4s\tremaining: 2m 7s\n",
      "100:\tlearn: 2621.6270552\ttotal: 25.6s\tremaining: 2m 6s\n",
      "101:\tlearn: 2620.4420626\ttotal: 25.9s\tremaining: 2m 6s\n",
      "102:\tlearn: 2619.9845112\ttotal: 26.1s\tremaining: 2m 5s\n",
      "103:\tlearn: 2619.0669169\ttotal: 26.3s\tremaining: 2m 5s\n",
      "104:\tlearn: 2618.5626935\ttotal: 26.6s\tremaining: 2m 5s\n",
      "105:\tlearn: 2617.9559006\ttotal: 26.8s\tremaining: 2m 4s\n",
      "106:\tlearn: 2617.1677434\ttotal: 27.1s\tremaining: 2m 4s\n",
      "107:\tlearn: 2616.6799845\ttotal: 27.3s\tremaining: 2m 4s\n",
      "108:\tlearn: 2616.1734049\ttotal: 27.5s\tremaining: 2m 3s\n",
      "109:\tlearn: 2615.5744767\ttotal: 27.8s\tremaining: 2m 3s\n",
      "110:\tlearn: 2614.8840719\ttotal: 28s\tremaining: 2m 3s\n",
      "111:\tlearn: 2614.5186011\ttotal: 28.2s\tremaining: 2m 2s\n",
      "112:\tlearn: 2614.0707967\ttotal: 28.4s\tremaining: 2m 2s\n",
      "113:\tlearn: 2613.8753240\ttotal: 28.6s\tremaining: 2m 2s\n",
      "114:\tlearn: 2613.1192726\ttotal: 28.9s\tremaining: 2m 1s\n",
      "115:\tlearn: 2612.6199018\ttotal: 29.1s\tremaining: 2m 1s\n",
      "116:\tlearn: 2611.7419485\ttotal: 29.4s\tremaining: 2m 1s\n",
      "117:\tlearn: 2611.3912204\ttotal: 29.6s\tremaining: 2m\n",
      "118:\tlearn: 2611.0433272\ttotal: 29.8s\tremaining: 2m\n",
      "119:\tlearn: 2610.7341491\ttotal: 30s\tremaining: 2m\n",
      "120:\tlearn: 2609.7470760\ttotal: 30.3s\tremaining: 1m 59s\n",
      "121:\tlearn: 2609.3877089\ttotal: 30.5s\tremaining: 1m 59s\n",
      "122:\tlearn: 2608.9462870\ttotal: 30.7s\tremaining: 1m 59s\n",
      "123:\tlearn: 2608.2797136\ttotal: 31s\tremaining: 1m 58s\n",
      "124:\tlearn: 2608.0009822\ttotal: 31.2s\tremaining: 1m 58s\n",
      "125:\tlearn: 2607.5406691\ttotal: 31.5s\tremaining: 1m 58s\n",
      "126:\tlearn: 2607.0959951\ttotal: 31.7s\tremaining: 1m 58s\n",
      "127:\tlearn: 2606.7757190\ttotal: 31.9s\tremaining: 1m 57s\n",
      "128:\tlearn: 2606.4539447\ttotal: 32.3s\tremaining: 1m 57s\n",
      "129:\tlearn: 2606.1410376\ttotal: 32.6s\tremaining: 1m 57s\n",
      "130:\tlearn: 2605.6618044\ttotal: 32.9s\tremaining: 1m 57s\n",
      "131:\tlearn: 2605.2781120\ttotal: 33.2s\tremaining: 1m 57s\n",
      "132:\tlearn: 2604.9300661\ttotal: 33.5s\tremaining: 1m 57s\n",
      "133:\tlearn: 2604.2753783\ttotal: 33.9s\tremaining: 1m 57s\n",
      "134:\tlearn: 2604.0632224\ttotal: 34.2s\tremaining: 1m 57s\n",
      "135:\tlearn: 2603.3708296\ttotal: 34.5s\tremaining: 1m 57s\n",
      "136:\tlearn: 2603.1357923\ttotal: 34.7s\tremaining: 1m 57s\n",
      "137:\tlearn: 2602.7898490\ttotal: 35.1s\tremaining: 1m 57s\n",
      "138:\tlearn: 2602.3937883\ttotal: 35.6s\tremaining: 1m 58s\n",
      "139:\tlearn: 2601.9334314\ttotal: 36.1s\tremaining: 1m 58s\n",
      "140:\tlearn: 2601.6874355\ttotal: 36.6s\tremaining: 1m 59s\n",
      "141:\tlearn: 2601.3815217\ttotal: 37.1s\tremaining: 1m 59s\n",
      "142:\tlearn: 2601.2241004\ttotal: 37.6s\tremaining: 2m\n",
      "143:\tlearn: 2600.6573704\ttotal: 38.2s\tremaining: 2m\n",
      "144:\tlearn: 2600.3320538\ttotal: 38.6s\tremaining: 2m 1s\n",
      "145:\tlearn: 2600.0889595\ttotal: 39s\tremaining: 2m 1s\n",
      "146:\tlearn: 2599.7363308\ttotal: 39.5s\tremaining: 2m 1s\n",
      "147:\tlearn: 2599.3748559\ttotal: 40.2s\tremaining: 2m 2s\n",
      "148:\tlearn: 2599.1466793\ttotal: 40.8s\tremaining: 2m 3s\n",
      "149:\tlearn: 2598.8674466\ttotal: 41.4s\tremaining: 2m 4s\n"
     ]
    },
    {
     "name": "stdout",
     "output_type": "stream",
     "text": [
      "150:\tlearn: 2598.5738800\ttotal: 41.8s\tremaining: 2m 4s\n",
      "151:\tlearn: 2598.3131073\ttotal: 42.3s\tremaining: 2m 4s\n",
      "152:\tlearn: 2597.7401355\ttotal: 42.8s\tremaining: 2m 4s\n",
      "153:\tlearn: 2597.4404092\ttotal: 43.1s\tremaining: 2m 4s\n",
      "154:\tlearn: 2596.9362929\ttotal: 43.3s\tremaining: 2m 4s\n",
      "155:\tlearn: 2596.3331148\ttotal: 43.6s\tremaining: 2m 4s\n",
      "156:\tlearn: 2596.0313701\ttotal: 43.8s\tremaining: 2m 3s\n",
      "157:\tlearn: 2595.7290209\ttotal: 44s\tremaining: 2m 3s\n",
      "158:\tlearn: 2595.3279745\ttotal: 44.2s\tremaining: 2m 2s\n",
      "159:\tlearn: 2595.0962326\ttotal: 44.5s\tremaining: 2m 2s\n",
      "160:\tlearn: 2594.7448873\ttotal: 44.7s\tremaining: 2m 1s\n",
      "161:\tlearn: 2594.4517760\ttotal: 44.9s\tremaining: 2m 1s\n",
      "162:\tlearn: 2594.2306213\ttotal: 45.1s\tremaining: 2m\n",
      "163:\tlearn: 2594.0374167\ttotal: 45.4s\tremaining: 2m\n",
      "164:\tlearn: 2593.5326308\ttotal: 45.6s\tremaining: 2m\n",
      "165:\tlearn: 2593.2411049\ttotal: 45.9s\tremaining: 1m 59s\n",
      "166:\tlearn: 2593.1100804\ttotal: 46.1s\tremaining: 1m 59s\n",
      "167:\tlearn: 2592.8128234\ttotal: 46.3s\tremaining: 1m 59s\n",
      "168:\tlearn: 2592.5508430\ttotal: 46.5s\tremaining: 1m 58s\n",
      "169:\tlearn: 2592.4110856\ttotal: 46.7s\tremaining: 1m 58s\n",
      "170:\tlearn: 2592.1287131\ttotal: 46.9s\tremaining: 1m 57s\n",
      "171:\tlearn: 2591.6731562\ttotal: 47.2s\tremaining: 1m 57s\n",
      "172:\tlearn: 2591.3628691\ttotal: 47.3s\tremaining: 1m 56s\n",
      "173:\tlearn: 2591.0960498\ttotal: 47.6s\tremaining: 1m 56s\n",
      "174:\tlearn: 2590.7618600\ttotal: 47.8s\tremaining: 1m 56s\n",
      "175:\tlearn: 2590.5050218\ttotal: 48s\tremaining: 1m 55s\n",
      "176:\tlearn: 2589.9848665\ttotal: 48.3s\tremaining: 1m 55s\n",
      "177:\tlearn: 2589.6686331\ttotal: 48.7s\tremaining: 1m 55s\n",
      "178:\tlearn: 2589.4314074\ttotal: 48.9s\tremaining: 1m 54s\n",
      "179:\tlearn: 2589.2199828\ttotal: 49.1s\tremaining: 1m 54s\n",
      "180:\tlearn: 2589.0230768\ttotal: 49.3s\tremaining: 1m 54s\n",
      "181:\tlearn: 2588.8373457\ttotal: 49.5s\tremaining: 1m 53s\n",
      "182:\tlearn: 2588.5921516\ttotal: 49.7s\tremaining: 1m 53s\n",
      "183:\tlearn: 2588.4372625\ttotal: 50s\tremaining: 1m 52s\n",
      "184:\tlearn: 2587.9240306\ttotal: 50.2s\tremaining: 1m 52s\n",
      "185:\tlearn: 2587.6965211\ttotal: 50.4s\tremaining: 1m 52s\n",
      "186:\tlearn: 2587.2661597\ttotal: 50.7s\tremaining: 1m 51s\n",
      "187:\tlearn: 2587.0288193\ttotal: 50.9s\tremaining: 1m 51s\n",
      "188:\tlearn: 2586.8657100\ttotal: 51.1s\tremaining: 1m 51s\n",
      "189:\tlearn: 2586.4309859\ttotal: 51.4s\tremaining: 1m 50s\n",
      "190:\tlearn: 2586.1669662\ttotal: 51.6s\tremaining: 1m 50s\n",
      "191:\tlearn: 2585.8929408\ttotal: 51.8s\tremaining: 1m 50s\n",
      "192:\tlearn: 2585.6446100\ttotal: 52s\tremaining: 1m 49s\n",
      "193:\tlearn: 2585.2991786\ttotal: 52.3s\tremaining: 1m 49s\n",
      "194:\tlearn: 2585.1004761\ttotal: 52.4s\tremaining: 1m 48s\n",
      "195:\tlearn: 2584.7900218\ttotal: 52.7s\tremaining: 1m 48s\n",
      "196:\tlearn: 2584.4530279\ttotal: 52.9s\tremaining: 1m 48s\n",
      "197:\tlearn: 2584.1602751\ttotal: 53.2s\tremaining: 1m 47s\n",
      "198:\tlearn: 2583.8114552\ttotal: 53.4s\tremaining: 1m 47s\n",
      "199:\tlearn: 2583.5250257\ttotal: 53.6s\tremaining: 1m 47s\n",
      "200:\tlearn: 2583.2501115\ttotal: 53.8s\tremaining: 1m 46s\n",
      "201:\tlearn: 2583.0974510\ttotal: 54s\tremaining: 1m 46s\n",
      "202:\tlearn: 2582.7724522\ttotal: 54.3s\tremaining: 1m 46s\n",
      "203:\tlearn: 2582.6373425\ttotal: 54.5s\tremaining: 1m 45s\n",
      "204:\tlearn: 2582.4990606\ttotal: 54.8s\tremaining: 1m 45s\n",
      "205:\tlearn: 2582.2339276\ttotal: 55s\tremaining: 1m 45s\n",
      "206:\tlearn: 2581.8957282\ttotal: 55.2s\tremaining: 1m 44s\n",
      "207:\tlearn: 2581.5814190\ttotal: 55.4s\tremaining: 1m 44s\n",
      "208:\tlearn: 2581.2169566\ttotal: 55.7s\tremaining: 1m 44s\n",
      "209:\tlearn: 2580.9994703\ttotal: 55.9s\tremaining: 1m 43s\n",
      "210:\tlearn: 2580.6833348\ttotal: 56.1s\tremaining: 1m 43s\n",
      "211:\tlearn: 2580.5624557\ttotal: 56.3s\tremaining: 1m 43s\n",
      "212:\tlearn: 2580.0180784\ttotal: 56.5s\tremaining: 1m 42s\n",
      "213:\tlearn: 2579.7414514\ttotal: 56.8s\tremaining: 1m 42s\n",
      "214:\tlearn: 2579.5898047\ttotal: 57s\tremaining: 1m 42s\n",
      "215:\tlearn: 2579.3652425\ttotal: 57.2s\tremaining: 1m 41s\n",
      "216:\tlearn: 2579.1233081\ttotal: 57.4s\tremaining: 1m 41s\n",
      "217:\tlearn: 2578.9581113\ttotal: 57.6s\tremaining: 1m 40s\n",
      "218:\tlearn: 2578.6418264\ttotal: 57.8s\tremaining: 1m 40s\n",
      "219:\tlearn: 2578.4003358\ttotal: 58s\tremaining: 1m 40s\n",
      "220:\tlearn: 2578.1982631\ttotal: 58.3s\tremaining: 1m 39s\n",
      "221:\tlearn: 2578.0843144\ttotal: 58.5s\tremaining: 1m 39s\n",
      "222:\tlearn: 2577.8881962\ttotal: 58.7s\tremaining: 1m 39s\n",
      "223:\tlearn: 2577.3312944\ttotal: 59s\tremaining: 1m 39s\n",
      "224:\tlearn: 2577.0343748\ttotal: 59.4s\tremaining: 1m 38s\n",
      "225:\tlearn: 2576.7547655\ttotal: 59.7s\tremaining: 1m 38s\n",
      "226:\tlearn: 2576.6013051\ttotal: 1m\tremaining: 1m 38s\n",
      "227:\tlearn: 2576.3686822\ttotal: 1m\tremaining: 1m 38s\n",
      "228:\tlearn: 2576.0999322\ttotal: 1m\tremaining: 1m 38s\n",
      "229:\tlearn: 2575.9149627\ttotal: 1m\tremaining: 1m 37s\n",
      "230:\tlearn: 2575.5988067\ttotal: 1m\tremaining: 1m 37s\n",
      "231:\tlearn: 2574.9986082\ttotal: 1m 1s\tremaining: 1m 37s\n",
      "232:\tlearn: 2574.6227287\ttotal: 1m 1s\tremaining: 1m 36s\n",
      "233:\tlearn: 2574.2836511\ttotal: 1m 1s\tremaining: 1m 36s\n",
      "234:\tlearn: 2573.9146529\ttotal: 1m 1s\tremaining: 1m 36s\n",
      "235:\tlearn: 2573.7051406\ttotal: 1m 2s\tremaining: 1m 35s\n",
      "236:\tlearn: 2573.5215346\ttotal: 1m 2s\tremaining: 1m 35s\n",
      "237:\tlearn: 2573.3265805\ttotal: 1m 2s\tremaining: 1m 35s\n",
      "238:\tlearn: 2573.0737241\ttotal: 1m 2s\tremaining: 1m 34s\n",
      "239:\tlearn: 2572.6318936\ttotal: 1m 3s\tremaining: 1m 34s\n",
      "240:\tlearn: 2572.4194079\ttotal: 1m 3s\tremaining: 1m 34s\n",
      "241:\tlearn: 2572.2828136\ttotal: 1m 3s\tremaining: 1m 33s\n",
      "242:\tlearn: 2572.0708737\ttotal: 1m 3s\tremaining: 1m 33s\n",
      "243:\tlearn: 2571.8142130\ttotal: 1m 3s\tremaining: 1m 33s\n",
      "244:\tlearn: 2571.5742248\ttotal: 1m 4s\tremaining: 1m 32s\n",
      "245:\tlearn: 2571.2798937\ttotal: 1m 4s\tremaining: 1m 32s\n",
      "246:\tlearn: 2571.0401813\ttotal: 1m 4s\tremaining: 1m 32s\n",
      "247:\tlearn: 2570.8159127\ttotal: 1m 4s\tremaining: 1m 32s\n",
      "248:\tlearn: 2570.7035865\ttotal: 1m 5s\tremaining: 1m 31s\n",
      "249:\tlearn: 2570.4859554\ttotal: 1m 5s\tremaining: 1m 31s\n",
      "250:\tlearn: 2570.1386995\ttotal: 1m 5s\tremaining: 1m 31s\n",
      "251:\tlearn: 2569.9396058\ttotal: 1m 5s\tremaining: 1m 30s\n",
      "252:\tlearn: 2569.5590179\ttotal: 1m 6s\tremaining: 1m 30s\n",
      "253:\tlearn: 2569.2544895\ttotal: 1m 6s\tremaining: 1m 30s\n",
      "254:\tlearn: 2569.0486995\ttotal: 1m 6s\tremaining: 1m 29s\n",
      "255:\tlearn: 2568.9321825\ttotal: 1m 6s\tremaining: 1m 29s\n",
      "256:\tlearn: 2568.6712607\ttotal: 1m 6s\tremaining: 1m 29s\n",
      "257:\tlearn: 2568.4570992\ttotal: 1m 7s\tremaining: 1m 29s\n",
      "258:\tlearn: 2568.0292924\ttotal: 1m 7s\tremaining: 1m 28s\n",
      "259:\tlearn: 2567.8622875\ttotal: 1m 7s\tremaining: 1m 28s\n",
      "260:\tlearn: 2567.4580496\ttotal: 1m 7s\tremaining: 1m 28s\n",
      "261:\tlearn: 2567.2426544\ttotal: 1m 8s\tremaining: 1m 27s\n",
      "262:\tlearn: 2567.0869436\ttotal: 1m 8s\tremaining: 1m 27s\n",
      "263:\tlearn: 2566.8691101\ttotal: 1m 8s\tremaining: 1m 27s\n",
      "264:\tlearn: 2566.6010207\ttotal: 1m 8s\tremaining: 1m 26s\n",
      "265:\tlearn: 2566.4204698\ttotal: 1m 8s\tremaining: 1m 26s\n",
      "266:\tlearn: 2566.2527005\ttotal: 1m 9s\tremaining: 1m 26s\n",
      "267:\tlearn: 2566.0832527\ttotal: 1m 9s\tremaining: 1m 26s\n",
      "268:\tlearn: 2565.3572578\ttotal: 1m 10s\tremaining: 1m 26s\n",
      "269:\tlearn: 2565.1599046\ttotal: 1m 10s\tremaining: 1m 26s\n",
      "270:\tlearn: 2564.7689513\ttotal: 1m 10s\tremaining: 1m 25s\n",
      "271:\tlearn: 2564.5950037\ttotal: 1m 11s\tremaining: 1m 25s\n",
      "272:\tlearn: 2564.2299651\ttotal: 1m 11s\tremaining: 1m 25s\n",
      "273:\tlearn: 2563.8508693\ttotal: 1m 11s\tremaining: 1m 25s\n",
      "274:\tlearn: 2563.6631634\ttotal: 1m 12s\tremaining: 1m 25s\n",
      "275:\tlearn: 2563.4707454\ttotal: 1m 12s\tremaining: 1m 25s\n",
      "276:\tlearn: 2562.8011095\ttotal: 1m 13s\tremaining: 1m 25s\n",
      "277:\tlearn: 2562.6400567\ttotal: 1m 14s\tremaining: 1m 25s\n",
      "278:\tlearn: 2562.3896851\ttotal: 1m 14s\tremaining: 1m 26s\n",
      "279:\tlearn: 2562.2021764\ttotal: 1m 15s\tremaining: 1m 26s\n",
      "280:\tlearn: 2561.7482762\ttotal: 1m 16s\tremaining: 1m 27s\n",
      "281:\tlearn: 2561.4793741\ttotal: 1m 17s\tremaining: 1m 27s\n",
      "282:\tlearn: 2561.2939051\ttotal: 1m 18s\tremaining: 1m 27s\n",
      "283:\tlearn: 2561.0357864\ttotal: 1m 19s\tremaining: 1m 28s\n",
      "284:\tlearn: 2560.8390805\ttotal: 1m 20s\tremaining: 1m 28s\n",
      "285:\tlearn: 2560.4323424\ttotal: 1m 20s\tremaining: 1m 28s\n",
      "286:\tlearn: 2560.2977252\ttotal: 1m 21s\tremaining: 1m 28s\n",
      "287:\tlearn: 2560.1758975\ttotal: 1m 22s\tremaining: 1m 28s\n",
      "288:\tlearn: 2559.8824201\ttotal: 1m 23s\tremaining: 1m 29s\n",
      "289:\tlearn: 2559.6174835\ttotal: 1m 24s\tremaining: 1m 29s\n",
      "290:\tlearn: 2559.4206008\ttotal: 1m 24s\tremaining: 1m 30s\n",
      "291:\tlearn: 2558.9818681\ttotal: 1m 25s\tremaining: 1m 30s\n",
      "292:\tlearn: 2558.7872892\ttotal: 1m 26s\tremaining: 1m 30s\n",
      "293:\tlearn: 2558.7032614\ttotal: 1m 27s\tremaining: 1m 31s\n",
      "294:\tlearn: 2558.5115616\ttotal: 1m 28s\tremaining: 1m 30s\n",
      "295:\tlearn: 2558.3263492\ttotal: 1m 28s\tremaining: 1m 30s\n",
      "296:\tlearn: 2557.8624378\ttotal: 1m 29s\tremaining: 1m 30s\n"
     ]
    },
    {
     "name": "stdout",
     "output_type": "stream",
     "text": [
      "297:\tlearn: 2557.6625559\ttotal: 1m 29s\tremaining: 1m 30s\n",
      "298:\tlearn: 2557.4423993\ttotal: 1m 30s\tremaining: 1m 30s\n",
      "299:\tlearn: 2557.0495164\ttotal: 1m 30s\tremaining: 1m 30s\n",
      "300:\tlearn: 2556.8913493\ttotal: 1m 31s\tremaining: 1m 30s\n",
      "301:\tlearn: 2556.7713200\ttotal: 1m 31s\tremaining: 1m 30s\n",
      "302:\tlearn: 2556.4691118\ttotal: 1m 31s\tremaining: 1m 30s\n",
      "303:\tlearn: 2556.2662154\ttotal: 1m 32s\tremaining: 1m 29s\n",
      "304:\tlearn: 2556.0513804\ttotal: 1m 32s\tremaining: 1m 29s\n",
      "305:\tlearn: 2555.8705155\ttotal: 1m 33s\tremaining: 1m 29s\n",
      "306:\tlearn: 2555.7878160\ttotal: 1m 33s\tremaining: 1m 29s\n",
      "307:\tlearn: 2555.4923141\ttotal: 1m 33s\tremaining: 1m 28s\n",
      "308:\tlearn: 2555.3766131\ttotal: 1m 33s\tremaining: 1m 28s\n",
      "309:\tlearn: 2554.9369595\ttotal: 1m 34s\tremaining: 1m 28s\n",
      "310:\tlearn: 2554.5935593\ttotal: 1m 34s\tremaining: 1m 27s\n",
      "311:\tlearn: 2554.2493442\ttotal: 1m 34s\tremaining: 1m 27s\n",
      "312:\tlearn: 2554.0623545\ttotal: 1m 35s\tremaining: 1m 27s\n",
      "313:\tlearn: 2553.9837710\ttotal: 1m 35s\tremaining: 1m 26s\n",
      "314:\tlearn: 2553.7401231\ttotal: 1m 35s\tremaining: 1m 26s\n",
      "315:\tlearn: 2553.5603308\ttotal: 1m 35s\tremaining: 1m 26s\n",
      "316:\tlearn: 2553.3150669\ttotal: 1m 36s\tremaining: 1m 25s\n",
      "317:\tlearn: 2553.0304060\ttotal: 1m 36s\tremaining: 1m 25s\n",
      "318:\tlearn: 2552.7086837\ttotal: 1m 36s\tremaining: 1m 25s\n",
      "319:\tlearn: 2552.2668485\ttotal: 1m 36s\tremaining: 1m 24s\n",
      "320:\tlearn: 2552.0375298\ttotal: 1m 37s\tremaining: 1m 24s\n",
      "321:\tlearn: 2551.7483210\ttotal: 1m 37s\tremaining: 1m 24s\n",
      "322:\tlearn: 2551.5601312\ttotal: 1m 37s\tremaining: 1m 23s\n",
      "323:\tlearn: 2551.2418305\ttotal: 1m 38s\tremaining: 1m 23s\n",
      "324:\tlearn: 2550.9868342\ttotal: 1m 38s\tremaining: 1m 23s\n",
      "325:\tlearn: 2550.6696711\ttotal: 1m 38s\tremaining: 1m 22s\n",
      "326:\tlearn: 2550.5659410\ttotal: 1m 38s\tremaining: 1m 22s\n",
      "327:\tlearn: 2550.1170064\ttotal: 1m 39s\tremaining: 1m 22s\n",
      "328:\tlearn: 2549.9757431\ttotal: 1m 39s\tremaining: 1m 22s\n",
      "329:\tlearn: 2549.8353357\ttotal: 1m 39s\tremaining: 1m 21s\n",
      "330:\tlearn: 2549.7109616\ttotal: 1m 40s\tremaining: 1m 21s\n",
      "331:\tlearn: 2549.2626604\ttotal: 1m 40s\tremaining: 1m 21s\n",
      "332:\tlearn: 2548.9520329\ttotal: 1m 40s\tremaining: 1m 20s\n",
      "333:\tlearn: 2548.7174996\ttotal: 1m 41s\tremaining: 1m 20s\n",
      "334:\tlearn: 2548.5647620\ttotal: 1m 41s\tremaining: 1m 20s\n",
      "335:\tlearn: 2548.3123313\ttotal: 1m 41s\tremaining: 1m 19s\n",
      "336:\tlearn: 2548.0840548\ttotal: 1m 41s\tremaining: 1m 19s\n",
      "337:\tlearn: 2547.7752439\ttotal: 1m 42s\tremaining: 1m 19s\n",
      "338:\tlearn: 2547.3928044\ttotal: 1m 42s\tremaining: 1m 18s\n",
      "339:\tlearn: 2547.0936556\ttotal: 1m 42s\tremaining: 1m 18s\n",
      "340:\tlearn: 2547.0240254\ttotal: 1m 42s\tremaining: 1m 18s\n",
      "341:\tlearn: 2546.8340298\ttotal: 1m 43s\tremaining: 1m 17s\n",
      "342:\tlearn: 2546.6622052\ttotal: 1m 43s\tremaining: 1m 17s\n",
      "343:\tlearn: 2546.4845353\ttotal: 1m 43s\tremaining: 1m 17s\n",
      "344:\tlearn: 2546.3411996\ttotal: 1m 44s\tremaining: 1m 16s\n",
      "345:\tlearn: 2546.2593393\ttotal: 1m 44s\tremaining: 1m 16s\n",
      "346:\tlearn: 2546.0364991\ttotal: 1m 44s\tremaining: 1m 16s\n",
      "347:\tlearn: 2545.8229809\ttotal: 1m 45s\tremaining: 1m 16s\n",
      "348:\tlearn: 2545.5995554\ttotal: 1m 45s\tremaining: 1m 15s\n",
      "349:\tlearn: 2545.4142348\ttotal: 1m 45s\tremaining: 1m 15s\n",
      "350:\tlearn: 2545.1889616\ttotal: 1m 45s\tremaining: 1m 15s\n",
      "351:\tlearn: 2544.8369612\ttotal: 1m 46s\tremaining: 1m 14s\n",
      "352:\tlearn: 2544.4877209\ttotal: 1m 46s\tremaining: 1m 14s\n",
      "353:\tlearn: 2544.2175360\ttotal: 1m 46s\tremaining: 1m 14s\n",
      "354:\tlearn: 2544.0742292\ttotal: 1m 47s\tremaining: 1m 14s\n",
      "355:\tlearn: 2543.8881353\ttotal: 1m 47s\tremaining: 1m 13s\n",
      "356:\tlearn: 2543.6941447\ttotal: 1m 47s\tremaining: 1m 13s\n",
      "357:\tlearn: 2543.4704866\ttotal: 1m 48s\tremaining: 1m 13s\n",
      "358:\tlearn: 2543.1084819\ttotal: 1m 48s\tremaining: 1m 12s\n",
      "359:\tlearn: 2542.8652101\ttotal: 1m 48s\tremaining: 1m 12s\n",
      "360:\tlearn: 2542.4409969\ttotal: 1m 49s\tremaining: 1m 12s\n",
      "361:\tlearn: 2542.2816807\ttotal: 1m 49s\tremaining: 1m 12s\n",
      "362:\tlearn: 2542.1180439\ttotal: 1m 49s\tremaining: 1m 11s\n",
      "363:\tlearn: 2541.8547966\ttotal: 1m 50s\tremaining: 1m 11s\n",
      "364:\tlearn: 2541.8105082\ttotal: 1m 50s\tremaining: 1m 11s\n",
      "365:\tlearn: 2541.6950289\ttotal: 1m 50s\tremaining: 1m 10s\n",
      "366:\tlearn: 2541.6158922\ttotal: 1m 51s\tremaining: 1m 10s\n",
      "367:\tlearn: 2541.1102990\ttotal: 1m 51s\tremaining: 1m 10s\n",
      "368:\tlearn: 2540.7947041\ttotal: 1m 51s\tremaining: 1m 9s\n",
      "369:\tlearn: 2540.6569556\ttotal: 1m 52s\tremaining: 1m 9s\n",
      "370:\tlearn: 2540.3090664\ttotal: 1m 52s\tremaining: 1m 9s\n",
      "371:\tlearn: 2540.1026779\ttotal: 1m 52s\tremaining: 1m 8s\n",
      "372:\tlearn: 2539.9187810\ttotal: 1m 52s\tremaining: 1m 8s\n",
      "373:\tlearn: 2539.8192192\ttotal: 1m 53s\tremaining: 1m 8s\n",
      "374:\tlearn: 2539.6491218\ttotal: 1m 53s\tremaining: 1m 8s\n",
      "375:\tlearn: 2539.3856744\ttotal: 1m 53s\tremaining: 1m 7s\n",
      "376:\tlearn: 2539.2718042\ttotal: 1m 53s\tremaining: 1m 7s\n",
      "377:\tlearn: 2538.8350560\ttotal: 1m 54s\tremaining: 1m 7s\n",
      "378:\tlearn: 2538.7021535\ttotal: 1m 54s\tremaining: 1m 6s\n",
      "379:\tlearn: 2538.4893306\ttotal: 1m 54s\tremaining: 1m 6s\n",
      "380:\tlearn: 2538.3051626\ttotal: 1m 55s\tremaining: 1m 6s\n",
      "381:\tlearn: 2538.0660678\ttotal: 1m 55s\tremaining: 1m 5s\n",
      "382:\tlearn: 2537.9087521\ttotal: 1m 55s\tremaining: 1m 5s\n",
      "383:\tlearn: 2537.7037506\ttotal: 1m 55s\tremaining: 1m 5s\n",
      "384:\tlearn: 2537.5142260\ttotal: 1m 56s\tremaining: 1m 4s\n",
      "385:\tlearn: 2537.2964334\ttotal: 1m 56s\tremaining: 1m 4s\n",
      "386:\tlearn: 2537.0824758\ttotal: 1m 56s\tremaining: 1m 4s\n",
      "387:\tlearn: 2536.9015472\ttotal: 1m 56s\tremaining: 1m 3s\n",
      "388:\tlearn: 2536.7135546\ttotal: 1m 57s\tremaining: 1m 3s\n",
      "389:\tlearn: 2536.5191639\ttotal: 1m 57s\tremaining: 1m 3s\n",
      "390:\tlearn: 2536.2608361\ttotal: 1m 57s\tremaining: 1m 2s\n",
      "391:\tlearn: 2535.9563030\ttotal: 1m 58s\tremaining: 1m 2s\n",
      "392:\tlearn: 2535.7433048\ttotal: 1m 58s\tremaining: 1m 2s\n",
      "393:\tlearn: 2535.5203480\ttotal: 1m 58s\tremaining: 1m 2s\n",
      "394:\tlearn: 2535.3134838\ttotal: 1m 58s\tremaining: 1m 1s\n",
      "395:\tlearn: 2535.1349639\ttotal: 1m 59s\tremaining: 1m 1s\n",
      "396:\tlearn: 2534.7995399\ttotal: 1m 59s\tremaining: 1m 1s\n",
      "397:\tlearn: 2534.5633637\ttotal: 1m 59s\tremaining: 1m\n",
      "398:\tlearn: 2534.3043962\ttotal: 2m\tremaining: 1m\n",
      "399:\tlearn: 2534.0827941\ttotal: 2m\tremaining: 1m\n",
      "400:\tlearn: 2533.8724921\ttotal: 2m\tremaining: 59.9s\n",
      "401:\tlearn: 2533.7715419\ttotal: 2m 1s\tremaining: 59.6s\n",
      "402:\tlearn: 2533.4760776\ttotal: 2m 1s\tremaining: 59.4s\n",
      "403:\tlearn: 2533.3272703\ttotal: 2m 1s\tremaining: 59s\n",
      "404:\tlearn: 2533.1304051\ttotal: 2m 1s\tremaining: 58.7s\n",
      "405:\tlearn: 2533.0331226\ttotal: 2m 2s\tremaining: 58.4s\n",
      "406:\tlearn: 2532.7199296\ttotal: 2m 2s\tremaining: 58.2s\n",
      "407:\tlearn: 2532.4677242\ttotal: 2m 2s\tremaining: 57.9s\n",
      "408:\tlearn: 2532.2732933\ttotal: 2m 3s\tremaining: 57.5s\n",
      "409:\tlearn: 2531.9319587\ttotal: 2m 3s\tremaining: 57.3s\n",
      "410:\tlearn: 2531.8125914\ttotal: 2m 3s\tremaining: 56.9s\n",
      "411:\tlearn: 2531.4758157\ttotal: 2m 4s\tremaining: 56.6s\n",
      "412:\tlearn: 2531.2920654\ttotal: 2m 4s\tremaining: 56.3s\n",
      "413:\tlearn: 2531.1726799\ttotal: 2m 4s\tremaining: 56s\n",
      "414:\tlearn: 2530.9438583\ttotal: 2m 4s\tremaining: 55.7s\n",
      "415:\tlearn: 2530.7488940\ttotal: 2m 5s\tremaining: 55.4s\n",
      "416:\tlearn: 2530.4882504\ttotal: 2m 5s\tremaining: 55.1s\n",
      "417:\tlearn: 2530.2136279\ttotal: 2m 5s\tremaining: 54.8s\n",
      "418:\tlearn: 2530.0486430\ttotal: 2m 6s\tremaining: 54.5s\n",
      "419:\tlearn: 2529.7078892\ttotal: 2m 6s\tremaining: 54.2s\n",
      "420:\tlearn: 2529.6006908\ttotal: 2m 6s\tremaining: 53.9s\n",
      "421:\tlearn: 2529.5131279\ttotal: 2m 6s\tremaining: 53.5s\n",
      "422:\tlearn: 2529.3853582\ttotal: 2m 7s\tremaining: 53.2s\n",
      "423:\tlearn: 2529.2897637\ttotal: 2m 7s\tremaining: 53s\n",
      "424:\tlearn: 2529.0224117\ttotal: 2m 8s\tremaining: 52.7s\n",
      "425:\tlearn: 2528.8128921\ttotal: 2m 8s\tremaining: 52.4s\n",
      "426:\tlearn: 2528.7331598\ttotal: 2m 8s\tremaining: 52.1s\n",
      "427:\tlearn: 2528.4756020\ttotal: 2m 8s\tremaining: 51.8s\n",
      "428:\tlearn: 2528.3242808\ttotal: 2m 9s\tremaining: 51.5s\n",
      "429:\tlearn: 2528.1624809\ttotal: 2m 9s\tremaining: 51.2s\n",
      "430:\tlearn: 2528.0858803\ttotal: 2m 9s\tremaining: 50.9s\n",
      "431:\tlearn: 2527.9318830\ttotal: 2m 10s\tremaining: 50.6s\n",
      "432:\tlearn: 2527.8686384\ttotal: 2m 10s\tremaining: 50.2s\n",
      "433:\tlearn: 2527.6587061\ttotal: 2m 10s\tremaining: 49.9s\n",
      "434:\tlearn: 2527.4744349\ttotal: 2m 10s\tremaining: 49.6s\n",
      "435:\tlearn: 2527.2818194\ttotal: 2m 11s\tremaining: 49.3s\n",
      "436:\tlearn: 2527.0528050\ttotal: 2m 11s\tremaining: 49s\n",
      "437:\tlearn: 2526.8742061\ttotal: 2m 11s\tremaining: 48.7s\n",
      "438:\tlearn: 2526.7407720\ttotal: 2m 11s\tremaining: 48.3s\n",
      "439:\tlearn: 2526.6016098\ttotal: 2m 12s\tremaining: 48s\n",
      "440:\tlearn: 2526.5181058\ttotal: 2m 12s\tremaining: 47.7s\n",
      "441:\tlearn: 2526.2823404\ttotal: 2m 12s\tremaining: 47.4s\n",
      "442:\tlearn: 2525.9773075\ttotal: 2m 13s\tremaining: 47.1s\n",
      "443:\tlearn: 2525.8426433\ttotal: 2m 13s\tremaining: 46.8s\n"
     ]
    },
    {
     "name": "stdout",
     "output_type": "stream",
     "text": [
      "444:\tlearn: 2525.6999249\ttotal: 2m 13s\tremaining: 46.5s\n",
      "445:\tlearn: 2525.5880541\ttotal: 2m 13s\tremaining: 46.2s\n",
      "446:\tlearn: 2525.4041987\ttotal: 2m 14s\tremaining: 45.9s\n",
      "447:\tlearn: 2525.2155777\ttotal: 2m 14s\tremaining: 45.7s\n",
      "448:\tlearn: 2525.1037356\ttotal: 2m 15s\tremaining: 45.4s\n",
      "449:\tlearn: 2524.8988818\ttotal: 2m 15s\tremaining: 45.1s\n",
      "450:\tlearn: 2524.8036498\ttotal: 2m 15s\tremaining: 44.8s\n",
      "451:\tlearn: 2524.6013245\ttotal: 2m 15s\tremaining: 44.4s\n",
      "452:\tlearn: 2524.3639234\ttotal: 2m 16s\tremaining: 44.1s\n",
      "453:\tlearn: 2524.1590525\ttotal: 2m 16s\tremaining: 43.9s\n",
      "454:\tlearn: 2523.9754287\ttotal: 2m 16s\tremaining: 43.6s\n",
      "455:\tlearn: 2523.7737678\ttotal: 2m 17s\tremaining: 43.3s\n",
      "456:\tlearn: 2523.6047745\ttotal: 2m 17s\tremaining: 43s\n",
      "457:\tlearn: 2523.4977718\ttotal: 2m 17s\tremaining: 42.7s\n",
      "458:\tlearn: 2523.2786043\ttotal: 2m 18s\tremaining: 42.4s\n",
      "459:\tlearn: 2523.1431278\ttotal: 2m 18s\tremaining: 42.2s\n",
      "460:\tlearn: 2522.9645514\ttotal: 2m 18s\tremaining: 41.9s\n",
      "461:\tlearn: 2522.6804088\ttotal: 2m 19s\tremaining: 41.6s\n",
      "462:\tlearn: 2522.5349015\ttotal: 2m 19s\tremaining: 41.2s\n",
      "463:\tlearn: 2522.4166232\ttotal: 2m 19s\tremaining: 40.9s\n",
      "464:\tlearn: 2522.2375762\ttotal: 2m 19s\tremaining: 40.6s\n",
      "465:\tlearn: 2521.9835089\ttotal: 2m 20s\tremaining: 40.3s\n",
      "466:\tlearn: 2521.8357855\ttotal: 2m 20s\tremaining: 40s\n",
      "467:\tlearn: 2521.4532266\ttotal: 2m 20s\tremaining: 39.7s\n",
      "468:\tlearn: 2521.2490843\ttotal: 2m 20s\tremaining: 39.4s\n",
      "469:\tlearn: 2520.9848727\ttotal: 2m 21s\tremaining: 39.1s\n",
      "470:\tlearn: 2520.7589884\ttotal: 2m 21s\tremaining: 38.8s\n",
      "471:\tlearn: 2520.5400566\ttotal: 2m 21s\tremaining: 38.5s\n",
      "472:\tlearn: 2520.3355954\ttotal: 2m 22s\tremaining: 38.1s\n",
      "473:\tlearn: 2520.2142204\ttotal: 2m 22s\tremaining: 37.8s\n",
      "474:\tlearn: 2519.9366991\ttotal: 2m 22s\tremaining: 37.5s\n",
      "475:\tlearn: 2519.7224676\ttotal: 2m 22s\tremaining: 37.2s\n",
      "476:\tlearn: 2519.5706870\ttotal: 2m 23s\tremaining: 36.9s\n",
      "477:\tlearn: 2519.3991665\ttotal: 2m 23s\tremaining: 36.6s\n",
      "478:\tlearn: 2519.0771998\ttotal: 2m 23s\tremaining: 36.2s\n",
      "479:\tlearn: 2518.9251506\ttotal: 2m 23s\tremaining: 35.9s\n",
      "480:\tlearn: 2518.7241568\ttotal: 2m 23s\tremaining: 35.6s\n",
      "481:\tlearn: 2518.6100395\ttotal: 2m 24s\tremaining: 35.3s\n",
      "482:\tlearn: 2518.5091233\ttotal: 2m 24s\tremaining: 35s\n",
      "483:\tlearn: 2518.3305917\ttotal: 2m 24s\tremaining: 34.7s\n",
      "484:\tlearn: 2518.2429898\ttotal: 2m 25s\tremaining: 34.4s\n",
      "485:\tlearn: 2518.1178256\ttotal: 2m 25s\tremaining: 34.1s\n",
      "486:\tlearn: 2518.0670006\ttotal: 2m 25s\tremaining: 33.8s\n",
      "487:\tlearn: 2517.9182412\ttotal: 2m 25s\tremaining: 33.4s\n",
      "488:\tlearn: 2517.6749297\ttotal: 2m 25s\tremaining: 33.1s\n",
      "489:\tlearn: 2517.5609501\ttotal: 2m 26s\tremaining: 32.8s\n",
      "490:\tlearn: 2517.3694863\ttotal: 2m 26s\tremaining: 32.5s\n",
      "491:\tlearn: 2517.0817041\ttotal: 2m 26s\tremaining: 32.2s\n",
      "492:\tlearn: 2516.9112439\ttotal: 2m 26s\tremaining: 31.9s\n",
      "493:\tlearn: 2516.8497953\ttotal: 2m 27s\tremaining: 31.6s\n",
      "494:\tlearn: 2516.6864332\ttotal: 2m 27s\tremaining: 31.3s\n",
      "495:\tlearn: 2516.5692074\ttotal: 2m 27s\tremaining: 30.9s\n",
      "496:\tlearn: 2516.3295024\ttotal: 2m 27s\tremaining: 30.6s\n",
      "497:\tlearn: 2516.0025438\ttotal: 2m 28s\tremaining: 30.3s\n",
      "498:\tlearn: 2515.8773202\ttotal: 2m 28s\tremaining: 30s\n",
      "499:\tlearn: 2515.7312582\ttotal: 2m 28s\tremaining: 29.7s\n",
      "500:\tlearn: 2515.6120998\ttotal: 2m 28s\tremaining: 29.4s\n",
      "501:\tlearn: 2515.4231227\ttotal: 2m 28s\tremaining: 29.1s\n",
      "502:\tlearn: 2515.3104339\ttotal: 2m 29s\tremaining: 28.8s\n",
      "503:\tlearn: 2515.0271214\ttotal: 2m 29s\tremaining: 28.5s\n",
      "504:\tlearn: 2514.8697214\ttotal: 2m 29s\tremaining: 28.1s\n",
      "505:\tlearn: 2514.7187614\ttotal: 2m 29s\tremaining: 27.9s\n",
      "506:\tlearn: 2514.5324049\ttotal: 2m 30s\tremaining: 27.5s\n",
      "507:\tlearn: 2514.3540637\ttotal: 2m 30s\tremaining: 27.2s\n",
      "508:\tlearn: 2514.2715158\ttotal: 2m 30s\tremaining: 26.9s\n",
      "509:\tlearn: 2514.0820311\ttotal: 2m 30s\tremaining: 26.6s\n",
      "510:\tlearn: 2513.8971657\ttotal: 2m 31s\tremaining: 26.3s\n",
      "511:\tlearn: 2513.8243472\ttotal: 2m 31s\tremaining: 26s\n",
      "512:\tlearn: 2513.7458645\ttotal: 2m 31s\tremaining: 25.7s\n",
      "513:\tlearn: 2513.6015025\ttotal: 2m 31s\tremaining: 25.4s\n",
      "514:\tlearn: 2513.3370821\ttotal: 2m 32s\tremaining: 25.1s\n",
      "515:\tlearn: 2513.1162124\ttotal: 2m 32s\tremaining: 24.8s\n",
      "516:\tlearn: 2513.0222369\ttotal: 2m 32s\tremaining: 24.5s\n",
      "517:\tlearn: 2512.8222967\ttotal: 2m 32s\tremaining: 24.2s\n",
      "518:\tlearn: 2512.6624679\ttotal: 2m 33s\tremaining: 23.9s\n",
      "519:\tlearn: 2512.5568107\ttotal: 2m 33s\tremaining: 23.6s\n",
      "520:\tlearn: 2512.4155234\ttotal: 2m 33s\tremaining: 23.3s\n",
      "521:\tlearn: 2512.2216387\ttotal: 2m 33s\tremaining: 23s\n",
      "522:\tlearn: 2511.9949571\ttotal: 2m 33s\tremaining: 22.7s\n",
      "523:\tlearn: 2511.7829615\ttotal: 2m 34s\tremaining: 22.4s\n",
      "524:\tlearn: 2511.6731761\ttotal: 2m 34s\tremaining: 22.1s\n",
      "525:\tlearn: 2511.4707752\ttotal: 2m 34s\tremaining: 21.8s\n",
      "526:\tlearn: 2511.2095184\ttotal: 2m 34s\tremaining: 21.5s\n",
      "527:\tlearn: 2511.1104814\ttotal: 2m 35s\tremaining: 21.2s\n",
      "528:\tlearn: 2510.9795707\ttotal: 2m 35s\tremaining: 20.9s\n",
      "529:\tlearn: 2510.7918816\ttotal: 2m 35s\tremaining: 20.6s\n",
      "530:\tlearn: 2510.5308791\ttotal: 2m 35s\tremaining: 20.3s\n",
      "531:\tlearn: 2510.3021553\ttotal: 2m 36s\tremaining: 20s\n",
      "532:\tlearn: 2510.1835818\ttotal: 2m 36s\tremaining: 19.7s\n",
      "533:\tlearn: 2509.9024650\ttotal: 2m 36s\tremaining: 19.4s\n",
      "534:\tlearn: 2509.7491612\ttotal: 2m 36s\tremaining: 19.1s\n",
      "535:\tlearn: 2509.6221170\ttotal: 2m 37s\tremaining: 18.8s\n",
      "536:\tlearn: 2509.4768969\ttotal: 2m 37s\tremaining: 18.5s\n",
      "537:\tlearn: 2509.3742252\ttotal: 2m 37s\tremaining: 18.2s\n",
      "538:\tlearn: 2509.3174614\ttotal: 2m 37s\tremaining: 17.9s\n",
      "539:\tlearn: 2509.2529393\ttotal: 2m 38s\tremaining: 17.6s\n",
      "540:\tlearn: 2509.0788906\ttotal: 2m 38s\tremaining: 17.3s\n",
      "541:\tlearn: 2508.9434617\ttotal: 2m 38s\tremaining: 17s\n",
      "542:\tlearn: 2508.8502371\ttotal: 2m 38s\tremaining: 16.7s\n",
      "543:\tlearn: 2508.5124108\ttotal: 2m 39s\tremaining: 16.4s\n",
      "544:\tlearn: 2508.4569572\ttotal: 2m 39s\tremaining: 16.1s\n",
      "545:\tlearn: 2508.3736604\ttotal: 2m 39s\tremaining: 15.8s\n",
      "546:\tlearn: 2507.8831637\ttotal: 2m 39s\tremaining: 15.5s\n",
      "547:\tlearn: 2507.7742400\ttotal: 2m 40s\tremaining: 15.2s\n",
      "548:\tlearn: 2507.6396775\ttotal: 2m 40s\tremaining: 14.9s\n",
      "549:\tlearn: 2507.5382247\ttotal: 2m 40s\tremaining: 14.6s\n",
      "550:\tlearn: 2507.3117199\ttotal: 2m 41s\tremaining: 14.3s\n",
      "551:\tlearn: 2507.1445396\ttotal: 2m 41s\tremaining: 14s\n",
      "552:\tlearn: 2506.9725077\ttotal: 2m 41s\tremaining: 13.7s\n",
      "553:\tlearn: 2506.8884695\ttotal: 2m 41s\tremaining: 13.4s\n",
      "554:\tlearn: 2506.8090689\ttotal: 2m 42s\tremaining: 13.2s\n",
      "555:\tlearn: 2506.7021495\ttotal: 2m 42s\tremaining: 12.9s\n",
      "556:\tlearn: 2506.5265826\ttotal: 2m 42s\tremaining: 12.6s\n",
      "557:\tlearn: 2506.4055063\ttotal: 2m 43s\tremaining: 12.3s\n",
      "558:\tlearn: 2506.2451975\ttotal: 2m 43s\tremaining: 12s\n",
      "559:\tlearn: 2506.1563892\ttotal: 2m 43s\tremaining: 11.7s\n",
      "560:\tlearn: 2506.0537858\ttotal: 2m 44s\tremaining: 11.4s\n",
      "561:\tlearn: 2505.7961121\ttotal: 2m 44s\tremaining: 11.1s\n",
      "562:\tlearn: 2505.6272568\ttotal: 2m 44s\tremaining: 10.8s\n",
      "563:\tlearn: 2505.4919354\ttotal: 2m 45s\tremaining: 10.5s\n",
      "564:\tlearn: 2505.3573723\ttotal: 2m 45s\tremaining: 10.2s\n",
      "565:\tlearn: 2505.2117219\ttotal: 2m 45s\tremaining: 9.95s\n",
      "566:\tlearn: 2505.0767806\ttotal: 2m 45s\tremaining: 9.66s\n",
      "567:\tlearn: 2504.9241273\ttotal: 2m 46s\tremaining: 9.36s\n",
      "568:\tlearn: 2504.8010934\ttotal: 2m 46s\tremaining: 9.07s\n",
      "569:\tlearn: 2504.5979823\ttotal: 2m 46s\tremaining: 8.78s\n",
      "570:\tlearn: 2504.5057535\ttotal: 2m 47s\tremaining: 8.49s\n",
      "571:\tlearn: 2504.3919452\ttotal: 2m 47s\tremaining: 8.19s\n",
      "572:\tlearn: 2504.3044131\ttotal: 2m 47s\tremaining: 7.9s\n",
      "573:\tlearn: 2504.1827257\ttotal: 2m 48s\tremaining: 7.61s\n",
      "574:\tlearn: 2504.1298779\ttotal: 2m 48s\tremaining: 7.32s\n",
      "575:\tlearn: 2503.9416442\ttotal: 2m 48s\tremaining: 7.03s\n",
      "576:\tlearn: 2503.7640296\ttotal: 2m 48s\tremaining: 6.73s\n",
      "577:\tlearn: 2503.6868547\ttotal: 2m 49s\tremaining: 6.44s\n",
      "578:\tlearn: 2503.5484689\ttotal: 2m 49s\tremaining: 6.14s\n",
      "579:\tlearn: 2503.4353777\ttotal: 2m 49s\tremaining: 5.85s\n",
      "580:\tlearn: 2503.3313548\ttotal: 2m 49s\tremaining: 5.56s\n",
      "581:\tlearn: 2503.2109520\ttotal: 2m 50s\tremaining: 5.26s\n",
      "582:\tlearn: 2503.1610854\ttotal: 2m 50s\tremaining: 4.97s\n",
      "583:\tlearn: 2503.0001985\ttotal: 2m 50s\tremaining: 4.67s\n",
      "584:\tlearn: 2502.8785898\ttotal: 2m 50s\tremaining: 4.38s\n",
      "585:\tlearn: 2502.6796702\ttotal: 2m 51s\tremaining: 4.09s\n",
      "586:\tlearn: 2502.3531494\ttotal: 2m 51s\tremaining: 3.79s\n",
      "587:\tlearn: 2502.2734556\ttotal: 2m 51s\tremaining: 3.5s\n",
      "588:\tlearn: 2502.1245670\ttotal: 2m 51s\tremaining: 3.21s\n",
      "589:\tlearn: 2501.9308485\ttotal: 2m 52s\tremaining: 2.92s\n",
      "590:\tlearn: 2501.8221953\ttotal: 2m 52s\tremaining: 2.62s\n"
     ]
    },
    {
     "name": "stdout",
     "output_type": "stream",
     "text": [
      "591:\tlearn: 2501.6900152\ttotal: 2m 52s\tremaining: 2.33s\n",
      "592:\tlearn: 2501.5167516\ttotal: 2m 52s\tremaining: 2.04s\n",
      "593:\tlearn: 2501.3785111\ttotal: 2m 52s\tremaining: 1.75s\n",
      "594:\tlearn: 2501.1162719\ttotal: 2m 53s\tremaining: 1.46s\n",
      "595:\tlearn: 2500.9936098\ttotal: 2m 53s\tremaining: 1.16s\n",
      "596:\tlearn: 2500.8493459\ttotal: 2m 53s\tremaining: 873ms\n",
      "597:\tlearn: 2500.7839082\ttotal: 2m 53s\tremaining: 582ms\n",
      "598:\tlearn: 2500.6469419\ttotal: 2m 54s\tremaining: 291ms\n",
      "599:\tlearn: 2500.5626885\ttotal: 2m 54s\tremaining: 0us\n",
      "Wall time: 2h 49min 15s\n"
     ]
    },
    {
     "data": {
      "text/plain": [
       "GridSearchCV(cv=StratifiedKFold(n_splits=3, random_state=15, shuffle=True),\n",
       "             error_score='raise-deprecating',\n",
       "             estimator=<catboost.core.CatBoostRegressor object at 0x000000000DC46828>,\n",
       "             iid='warn', n_jobs=-1,\n",
       "             param_grid={'bagging_temperature': [0, 1], 'depth': [6, 8],\n",
       "                         'iterations': [600], 'l2_leaf_reg': [0.1, 1],\n",
       "                         'learning_rate': [0.05, 0.1],\n",
       "                         'random_strength': [0, 1]},\n",
       "             pre_dispatch='2*n_jobs', refit=True, return_train_score=False,\n",
       "             scoring=None, verbose=2)"
      ]
     },
     "execution_count": 63,
     "metadata": {},
     "output_type": "execute_result"
    }
   ],
   "source": [
    "%%time\n",
    "# Fitting the grid_search to the model ####\n",
    "grid_search.fit(X_train[bfs_features_lst], y_train)"
   ]
  },
  {
   "cell_type": "code",
   "execution_count": 64,
   "metadata": {},
   "outputs": [
    {
     "data": {
      "text/plain": [
       "{'bagging_temperature': 0,\n",
       " 'depth': 8,\n",
       " 'iterations': 600,\n",
       " 'l2_leaf_reg': 1,\n",
       " 'learning_rate': 0.1,\n",
       " 'random_strength': 0}"
      ]
     },
     "execution_count": 64,
     "metadata": {},
     "output_type": "execute_result"
    }
   ],
   "source": [
    "# Grid Search Best Params\n",
    "grid_search.best_params_\n",
    "# filter - {'bagging_temperature': 0,  'depth': 6, 'iterations': 600, 'l2_leaf_reg': 0.1, 'learning_rate': 0.05, 'random_strength': 0}\n",
    "# bfs - {'bagging_temperature': 0,  'depth': 8, 'iterations': 600, 'l2_leaf_reg': 1, 'learning_rate': 0.1, 'random_strength': 0}\n",
    "# lasso - {'bagging_temperature': 0,  'depth': 6, 'iterations': 600, 'l2_leaf_reg': 0.1, 'learning_rate': 0.05, 'random_strength': 0}\n",
    "# rfr - {'bagging_temperature': 0, 'depth': 8, 'iterations': 600, 'l2_leaf_reg': 0.1, 'learning_rate': 0.1, 'random_strength': 0}\n",
    "# extratrees - {'bagging_temperature': 0, 'depth': 6, 'iterations': 600, 'l2_leaf_reg': 1, 'learning_rate': 0.05, 'random_strength': 0}"
   ]
  },
  {
   "cell_type": "code",
   "execution_count": 40,
   "metadata": {},
   "outputs": [
    {
     "name": "stdout",
     "output_type": "stream",
     "text": [
      "0:\tlearn: 4685.5031939\ttotal: 360ms\tremaining: 3m 35s\n",
      "1:\tlearn: 4391.5806603\ttotal: 546ms\tremaining: 2m 43s\n",
      "2:\tlearn: 4136.8908326\ttotal: 735ms\tremaining: 2m 26s\n",
      "3:\tlearn: 3916.1824958\ttotal: 941ms\tremaining: 2m 20s\n",
      "4:\tlearn: 3726.0134971\ttotal: 1.11s\tremaining: 2m 11s\n",
      "5:\tlearn: 3564.7834341\ttotal: 1.29s\tremaining: 2m 7s\n",
      "6:\tlearn: 3426.6186844\ttotal: 1.47s\tremaining: 2m 4s\n",
      "7:\tlearn: 3308.6356045\ttotal: 1.66s\tremaining: 2m 2s\n",
      "8:\tlearn: 3209.6405050\ttotal: 1.81s\tremaining: 1m 58s\n",
      "9:\tlearn: 3125.9880841\ttotal: 2s\tremaining: 1m 58s\n",
      "10:\tlearn: 3055.2319891\ttotal: 2.16s\tremaining: 1m 55s\n",
      "11:\tlearn: 2995.8722631\ttotal: 2.35s\tremaining: 1m 55s\n",
      "12:\tlearn: 2946.0017429\ttotal: 2.53s\tremaining: 1m 54s\n",
      "13:\tlearn: 2902.1243899\ttotal: 2.71s\tremaining: 1m 53s\n",
      "14:\tlearn: 2866.8866763\ttotal: 2.87s\tremaining: 1m 52s\n",
      "15:\tlearn: 2837.2750557\ttotal: 3.09s\tremaining: 1m 52s\n",
      "16:\tlearn: 2813.0123705\ttotal: 3.31s\tremaining: 1m 53s\n",
      "17:\tlearn: 2792.3729655\ttotal: 3.48s\tremaining: 1m 52s\n",
      "18:\tlearn: 2774.8811024\ttotal: 3.68s\tremaining: 1m 52s\n",
      "19:\tlearn: 2760.3562114\ttotal: 3.83s\tremaining: 1m 51s\n",
      "20:\tlearn: 2748.1769129\ttotal: 4.04s\tremaining: 1m 51s\n",
      "21:\tlearn: 2737.4205706\ttotal: 4.23s\tremaining: 1m 51s\n",
      "22:\tlearn: 2728.0395346\ttotal: 4.46s\tremaining: 1m 51s\n",
      "23:\tlearn: 2720.5908707\ttotal: 4.63s\tremaining: 1m 51s\n",
      "24:\tlearn: 2714.4318625\ttotal: 4.8s\tremaining: 1m 50s\n",
      "25:\tlearn: 2708.7769678\ttotal: 5s\tremaining: 1m 50s\n",
      "26:\tlearn: 2703.8643223\ttotal: 5.16s\tremaining: 1m 49s\n",
      "27:\tlearn: 2699.6749085\ttotal: 5.35s\tremaining: 1m 49s\n",
      "28:\tlearn: 2695.8115377\ttotal: 5.51s\tremaining: 1m 48s\n",
      "29:\tlearn: 2692.6223626\ttotal: 5.7s\tremaining: 1m 48s\n",
      "30:\tlearn: 2689.9013795\ttotal: 5.89s\tremaining: 1m 48s\n",
      "31:\tlearn: 2684.9333235\ttotal: 6.05s\tremaining: 1m 47s\n",
      "32:\tlearn: 2680.5673662\ttotal: 6.23s\tremaining: 1m 47s\n",
      "33:\tlearn: 2676.9387904\ttotal: 6.43s\tremaining: 1m 46s\n",
      "34:\tlearn: 2673.9105388\ttotal: 6.61s\tremaining: 1m 46s\n",
      "35:\tlearn: 2672.0965862\ttotal: 6.81s\tremaining: 1m 46s\n",
      "36:\tlearn: 2669.7265521\ttotal: 6.99s\tremaining: 1m 46s\n",
      "37:\tlearn: 2668.1491979\ttotal: 7.2s\tremaining: 1m 46s\n",
      "38:\tlearn: 2666.7546867\ttotal: 7.37s\tremaining: 1m 45s\n",
      "39:\tlearn: 2665.4825699\ttotal: 7.54s\tremaining: 1m 45s\n",
      "40:\tlearn: 2664.2157228\ttotal: 7.71s\tremaining: 1m 45s\n",
      "41:\tlearn: 2662.9420013\ttotal: 7.88s\tremaining: 1m 44s\n",
      "42:\tlearn: 2661.8121489\ttotal: 8.09s\tremaining: 1m 44s\n",
      "43:\tlearn: 2660.9079115\ttotal: 8.26s\tremaining: 1m 44s\n",
      "44:\tlearn: 2659.7663797\ttotal: 8.47s\tremaining: 1m 44s\n",
      "45:\tlearn: 2658.7785966\ttotal: 8.71s\tremaining: 1m 44s\n",
      "46:\tlearn: 2657.8241487\ttotal: 8.9s\tremaining: 1m 44s\n",
      "47:\tlearn: 2656.4171553\ttotal: 9.1s\tremaining: 1m 44s\n",
      "48:\tlearn: 2655.6030876\ttotal: 9.28s\tremaining: 1m 44s\n",
      "49:\tlearn: 2654.8715537\ttotal: 9.44s\tremaining: 1m 43s\n",
      "50:\tlearn: 2653.9950667\ttotal: 9.63s\tremaining: 1m 43s\n",
      "51:\tlearn: 2653.0903896\ttotal: 9.85s\tremaining: 1m 43s\n",
      "52:\tlearn: 2652.4630291\ttotal: 10s\tremaining: 1m 43s\n",
      "53:\tlearn: 2652.0523389\ttotal: 10.2s\tremaining: 1m 43s\n",
      "54:\tlearn: 2651.3153749\ttotal: 10.4s\tremaining: 1m 43s\n",
      "55:\tlearn: 2650.0743661\ttotal: 10.7s\tremaining: 1m 43s\n",
      "56:\tlearn: 2649.2791771\ttotal: 10.9s\tremaining: 1m 43s\n",
      "57:\tlearn: 2648.6184000\ttotal: 11s\tremaining: 1m 43s\n",
      "58:\tlearn: 2647.7309603\ttotal: 11.2s\tremaining: 1m 42s\n",
      "59:\tlearn: 2647.1380310\ttotal: 11.4s\tremaining: 1m 42s\n",
      "60:\tlearn: 2646.3688337\ttotal: 11.6s\tremaining: 1m 42s\n",
      "61:\tlearn: 2645.4900188\ttotal: 11.7s\tremaining: 1m 41s\n",
      "62:\tlearn: 2645.0858486\ttotal: 11.9s\tremaining: 1m 41s\n",
      "63:\tlearn: 2644.6280830\ttotal: 12.1s\tremaining: 1m 41s\n",
      "64:\tlearn: 2643.8384373\ttotal: 12.3s\tremaining: 1m 40s\n",
      "65:\tlearn: 2642.7805865\ttotal: 12.5s\tremaining: 1m 40s\n",
      "66:\tlearn: 2642.3608941\ttotal: 12.6s\tremaining: 1m 40s\n",
      "67:\tlearn: 2641.6763907\ttotal: 12.8s\tremaining: 1m 40s\n",
      "68:\tlearn: 2640.8332708\ttotal: 13s\tremaining: 1m 40s\n",
      "69:\tlearn: 2640.1434124\ttotal: 13.2s\tremaining: 1m 40s\n",
      "70:\tlearn: 2639.5428705\ttotal: 13.5s\tremaining: 1m 40s\n",
      "71:\tlearn: 2638.5344697\ttotal: 13.6s\tremaining: 1m 40s\n",
      "72:\tlearn: 2638.1025371\ttotal: 13.8s\tremaining: 1m 39s\n",
      "73:\tlearn: 2637.5716664\ttotal: 14s\tremaining: 1m 39s\n",
      "74:\tlearn: 2637.1075726\ttotal: 14.1s\tremaining: 1m 39s\n",
      "75:\tlearn: 2636.5240396\ttotal: 14.3s\tremaining: 1m 38s\n",
      "76:\tlearn: 2635.9026485\ttotal: 14.5s\tremaining: 1m 38s\n",
      "77:\tlearn: 2635.3925506\ttotal: 14.6s\tremaining: 1m 37s\n",
      "78:\tlearn: 2635.0226992\ttotal: 14.8s\tremaining: 1m 37s\n",
      "79:\tlearn: 2633.4538194\ttotal: 15s\tremaining: 1m 37s\n",
      "80:\tlearn: 2633.0799261\ttotal: 15.2s\tremaining: 1m 37s\n",
      "81:\tlearn: 2632.4959085\ttotal: 15.4s\tremaining: 1m 37s\n",
      "82:\tlearn: 2631.4042880\ttotal: 15.6s\tremaining: 1m 37s\n",
      "83:\tlearn: 2630.8061872\ttotal: 15.9s\tremaining: 1m 37s\n",
      "84:\tlearn: 2630.1242076\ttotal: 16.1s\tremaining: 1m 37s\n",
      "85:\tlearn: 2629.8435360\ttotal: 16.3s\tremaining: 1m 37s\n",
      "86:\tlearn: 2629.1496923\ttotal: 16.5s\tremaining: 1m 37s\n",
      "87:\tlearn: 2628.6214588\ttotal: 16.7s\tremaining: 1m 37s\n",
      "88:\tlearn: 2627.9051496\ttotal: 16.9s\tremaining: 1m 37s\n",
      "89:\tlearn: 2627.5439705\ttotal: 17.1s\tremaining: 1m 36s\n",
      "90:\tlearn: 2627.1423989\ttotal: 17.3s\tremaining: 1m 36s\n",
      "91:\tlearn: 2626.6962812\ttotal: 17.6s\tremaining: 1m 37s\n",
      "92:\tlearn: 2626.1131189\ttotal: 17.8s\tremaining: 1m 36s\n",
      "93:\tlearn: 2625.3732338\ttotal: 17.9s\tremaining: 1m 36s\n",
      "94:\tlearn: 2624.7040806\ttotal: 18.1s\tremaining: 1m 36s\n",
      "95:\tlearn: 2624.3286024\ttotal: 18.3s\tremaining: 1m 36s\n",
      "96:\tlearn: 2623.7824892\ttotal: 18.5s\tremaining: 1m 35s\n",
      "97:\tlearn: 2623.2992164\ttotal: 18.7s\tremaining: 1m 35s\n",
      "98:\tlearn: 2622.5724618\ttotal: 18.8s\tremaining: 1m 35s\n",
      "99:\tlearn: 2622.0954916\ttotal: 19s\tremaining: 1m 35s\n",
      "100:\tlearn: 2621.1539975\ttotal: 19.2s\tremaining: 1m 34s\n",
      "101:\tlearn: 2620.2625151\ttotal: 19.4s\tremaining: 1m 34s\n",
      "102:\tlearn: 2619.6687058\ttotal: 19.6s\tremaining: 1m 34s\n",
      "103:\tlearn: 2619.1737822\ttotal: 19.8s\tremaining: 1m 34s\n",
      "104:\tlearn: 2618.8311479\ttotal: 20s\tremaining: 1m 34s\n",
      "105:\tlearn: 2618.6800451\ttotal: 20.2s\tremaining: 1m 34s\n",
      "106:\tlearn: 2618.2707181\ttotal: 20.4s\tremaining: 1m 33s\n",
      "107:\tlearn: 2617.6718366\ttotal: 20.5s\tremaining: 1m 33s\n",
      "108:\tlearn: 2617.3932991\ttotal: 20.7s\tremaining: 1m 33s\n",
      "109:\tlearn: 2616.7847184\ttotal: 20.9s\tremaining: 1m 32s\n",
      "110:\tlearn: 2616.3608367\ttotal: 21s\tremaining: 1m 32s\n",
      "111:\tlearn: 2615.9664663\ttotal: 21.2s\tremaining: 1m 32s\n",
      "112:\tlearn: 2615.5011907\ttotal: 21.4s\tremaining: 1m 32s\n",
      "113:\tlearn: 2615.2044122\ttotal: 21.6s\tremaining: 1m 31s\n",
      "114:\tlearn: 2614.8050886\ttotal: 21.7s\tremaining: 1m 31s\n",
      "115:\tlearn: 2614.1830740\ttotal: 21.9s\tremaining: 1m 31s\n",
      "116:\tlearn: 2613.7815056\ttotal: 22.1s\tremaining: 1m 31s\n",
      "117:\tlearn: 2613.1048691\ttotal: 22.3s\tremaining: 1m 31s\n",
      "118:\tlearn: 2612.7158886\ttotal: 22.5s\tremaining: 1m 31s\n",
      "119:\tlearn: 2611.9263778\ttotal: 22.7s\tremaining: 1m 30s\n",
      "120:\tlearn: 2611.2854183\ttotal: 23s\tremaining: 1m 30s\n",
      "121:\tlearn: 2610.8172349\ttotal: 23.2s\tremaining: 1m 30s\n",
      "122:\tlearn: 2610.4361269\ttotal: 23.4s\tremaining: 1m 30s\n",
      "123:\tlearn: 2610.1257779\ttotal: 23.6s\tremaining: 1m 30s\n",
      "124:\tlearn: 2609.5089496\ttotal: 23.7s\tremaining: 1m 30s\n",
      "125:\tlearn: 2609.2081472\ttotal: 23.9s\tremaining: 1m 29s\n",
      "126:\tlearn: 2608.8809608\ttotal: 24.1s\tremaining: 1m 29s\n",
      "127:\tlearn: 2608.4488458\ttotal: 24.3s\tremaining: 1m 29s\n",
      "128:\tlearn: 2608.1260367\ttotal: 24.5s\tremaining: 1m 29s\n",
      "129:\tlearn: 2607.6809499\ttotal: 24.7s\tremaining: 1m 29s\n",
      "130:\tlearn: 2607.2827263\ttotal: 24.9s\tremaining: 1m 29s\n",
      "131:\tlearn: 2606.9151710\ttotal: 25.1s\tremaining: 1m 28s\n",
      "132:\tlearn: 2606.5532533\ttotal: 25.2s\tremaining: 1m 28s\n",
      "133:\tlearn: 2606.2343021\ttotal: 25.4s\tremaining: 1m 28s\n",
      "134:\tlearn: 2605.9193695\ttotal: 25.5s\tremaining: 1m 27s\n",
      "135:\tlearn: 2605.6196741\ttotal: 25.7s\tremaining: 1m 27s\n",
      "136:\tlearn: 2605.2230556\ttotal: 25.9s\tremaining: 1m 27s\n",
      "137:\tlearn: 2604.8392637\ttotal: 26.1s\tremaining: 1m 27s\n",
      "138:\tlearn: 2604.5877584\ttotal: 26.2s\tremaining: 1m 26s\n",
      "139:\tlearn: 2604.2767453\ttotal: 26.4s\tremaining: 1m 26s\n",
      "140:\tlearn: 2603.9192662\ttotal: 26.5s\tremaining: 1m 26s\n",
      "141:\tlearn: 2603.4803920\ttotal: 26.7s\tremaining: 1m 26s\n",
      "142:\tlearn: 2603.2075110\ttotal: 26.9s\tremaining: 1m 25s\n",
      "143:\tlearn: 2602.9872786\ttotal: 27.1s\tremaining: 1m 25s\n",
      "144:\tlearn: 2602.8892060\ttotal: 27.2s\tremaining: 1m 25s\n",
      "145:\tlearn: 2602.3428620\ttotal: 27.4s\tremaining: 1m 25s\n",
      "146:\tlearn: 2601.9517862\ttotal: 27.6s\tremaining: 1m 24s\n",
      "147:\tlearn: 2601.6231861\ttotal: 27.8s\tremaining: 1m 24s\n",
      "148:\tlearn: 2601.3232990\ttotal: 27.9s\tremaining: 1m 24s\n"
     ]
    },
    {
     "name": "stdout",
     "output_type": "stream",
     "text": [
      "149:\tlearn: 2601.0724700\ttotal: 28.1s\tremaining: 1m 24s\n",
      "150:\tlearn: 2600.8468743\ttotal: 28.3s\tremaining: 1m 24s\n",
      "151:\tlearn: 2600.3353364\ttotal: 28.5s\tremaining: 1m 23s\n",
      "152:\tlearn: 2599.8254081\ttotal: 28.6s\tremaining: 1m 23s\n",
      "153:\tlearn: 2599.5857685\ttotal: 28.8s\tremaining: 1m 23s\n",
      "154:\tlearn: 2599.3402193\ttotal: 29s\tremaining: 1m 23s\n",
      "155:\tlearn: 2599.1527715\ttotal: 29.2s\tremaining: 1m 23s\n",
      "156:\tlearn: 2598.7077752\ttotal: 29.3s\tremaining: 1m 22s\n",
      "157:\tlearn: 2598.3515230\ttotal: 29.5s\tremaining: 1m 22s\n",
      "158:\tlearn: 2598.1169597\ttotal: 29.7s\tremaining: 1m 22s\n",
      "159:\tlearn: 2597.7710170\ttotal: 29.9s\tremaining: 1m 22s\n",
      "160:\tlearn: 2597.3392258\ttotal: 30.1s\tremaining: 1m 22s\n",
      "161:\tlearn: 2596.9679025\ttotal: 30.3s\tremaining: 1m 21s\n",
      "162:\tlearn: 2596.6868646\ttotal: 30.5s\tremaining: 1m 21s\n",
      "163:\tlearn: 2596.3186949\ttotal: 30.6s\tremaining: 1m 21s\n",
      "164:\tlearn: 2595.7889111\ttotal: 30.8s\tremaining: 1m 21s\n",
      "165:\tlearn: 2595.3994953\ttotal: 31.1s\tremaining: 1m 21s\n",
      "166:\tlearn: 2595.1418866\ttotal: 31.3s\tremaining: 1m 21s\n",
      "167:\tlearn: 2594.8349091\ttotal: 31.5s\tremaining: 1m 20s\n",
      "168:\tlearn: 2594.6014516\ttotal: 31.7s\tremaining: 1m 20s\n",
      "169:\tlearn: 2594.2809574\ttotal: 31.8s\tremaining: 1m 20s\n",
      "170:\tlearn: 2593.9550267\ttotal: 32s\tremaining: 1m 20s\n",
      "171:\tlearn: 2593.6074393\ttotal: 32.2s\tremaining: 1m 20s\n",
      "172:\tlearn: 2593.2932824\ttotal: 32.4s\tremaining: 1m 20s\n",
      "173:\tlearn: 2593.1200957\ttotal: 32.6s\tremaining: 1m 19s\n",
      "174:\tlearn: 2592.8973963\ttotal: 32.8s\tremaining: 1m 19s\n",
      "175:\tlearn: 2592.5770235\ttotal: 32.9s\tremaining: 1m 19s\n",
      "176:\tlearn: 2592.3594053\ttotal: 33.2s\tremaining: 1m 19s\n",
      "177:\tlearn: 2591.8948912\ttotal: 33.3s\tremaining: 1m 19s\n",
      "178:\tlearn: 2591.6308790\ttotal: 33.5s\tremaining: 1m 18s\n",
      "179:\tlearn: 2591.4319579\ttotal: 33.7s\tremaining: 1m 18s\n",
      "180:\tlearn: 2591.0821033\ttotal: 33.9s\tremaining: 1m 18s\n",
      "181:\tlearn: 2590.8643557\ttotal: 34s\tremaining: 1m 18s\n",
      "182:\tlearn: 2590.5481414\ttotal: 34.2s\tremaining: 1m 17s\n",
      "183:\tlearn: 2590.3085954\ttotal: 34.3s\tremaining: 1m 17s\n",
      "184:\tlearn: 2590.1104846\ttotal: 34.5s\tremaining: 1m 17s\n",
      "185:\tlearn: 2589.7430184\ttotal: 34.7s\tremaining: 1m 17s\n",
      "186:\tlearn: 2589.5370124\ttotal: 34.8s\tremaining: 1m 16s\n",
      "187:\tlearn: 2589.2872812\ttotal: 35s\tremaining: 1m 16s\n",
      "188:\tlearn: 2589.0011533\ttotal: 35.2s\tremaining: 1m 16s\n",
      "189:\tlearn: 2588.7508528\ttotal: 35.4s\tremaining: 1m 16s\n",
      "190:\tlearn: 2588.5123577\ttotal: 35.5s\tremaining: 1m 16s\n",
      "191:\tlearn: 2588.1511080\ttotal: 35.7s\tremaining: 1m 15s\n",
      "192:\tlearn: 2587.9007196\ttotal: 35.9s\tremaining: 1m 15s\n",
      "193:\tlearn: 2587.7310251\ttotal: 36.1s\tremaining: 1m 15s\n",
      "194:\tlearn: 2587.4451147\ttotal: 36.3s\tremaining: 1m 15s\n",
      "195:\tlearn: 2587.0487624\ttotal: 36.4s\tremaining: 1m 15s\n",
      "196:\tlearn: 2586.8245383\ttotal: 36.6s\tremaining: 1m 14s\n",
      "197:\tlearn: 2586.4363136\ttotal: 36.8s\tremaining: 1m 14s\n",
      "198:\tlearn: 2586.1328429\ttotal: 37s\tremaining: 1m 14s\n",
      "199:\tlearn: 2585.8078056\ttotal: 37.1s\tremaining: 1m 14s\n",
      "200:\tlearn: 2585.5667235\ttotal: 37.3s\tremaining: 1m 14s\n",
      "201:\tlearn: 2585.4547969\ttotal: 37.5s\tremaining: 1m 13s\n",
      "202:\tlearn: 2585.1697932\ttotal: 37.6s\tremaining: 1m 13s\n",
      "203:\tlearn: 2584.8441321\ttotal: 37.8s\tremaining: 1m 13s\n",
      "204:\tlearn: 2584.5793228\ttotal: 38s\tremaining: 1m 13s\n",
      "205:\tlearn: 2584.4223714\ttotal: 38.2s\tremaining: 1m 13s\n",
      "206:\tlearn: 2584.1324438\ttotal: 38.4s\tremaining: 1m 12s\n",
      "207:\tlearn: 2583.8977610\ttotal: 38.6s\tremaining: 1m 12s\n",
      "208:\tlearn: 2583.7114188\ttotal: 38.7s\tremaining: 1m 12s\n",
      "209:\tlearn: 2583.5053168\ttotal: 38.9s\tremaining: 1m 12s\n",
      "210:\tlearn: 2583.3084742\ttotal: 39.1s\tremaining: 1m 12s\n",
      "211:\tlearn: 2582.8016636\ttotal: 39.3s\tremaining: 1m 11s\n",
      "212:\tlearn: 2582.6017368\ttotal: 39.4s\tremaining: 1m 11s\n",
      "213:\tlearn: 2582.3064614\ttotal: 39.6s\tremaining: 1m 11s\n",
      "214:\tlearn: 2582.0896694\ttotal: 39.8s\tremaining: 1m 11s\n",
      "215:\tlearn: 2581.8516818\ttotal: 40s\tremaining: 1m 11s\n",
      "216:\tlearn: 2581.5856428\ttotal: 40.1s\tremaining: 1m 10s\n",
      "217:\tlearn: 2581.2568819\ttotal: 40.3s\tremaining: 1m 10s\n",
      "218:\tlearn: 2581.0789932\ttotal: 40.5s\tremaining: 1m 10s\n",
      "219:\tlearn: 2580.8452738\ttotal: 40.6s\tremaining: 1m 10s\n",
      "220:\tlearn: 2580.6587077\ttotal: 40.8s\tremaining: 1m 10s\n",
      "221:\tlearn: 2580.5357997\ttotal: 41s\tremaining: 1m 9s\n",
      "222:\tlearn: 2580.3881387\ttotal: 41.2s\tremaining: 1m 9s\n",
      "223:\tlearn: 2579.9765744\ttotal: 41.3s\tremaining: 1m 9s\n",
      "224:\tlearn: 2579.5744634\ttotal: 41.5s\tremaining: 1m 9s\n",
      "225:\tlearn: 2579.2832118\ttotal: 41.7s\tremaining: 1m 8s\n",
      "226:\tlearn: 2579.0755541\ttotal: 41.9s\tremaining: 1m 8s\n",
      "227:\tlearn: 2578.6946120\ttotal: 42s\tremaining: 1m 8s\n",
      "228:\tlearn: 2578.4421217\ttotal: 42.3s\tremaining: 1m 8s\n",
      "229:\tlearn: 2578.2224611\ttotal: 42.4s\tremaining: 1m 8s\n",
      "230:\tlearn: 2578.0107749\ttotal: 42.6s\tremaining: 1m 8s\n",
      "231:\tlearn: 2577.6953641\ttotal: 42.8s\tremaining: 1m 7s\n",
      "232:\tlearn: 2577.2601982\ttotal: 43s\tremaining: 1m 7s\n",
      "233:\tlearn: 2577.0282222\ttotal: 43.1s\tremaining: 1m 7s\n",
      "234:\tlearn: 2576.8397765\ttotal: 43.3s\tremaining: 1m 7s\n",
      "235:\tlearn: 2576.6625773\ttotal: 43.5s\tremaining: 1m 7s\n",
      "236:\tlearn: 2576.3838895\ttotal: 43.7s\tremaining: 1m 6s\n",
      "237:\tlearn: 2576.0700760\ttotal: 43.8s\tremaining: 1m 6s\n",
      "238:\tlearn: 2575.8747587\ttotal: 44s\tremaining: 1m 6s\n",
      "239:\tlearn: 2575.6800814\ttotal: 44.2s\tremaining: 1m 6s\n",
      "240:\tlearn: 2575.4725592\ttotal: 44.4s\tremaining: 1m 6s\n",
      "241:\tlearn: 2575.2457280\ttotal: 44.6s\tremaining: 1m 5s\n",
      "242:\tlearn: 2574.9347941\ttotal: 44.7s\tremaining: 1m 5s\n",
      "243:\tlearn: 2574.7727549\ttotal: 44.9s\tremaining: 1m 5s\n",
      "244:\tlearn: 2574.4202900\ttotal: 45.1s\tremaining: 1m 5s\n",
      "245:\tlearn: 2574.1674102\ttotal: 45.3s\tremaining: 1m 5s\n",
      "246:\tlearn: 2573.9262907\ttotal: 45.4s\tremaining: 1m 4s\n",
      "247:\tlearn: 2573.6338656\ttotal: 45.6s\tremaining: 1m 4s\n",
      "248:\tlearn: 2573.3601700\ttotal: 45.8s\tremaining: 1m 4s\n",
      "249:\tlearn: 2573.0588458\ttotal: 46s\tremaining: 1m 4s\n",
      "250:\tlearn: 2572.7719511\ttotal: 46.2s\tremaining: 1m 4s\n",
      "251:\tlearn: 2572.6139553\ttotal: 46.3s\tremaining: 1m 3s\n",
      "252:\tlearn: 2572.3410550\ttotal: 46.5s\tremaining: 1m 3s\n",
      "253:\tlearn: 2572.1263220\ttotal: 46.7s\tremaining: 1m 3s\n",
      "254:\tlearn: 2571.6762966\ttotal: 46.8s\tremaining: 1m 3s\n",
      "255:\tlearn: 2571.6064256\ttotal: 47s\tremaining: 1m 3s\n",
      "256:\tlearn: 2571.4208360\ttotal: 47.1s\tremaining: 1m 2s\n",
      "257:\tlearn: 2571.2637024\ttotal: 47.3s\tremaining: 1m 2s\n",
      "258:\tlearn: 2570.9811273\ttotal: 47.5s\tremaining: 1m 2s\n",
      "259:\tlearn: 2570.8147979\ttotal: 47.7s\tremaining: 1m 2s\n",
      "260:\tlearn: 2570.5335846\ttotal: 47.9s\tremaining: 1m 2s\n",
      "261:\tlearn: 2570.3775512\ttotal: 48s\tremaining: 1m 1s\n",
      "262:\tlearn: 2570.2055780\ttotal: 48.2s\tremaining: 1m 1s\n",
      "263:\tlearn: 2570.0179254\ttotal: 48.4s\tremaining: 1m 1s\n",
      "264:\tlearn: 2569.8705432\ttotal: 48.6s\tremaining: 1m 1s\n",
      "265:\tlearn: 2569.4896485\ttotal: 48.8s\tremaining: 1m 1s\n",
      "266:\tlearn: 2569.3077083\ttotal: 48.9s\tremaining: 1m 1s\n",
      "267:\tlearn: 2569.1310251\ttotal: 49.1s\tremaining: 1m\n",
      "268:\tlearn: 2568.7295251\ttotal: 49.3s\tremaining: 1m\n",
      "269:\tlearn: 2568.4369870\ttotal: 49.5s\tremaining: 1m\n",
      "270:\tlearn: 2568.3035037\ttotal: 49.6s\tremaining: 1m\n",
      "271:\tlearn: 2568.1606716\ttotal: 49.8s\tremaining: 1m\n",
      "272:\tlearn: 2567.9231765\ttotal: 50s\tremaining: 59.9s\n",
      "273:\tlearn: 2567.7646258\ttotal: 50.2s\tremaining: 59.7s\n",
      "274:\tlearn: 2567.4909630\ttotal: 50.4s\tremaining: 59.5s\n",
      "275:\tlearn: 2567.3778888\ttotal: 50.5s\tremaining: 59.3s\n",
      "276:\tlearn: 2567.0737900\ttotal: 50.7s\tremaining: 59.1s\n",
      "277:\tlearn: 2566.8068681\ttotal: 50.9s\tremaining: 59s\n",
      "278:\tlearn: 2566.5161946\ttotal: 51.1s\tremaining: 58.8s\n",
      "279:\tlearn: 2566.3068685\ttotal: 51.3s\tremaining: 58.6s\n",
      "280:\tlearn: 2566.0202636\ttotal: 51.4s\tremaining: 58.4s\n",
      "281:\tlearn: 2565.8993481\ttotal: 51.6s\tremaining: 58.2s\n",
      "282:\tlearn: 2565.5618921\ttotal: 51.8s\tremaining: 58s\n",
      "283:\tlearn: 2565.3542997\ttotal: 52s\tremaining: 57.8s\n",
      "284:\tlearn: 2565.1810068\ttotal: 52.1s\tremaining: 57.6s\n",
      "285:\tlearn: 2565.0373710\ttotal: 52.3s\tremaining: 57.4s\n",
      "286:\tlearn: 2564.8429762\ttotal: 52.5s\tremaining: 57.2s\n",
      "287:\tlearn: 2564.6184654\ttotal: 52.7s\tremaining: 57.1s\n",
      "288:\tlearn: 2564.4365994\ttotal: 52.9s\tremaining: 56.9s\n",
      "289:\tlearn: 2564.2687162\ttotal: 53.1s\tremaining: 56.7s\n",
      "290:\tlearn: 2563.9869337\ttotal: 53.3s\tremaining: 56.6s\n",
      "291:\tlearn: 2563.8204633\ttotal: 53.4s\tremaining: 56.4s\n",
      "292:\tlearn: 2563.5284302\ttotal: 53.6s\tremaining: 56.2s\n",
      "293:\tlearn: 2563.2575540\ttotal: 53.8s\tremaining: 55.9s\n",
      "294:\tlearn: 2563.0515755\ttotal: 53.9s\tremaining: 55.8s\n",
      "295:\tlearn: 2562.7875413\ttotal: 54.1s\tremaining: 55.6s\n",
      "296:\tlearn: 2562.5809647\ttotal: 54.3s\tremaining: 55.4s\n",
      "297:\tlearn: 2562.4389771\ttotal: 54.5s\tremaining: 55.2s\n"
     ]
    },
    {
     "name": "stdout",
     "output_type": "stream",
     "text": [
      "298:\tlearn: 2562.2669706\ttotal: 54.6s\tremaining: 55s\n",
      "299:\tlearn: 2562.1363281\ttotal: 54.8s\tremaining: 54.8s\n",
      "300:\tlearn: 2561.9266024\ttotal: 55s\tremaining: 54.7s\n",
      "301:\tlearn: 2561.8288651\ttotal: 55.2s\tremaining: 54.5s\n",
      "302:\tlearn: 2561.7219749\ttotal: 55.4s\tremaining: 54.3s\n",
      "303:\tlearn: 2561.3540593\ttotal: 55.6s\tremaining: 54.1s\n",
      "304:\tlearn: 2561.1014423\ttotal: 55.8s\tremaining: 53.9s\n",
      "305:\tlearn: 2560.9509203\ttotal: 55.9s\tremaining: 53.8s\n",
      "306:\tlearn: 2560.6008462\ttotal: 56.1s\tremaining: 53.6s\n",
      "307:\tlearn: 2560.4021788\ttotal: 56.3s\tremaining: 53.4s\n",
      "308:\tlearn: 2560.0931443\ttotal: 56.5s\tremaining: 53.2s\n",
      "309:\tlearn: 2559.8007837\ttotal: 56.6s\tremaining: 53s\n",
      "310:\tlearn: 2559.6113825\ttotal: 56.8s\tremaining: 52.8s\n",
      "311:\tlearn: 2559.4785246\ttotal: 57s\tremaining: 52.6s\n",
      "312:\tlearn: 2559.2889527\ttotal: 57.1s\tremaining: 52.4s\n",
      "313:\tlearn: 2559.1562575\ttotal: 57.3s\tremaining: 52.2s\n",
      "314:\tlearn: 2559.0707796\ttotal: 57.5s\tremaining: 52s\n",
      "315:\tlearn: 2558.9019895\ttotal: 57.6s\tremaining: 51.8s\n",
      "316:\tlearn: 2558.7715814\ttotal: 57.8s\tremaining: 51.6s\n",
      "317:\tlearn: 2558.5927050\ttotal: 58s\tremaining: 51.4s\n",
      "318:\tlearn: 2558.4552112\ttotal: 58.1s\tremaining: 51.2s\n",
      "319:\tlearn: 2558.3254164\ttotal: 58.3s\tremaining: 51s\n",
      "320:\tlearn: 2558.0684232\ttotal: 58.5s\tremaining: 50.8s\n",
      "321:\tlearn: 2557.7365938\ttotal: 58.7s\tremaining: 50.7s\n",
      "322:\tlearn: 2557.5921395\ttotal: 58.9s\tremaining: 50.5s\n",
      "323:\tlearn: 2557.3039385\ttotal: 59s\tremaining: 50.3s\n",
      "324:\tlearn: 2557.1156529\ttotal: 59.2s\tremaining: 50.1s\n",
      "325:\tlearn: 2556.7644172\ttotal: 59.4s\tremaining: 49.9s\n",
      "326:\tlearn: 2556.6460738\ttotal: 59.6s\tremaining: 49.7s\n",
      "327:\tlearn: 2556.4905175\ttotal: 59.8s\tremaining: 49.6s\n",
      "328:\tlearn: 2556.2299216\ttotal: 1m\tremaining: 49.5s\n",
      "329:\tlearn: 2555.9718841\ttotal: 1m\tremaining: 49.3s\n",
      "330:\tlearn: 2555.8214022\ttotal: 1m\tremaining: 49.1s\n",
      "331:\tlearn: 2555.6724947\ttotal: 1m\tremaining: 49s\n",
      "332:\tlearn: 2555.4634699\ttotal: 1m\tremaining: 48.8s\n",
      "333:\tlearn: 2555.2771304\ttotal: 1m 1s\tremaining: 48.7s\n",
      "334:\tlearn: 2554.7065663\ttotal: 1m 1s\tremaining: 48.5s\n",
      "335:\tlearn: 2554.6001718\ttotal: 1m 1s\tremaining: 48.3s\n",
      "336:\tlearn: 2554.2376918\ttotal: 1m 1s\tremaining: 48.2s\n",
      "337:\tlearn: 2553.9244150\ttotal: 1m 1s\tremaining: 48s\n",
      "338:\tlearn: 2553.7303263\ttotal: 1m 2s\tremaining: 47.9s\n",
      "339:\tlearn: 2553.4803302\ttotal: 1m 2s\tremaining: 47.7s\n",
      "340:\tlearn: 2553.2418167\ttotal: 1m 2s\tremaining: 47.6s\n",
      "341:\tlearn: 2553.1383832\ttotal: 1m 2s\tremaining: 47.4s\n",
      "342:\tlearn: 2552.9499008\ttotal: 1m 2s\tremaining: 47.2s\n",
      "343:\tlearn: 2552.7985240\ttotal: 1m 3s\tremaining: 47s\n",
      "344:\tlearn: 2552.6451614\ttotal: 1m 3s\tremaining: 46.9s\n",
      "345:\tlearn: 2552.4727246\ttotal: 1m 3s\tremaining: 46.7s\n",
      "346:\tlearn: 2552.1757826\ttotal: 1m 3s\tremaining: 46.5s\n",
      "347:\tlearn: 2551.8863913\ttotal: 1m 4s\tremaining: 46.4s\n",
      "348:\tlearn: 2551.6933380\ttotal: 1m 4s\tremaining: 46.2s\n",
      "349:\tlearn: 2551.3749941\ttotal: 1m 4s\tremaining: 46.1s\n",
      "350:\tlearn: 2551.0697721\ttotal: 1m 4s\tremaining: 45.9s\n",
      "351:\tlearn: 2550.8533669\ttotal: 1m 4s\tremaining: 45.8s\n",
      "352:\tlearn: 2550.5679205\ttotal: 1m 5s\tremaining: 45.6s\n",
      "353:\tlearn: 2550.4062155\ttotal: 1m 5s\tremaining: 45.5s\n",
      "354:\tlearn: 2550.1869660\ttotal: 1m 5s\tremaining: 45.3s\n",
      "355:\tlearn: 2549.9309401\ttotal: 1m 5s\tremaining: 45.2s\n",
      "356:\tlearn: 2549.8163161\ttotal: 1m 6s\tremaining: 45s\n",
      "357:\tlearn: 2549.5849164\ttotal: 1m 6s\tremaining: 44.9s\n",
      "358:\tlearn: 2549.4050319\ttotal: 1m 6s\tremaining: 44.7s\n",
      "359:\tlearn: 2549.2017856\ttotal: 1m 6s\tremaining: 44.5s\n",
      "360:\tlearn: 2549.0454968\ttotal: 1m 6s\tremaining: 44.3s\n",
      "361:\tlearn: 2548.8165702\ttotal: 1m 7s\tremaining: 44.2s\n",
      "362:\tlearn: 2548.7228157\ttotal: 1m 7s\tremaining: 44s\n",
      "363:\tlearn: 2548.5257073\ttotal: 1m 7s\tremaining: 43.8s\n",
      "364:\tlearn: 2548.3036419\ttotal: 1m 7s\tremaining: 43.6s\n",
      "365:\tlearn: 2548.1702946\ttotal: 1m 7s\tremaining: 43.4s\n",
      "366:\tlearn: 2548.0273772\ttotal: 1m 8s\tremaining: 43.2s\n",
      "367:\tlearn: 2547.7501288\ttotal: 1m 8s\tremaining: 43s\n",
      "368:\tlearn: 2547.6086256\ttotal: 1m 8s\tremaining: 42.8s\n",
      "369:\tlearn: 2547.4446840\ttotal: 1m 8s\tremaining: 42.6s\n",
      "370:\tlearn: 2547.2187417\ttotal: 1m 8s\tremaining: 42.4s\n",
      "371:\tlearn: 2547.0431467\ttotal: 1m 8s\tremaining: 42.2s\n",
      "372:\tlearn: 2546.7565176\ttotal: 1m 9s\tremaining: 42s\n",
      "373:\tlearn: 2546.4861090\ttotal: 1m 9s\tremaining: 41.9s\n",
      "374:\tlearn: 2546.3846940\ttotal: 1m 9s\tremaining: 41.7s\n",
      "375:\tlearn: 2546.2042939\ttotal: 1m 9s\tremaining: 41.5s\n",
      "376:\tlearn: 2546.0040148\ttotal: 1m 9s\tremaining: 41.3s\n",
      "377:\tlearn: 2545.8457446\ttotal: 1m 9s\tremaining: 41.1s\n",
      "378:\tlearn: 2545.6595991\ttotal: 1m 10s\tremaining: 40.9s\n",
      "379:\tlearn: 2545.4716393\ttotal: 1m 10s\tremaining: 40.7s\n",
      "380:\tlearn: 2545.3194086\ttotal: 1m 10s\tremaining: 40.5s\n",
      "381:\tlearn: 2545.1010010\ttotal: 1m 10s\tremaining: 40.3s\n",
      "382:\tlearn: 2544.9830299\ttotal: 1m 10s\tremaining: 40.1s\n",
      "383:\tlearn: 2544.7487826\ttotal: 1m 11s\tremaining: 39.9s\n",
      "384:\tlearn: 2544.7184992\ttotal: 1m 11s\tremaining: 39.7s\n",
      "385:\tlearn: 2544.5327518\ttotal: 1m 11s\tremaining: 39.5s\n",
      "386:\tlearn: 2544.2820710\ttotal: 1m 11s\tremaining: 39.3s\n",
      "387:\tlearn: 2544.0790264\ttotal: 1m 11s\tremaining: 39.2s\n",
      "388:\tlearn: 2543.9470142\ttotal: 1m 11s\tremaining: 39s\n",
      "389:\tlearn: 2543.7123384\ttotal: 1m 12s\tremaining: 38.8s\n",
      "390:\tlearn: 2543.5416144\ttotal: 1m 12s\tremaining: 38.6s\n",
      "391:\tlearn: 2543.1302310\ttotal: 1m 12s\tremaining: 38.4s\n",
      "392:\tlearn: 2542.9029055\ttotal: 1m 12s\tremaining: 38.2s\n",
      "393:\tlearn: 2542.7526403\ttotal: 1m 12s\tremaining: 38.1s\n",
      "394:\tlearn: 2542.5420564\ttotal: 1m 12s\tremaining: 37.9s\n",
      "395:\tlearn: 2542.4185778\ttotal: 1m 13s\tremaining: 37.7s\n",
      "396:\tlearn: 2542.2037277\ttotal: 1m 13s\tremaining: 37.5s\n",
      "397:\tlearn: 2541.8980679\ttotal: 1m 13s\tremaining: 37.3s\n",
      "398:\tlearn: 2541.6197474\ttotal: 1m 13s\tremaining: 37.1s\n",
      "399:\tlearn: 2541.4661271\ttotal: 1m 13s\tremaining: 37s\n",
      "400:\tlearn: 2541.2761441\ttotal: 1m 14s\tremaining: 36.8s\n",
      "401:\tlearn: 2541.1399350\ttotal: 1m 14s\tremaining: 36.6s\n",
      "402:\tlearn: 2541.0266479\ttotal: 1m 14s\tremaining: 36.4s\n",
      "403:\tlearn: 2540.8414466\ttotal: 1m 14s\tremaining: 36.2s\n",
      "404:\tlearn: 2540.6691087\ttotal: 1m 14s\tremaining: 36s\n",
      "405:\tlearn: 2540.5417692\ttotal: 1m 14s\tremaining: 35.8s\n",
      "406:\tlearn: 2540.4344590\ttotal: 1m 15s\tremaining: 35.6s\n",
      "407:\tlearn: 2540.2406388\ttotal: 1m 15s\tremaining: 35.5s\n",
      "408:\tlearn: 2540.1058249\ttotal: 1m 15s\tremaining: 35.3s\n",
      "409:\tlearn: 2539.8219877\ttotal: 1m 15s\tremaining: 35.1s\n",
      "410:\tlearn: 2539.5356542\ttotal: 1m 15s\tremaining: 34.9s\n",
      "411:\tlearn: 2539.4090200\ttotal: 1m 16s\tremaining: 34.7s\n",
      "412:\tlearn: 2539.2438823\ttotal: 1m 16s\tremaining: 34.5s\n",
      "413:\tlearn: 2539.2120878\ttotal: 1m 16s\tremaining: 34.3s\n",
      "414:\tlearn: 2539.0200827\ttotal: 1m 16s\tremaining: 34.1s\n",
      "415:\tlearn: 2538.8452745\ttotal: 1m 16s\tremaining: 34s\n",
      "416:\tlearn: 2538.6304099\ttotal: 1m 16s\tremaining: 33.8s\n",
      "417:\tlearn: 2538.4405577\ttotal: 1m 17s\tremaining: 33.6s\n",
      "418:\tlearn: 2538.1565255\ttotal: 1m 17s\tremaining: 33.4s\n",
      "419:\tlearn: 2537.9497346\ttotal: 1m 17s\tremaining: 33.2s\n",
      "420:\tlearn: 2537.6983390\ttotal: 1m 17s\tremaining: 33s\n",
      "421:\tlearn: 2537.4851000\ttotal: 1m 17s\tremaining: 32.8s\n",
      "422:\tlearn: 2537.3377842\ttotal: 1m 18s\tremaining: 32.7s\n",
      "423:\tlearn: 2537.1932883\ttotal: 1m 18s\tremaining: 32.5s\n",
      "424:\tlearn: 2537.0032586\ttotal: 1m 18s\tremaining: 32.3s\n",
      "425:\tlearn: 2536.7920377\ttotal: 1m 18s\tremaining: 32.1s\n",
      "426:\tlearn: 2536.5779662\ttotal: 1m 18s\tremaining: 31.9s\n",
      "427:\tlearn: 2536.5108483\ttotal: 1m 18s\tremaining: 31.7s\n",
      "428:\tlearn: 2536.3635425\ttotal: 1m 19s\tremaining: 31.5s\n",
      "429:\tlearn: 2536.1487483\ttotal: 1m 19s\tremaining: 31.3s\n",
      "430:\tlearn: 2535.9930183\ttotal: 1m 19s\tremaining: 31.2s\n",
      "431:\tlearn: 2535.7173095\ttotal: 1m 19s\tremaining: 31s\n",
      "432:\tlearn: 2535.4672826\ttotal: 1m 19s\tremaining: 30.8s\n",
      "433:\tlearn: 2535.2979980\ttotal: 1m 19s\tremaining: 30.6s\n",
      "434:\tlearn: 2535.0837031\ttotal: 1m 20s\tremaining: 30.4s\n",
      "435:\tlearn: 2534.8804224\ttotal: 1m 20s\tremaining: 30.2s\n",
      "436:\tlearn: 2534.6276999\ttotal: 1m 20s\tremaining: 30s\n",
      "437:\tlearn: 2534.4453236\ttotal: 1m 20s\tremaining: 29.8s\n",
      "438:\tlearn: 2534.2456829\ttotal: 1m 20s\tremaining: 29.7s\n",
      "439:\tlearn: 2534.0952792\ttotal: 1m 21s\tremaining: 29.5s\n",
      "440:\tlearn: 2533.9499385\ttotal: 1m 21s\tremaining: 29.3s\n",
      "441:\tlearn: 2533.7710812\ttotal: 1m 21s\tremaining: 29.1s\n",
      "442:\tlearn: 2533.7013570\ttotal: 1m 21s\tremaining: 28.9s\n",
      "443:\tlearn: 2533.5668749\ttotal: 1m 21s\tremaining: 28.7s\n",
      "444:\tlearn: 2533.3648243\ttotal: 1m 21s\tremaining: 28.5s\n",
      "445:\tlearn: 2533.1554290\ttotal: 1m 22s\tremaining: 28.3s\n",
      "446:\tlearn: 2532.9658482\ttotal: 1m 22s\tremaining: 28.2s\n",
      "447:\tlearn: 2532.8514485\ttotal: 1m 22s\tremaining: 28s\n"
     ]
    },
    {
     "name": "stdout",
     "output_type": "stream",
     "text": [
      "448:\tlearn: 2532.7407366\ttotal: 1m 22s\tremaining: 27.8s\n",
      "449:\tlearn: 2532.5758499\ttotal: 1m 22s\tremaining: 27.6s\n",
      "450:\tlearn: 2532.4181644\ttotal: 1m 22s\tremaining: 27.4s\n",
      "451:\tlearn: 2532.2074911\ttotal: 1m 23s\tremaining: 27.2s\n",
      "452:\tlearn: 2532.0189542\ttotal: 1m 23s\tremaining: 27s\n",
      "453:\tlearn: 2531.7877638\ttotal: 1m 23s\tremaining: 26.9s\n",
      "454:\tlearn: 2531.6165435\ttotal: 1m 23s\tremaining: 26.7s\n",
      "455:\tlearn: 2531.4928296\ttotal: 1m 23s\tremaining: 26.5s\n",
      "456:\tlearn: 2531.2677468\ttotal: 1m 24s\tremaining: 26.3s\n",
      "457:\tlearn: 2531.0561456\ttotal: 1m 24s\tremaining: 26.1s\n",
      "458:\tlearn: 2530.8808232\ttotal: 1m 24s\tremaining: 25.9s\n",
      "459:\tlearn: 2530.7010569\ttotal: 1m 24s\tremaining: 25.7s\n",
      "460:\tlearn: 2530.5600554\ttotal: 1m 24s\tremaining: 25.5s\n",
      "461:\tlearn: 2530.4156288\ttotal: 1m 24s\tremaining: 25.4s\n",
      "462:\tlearn: 2530.3509901\ttotal: 1m 25s\tremaining: 25.2s\n",
      "463:\tlearn: 2530.1686246\ttotal: 1m 25s\tremaining: 25s\n",
      "464:\tlearn: 2529.9988448\ttotal: 1m 25s\tremaining: 24.8s\n",
      "465:\tlearn: 2529.8246449\ttotal: 1m 25s\tremaining: 24.6s\n",
      "466:\tlearn: 2529.6919946\ttotal: 1m 25s\tremaining: 24.4s\n",
      "467:\tlearn: 2529.5439466\ttotal: 1m 25s\tremaining: 24.2s\n",
      "468:\tlearn: 2529.3251902\ttotal: 1m 26s\tremaining: 24s\n",
      "469:\tlearn: 2529.1567121\ttotal: 1m 26s\tremaining: 23.9s\n",
      "470:\tlearn: 2529.0301000\ttotal: 1m 26s\tremaining: 23.7s\n",
      "471:\tlearn: 2528.8740293\ttotal: 1m 26s\tremaining: 23.5s\n",
      "472:\tlearn: 2528.7443992\ttotal: 1m 26s\tremaining: 23.3s\n",
      "473:\tlearn: 2528.5299740\ttotal: 1m 26s\tremaining: 23.1s\n",
      "474:\tlearn: 2528.4312843\ttotal: 1m 27s\tremaining: 22.9s\n",
      "475:\tlearn: 2528.2487306\ttotal: 1m 27s\tremaining: 22.7s\n",
      "476:\tlearn: 2528.1516237\ttotal: 1m 27s\tremaining: 22.5s\n",
      "477:\tlearn: 2527.9983096\ttotal: 1m 27s\tremaining: 22.4s\n",
      "478:\tlearn: 2527.8997050\ttotal: 1m 27s\tremaining: 22.2s\n",
      "479:\tlearn: 2527.6669553\ttotal: 1m 27s\tremaining: 22s\n",
      "480:\tlearn: 2527.5129940\ttotal: 1m 28s\tremaining: 21.8s\n",
      "481:\tlearn: 2527.3269373\ttotal: 1m 28s\tremaining: 21.6s\n",
      "482:\tlearn: 2527.1937915\ttotal: 1m 28s\tremaining: 21.4s\n",
      "483:\tlearn: 2527.0334457\ttotal: 1m 28s\tremaining: 21.2s\n",
      "484:\tlearn: 2526.8672294\ttotal: 1m 28s\tremaining: 21.1s\n",
      "485:\tlearn: 2526.6745992\ttotal: 1m 29s\tremaining: 20.9s\n",
      "486:\tlearn: 2526.4671965\ttotal: 1m 29s\tremaining: 20.7s\n",
      "487:\tlearn: 2526.3029893\ttotal: 1m 29s\tremaining: 20.5s\n",
      "488:\tlearn: 2526.1643124\ttotal: 1m 29s\tremaining: 20.3s\n",
      "489:\tlearn: 2526.0496601\ttotal: 1m 29s\tremaining: 20.1s\n",
      "490:\tlearn: 2525.9317732\ttotal: 1m 29s\tremaining: 20s\n",
      "491:\tlearn: 2525.8183171\ttotal: 1m 30s\tremaining: 19.8s\n",
      "492:\tlearn: 2525.5671410\ttotal: 1m 30s\tremaining: 19.6s\n",
      "493:\tlearn: 2525.4419236\ttotal: 1m 30s\tremaining: 19.4s\n",
      "494:\tlearn: 2525.3427967\ttotal: 1m 30s\tremaining: 19.2s\n",
      "495:\tlearn: 2525.1061882\ttotal: 1m 30s\tremaining: 19s\n",
      "496:\tlearn: 2525.0282438\ttotal: 1m 30s\tremaining: 18.8s\n",
      "497:\tlearn: 2524.8499200\ttotal: 1m 31s\tremaining: 18.7s\n",
      "498:\tlearn: 2524.7487120\ttotal: 1m 31s\tremaining: 18.5s\n",
      "499:\tlearn: 2524.6148602\ttotal: 1m 31s\tremaining: 18.3s\n",
      "500:\tlearn: 2524.5485454\ttotal: 1m 31s\tremaining: 18.1s\n",
      "501:\tlearn: 2524.3482903\ttotal: 1m 31s\tremaining: 17.9s\n",
      "502:\tlearn: 2524.2464546\ttotal: 1m 31s\tremaining: 17.7s\n",
      "503:\tlearn: 2524.1387876\ttotal: 1m 32s\tremaining: 17.5s\n",
      "504:\tlearn: 2523.9293954\ttotal: 1m 32s\tremaining: 17.4s\n",
      "505:\tlearn: 2523.8689524\ttotal: 1m 32s\tremaining: 17.2s\n",
      "506:\tlearn: 2523.7229336\ttotal: 1m 32s\tremaining: 17s\n",
      "507:\tlearn: 2523.4488807\ttotal: 1m 32s\tremaining: 16.8s\n",
      "508:\tlearn: 2523.1753915\ttotal: 1m 32s\tremaining: 16.6s\n",
      "509:\tlearn: 2522.9811036\ttotal: 1m 33s\tremaining: 16.4s\n",
      "510:\tlearn: 2522.8410514\ttotal: 1m 33s\tremaining: 16.3s\n",
      "511:\tlearn: 2522.6713402\ttotal: 1m 33s\tremaining: 16.1s\n",
      "512:\tlearn: 2522.5118432\ttotal: 1m 33s\tremaining: 15.9s\n",
      "513:\tlearn: 2522.3423762\ttotal: 1m 33s\tremaining: 15.7s\n",
      "514:\tlearn: 2522.1596108\ttotal: 1m 34s\tremaining: 15.5s\n",
      "515:\tlearn: 2522.0198988\ttotal: 1m 34s\tremaining: 15.3s\n",
      "516:\tlearn: 2521.8710296\ttotal: 1m 34s\tremaining: 15.2s\n",
      "517:\tlearn: 2521.6905069\ttotal: 1m 34s\tremaining: 15s\n",
      "518:\tlearn: 2521.5248931\ttotal: 1m 34s\tremaining: 14.8s\n",
      "519:\tlearn: 2521.3107602\ttotal: 1m 34s\tremaining: 14.6s\n",
      "520:\tlearn: 2521.1908063\ttotal: 1m 35s\tremaining: 14.4s\n",
      "521:\tlearn: 2520.9333073\ttotal: 1m 35s\tremaining: 14.2s\n",
      "522:\tlearn: 2520.7434037\ttotal: 1m 35s\tremaining: 14.1s\n",
      "523:\tlearn: 2520.5661847\ttotal: 1m 35s\tremaining: 13.9s\n",
      "524:\tlearn: 2520.2892249\ttotal: 1m 35s\tremaining: 13.7s\n",
      "525:\tlearn: 2520.0810965\ttotal: 1m 36s\tremaining: 13.5s\n",
      "526:\tlearn: 2519.8966089\ttotal: 1m 36s\tremaining: 13.3s\n",
      "527:\tlearn: 2519.8141166\ttotal: 1m 36s\tremaining: 13.1s\n",
      "528:\tlearn: 2519.6885246\ttotal: 1m 36s\tremaining: 13s\n",
      "529:\tlearn: 2519.4710200\ttotal: 1m 36s\tremaining: 12.8s\n",
      "530:\tlearn: 2519.3470214\ttotal: 1m 36s\tremaining: 12.6s\n",
      "531:\tlearn: 2519.1265819\ttotal: 1m 37s\tremaining: 12.4s\n",
      "532:\tlearn: 2518.9174098\ttotal: 1m 37s\tremaining: 12.2s\n",
      "533:\tlearn: 2518.7260699\ttotal: 1m 37s\tremaining: 12s\n",
      "534:\tlearn: 2518.5053506\ttotal: 1m 37s\tremaining: 11.9s\n",
      "535:\tlearn: 2518.2882598\ttotal: 1m 37s\tremaining: 11.7s\n",
      "536:\tlearn: 2518.0670645\ttotal: 1m 38s\tremaining: 11.5s\n",
      "537:\tlearn: 2517.9601434\ttotal: 1m 38s\tremaining: 11.3s\n",
      "538:\tlearn: 2517.9124231\ttotal: 1m 38s\tremaining: 11.1s\n",
      "539:\tlearn: 2517.7923303\ttotal: 1m 38s\tremaining: 10.9s\n",
      "540:\tlearn: 2517.6572475\ttotal: 1m 38s\tremaining: 10.8s\n",
      "541:\tlearn: 2517.5043302\ttotal: 1m 38s\tremaining: 10.6s\n",
      "542:\tlearn: 2517.3417224\ttotal: 1m 39s\tremaining: 10.4s\n",
      "543:\tlearn: 2517.1123434\ttotal: 1m 39s\tremaining: 10.2s\n",
      "544:\tlearn: 2516.9749010\ttotal: 1m 39s\tremaining: 10s\n",
      "545:\tlearn: 2516.7946684\ttotal: 1m 39s\tremaining: 9.85s\n",
      "546:\tlearn: 2516.6443598\ttotal: 1m 39s\tremaining: 9.66s\n",
      "547:\tlearn: 2516.4972306\ttotal: 1m 39s\tremaining: 9.48s\n",
      "548:\tlearn: 2516.2675553\ttotal: 1m 40s\tremaining: 9.3s\n",
      "549:\tlearn: 2516.1307958\ttotal: 1m 40s\tremaining: 9.12s\n",
      "550:\tlearn: 2515.9937434\ttotal: 1m 40s\tremaining: 8.93s\n",
      "551:\tlearn: 2515.8212832\ttotal: 1m 40s\tremaining: 8.75s\n",
      "552:\tlearn: 2515.6254525\ttotal: 1m 40s\tremaining: 8.57s\n",
      "553:\tlearn: 2515.4754215\ttotal: 1m 41s\tremaining: 8.39s\n",
      "554:\tlearn: 2515.4357898\ttotal: 1m 41s\tremaining: 8.21s\n",
      "555:\tlearn: 2515.3249969\ttotal: 1m 41s\tremaining: 8.03s\n",
      "556:\tlearn: 2515.1972273\ttotal: 1m 41s\tremaining: 7.85s\n",
      "557:\tlearn: 2515.0138585\ttotal: 1m 41s\tremaining: 7.67s\n",
      "558:\tlearn: 2514.9517881\ttotal: 1m 42s\tremaining: 7.48s\n",
      "559:\tlearn: 2514.8414540\ttotal: 1m 42s\tremaining: 7.3s\n",
      "560:\tlearn: 2514.6870602\ttotal: 1m 42s\tremaining: 7.12s\n",
      "561:\tlearn: 2514.5726664\ttotal: 1m 42s\tremaining: 6.94s\n",
      "562:\tlearn: 2514.4156329\ttotal: 1m 42s\tremaining: 6.75s\n",
      "563:\tlearn: 2514.2223424\ttotal: 1m 42s\tremaining: 6.57s\n",
      "564:\tlearn: 2514.0853475\ttotal: 1m 43s\tremaining: 6.39s\n",
      "565:\tlearn: 2513.8909944\ttotal: 1m 43s\tremaining: 6.21s\n",
      "566:\tlearn: 2513.8097256\ttotal: 1m 43s\tremaining: 6.03s\n",
      "567:\tlearn: 2513.6933147\ttotal: 1m 43s\tremaining: 5.85s\n",
      "568:\tlearn: 2513.5399717\ttotal: 1m 43s\tremaining: 5.66s\n",
      "569:\tlearn: 2513.4449543\ttotal: 1m 44s\tremaining: 5.48s\n",
      "570:\tlearn: 2513.2715644\ttotal: 1m 44s\tremaining: 5.3s\n",
      "571:\tlearn: 2513.1422749\ttotal: 1m 44s\tremaining: 5.12s\n",
      "572:\tlearn: 2513.0592922\ttotal: 1m 44s\tremaining: 4.93s\n",
      "573:\tlearn: 2512.8911472\ttotal: 1m 44s\tremaining: 4.75s\n",
      "574:\tlearn: 2512.8092691\ttotal: 1m 45s\tremaining: 4.57s\n",
      "575:\tlearn: 2512.6664334\ttotal: 1m 45s\tremaining: 4.39s\n",
      "576:\tlearn: 2512.5035330\ttotal: 1m 45s\tremaining: 4.21s\n",
      "577:\tlearn: 2512.3268264\ttotal: 1m 45s\tremaining: 4.03s\n",
      "578:\tlearn: 2512.0290430\ttotal: 1m 46s\tremaining: 3.85s\n",
      "579:\tlearn: 2511.9094265\ttotal: 1m 46s\tremaining: 3.66s\n",
      "580:\tlearn: 2511.7217990\ttotal: 1m 46s\tremaining: 3.48s\n",
      "581:\tlearn: 2511.4947595\ttotal: 1m 46s\tremaining: 3.3s\n",
      "582:\tlearn: 2511.2737800\ttotal: 1m 47s\tremaining: 3.12s\n",
      "583:\tlearn: 2511.1349515\ttotal: 1m 47s\tremaining: 2.94s\n",
      "584:\tlearn: 2511.0017069\ttotal: 1m 47s\tremaining: 2.76s\n",
      "585:\tlearn: 2510.8199527\ttotal: 1m 47s\tremaining: 2.57s\n",
      "586:\tlearn: 2510.6844541\ttotal: 1m 47s\tremaining: 2.39s\n",
      "587:\tlearn: 2510.4895126\ttotal: 1m 48s\tremaining: 2.21s\n",
      "588:\tlearn: 2510.2285535\ttotal: 1m 48s\tremaining: 2.02s\n",
      "589:\tlearn: 2510.0825748\ttotal: 1m 48s\tremaining: 1.84s\n",
      "590:\tlearn: 2509.8679723\ttotal: 1m 48s\tremaining: 1.66s\n",
      "591:\tlearn: 2509.8198325\ttotal: 1m 48s\tremaining: 1.47s\n",
      "592:\tlearn: 2509.5929227\ttotal: 1m 49s\tremaining: 1.29s\n",
      "593:\tlearn: 2509.4416684\ttotal: 1m 49s\tremaining: 1.1s\n",
      "594:\tlearn: 2509.2593973\ttotal: 1m 49s\tremaining: 921ms\n"
     ]
    },
    {
     "name": "stdout",
     "output_type": "stream",
     "text": [
      "595:\tlearn: 2509.1067139\ttotal: 1m 49s\tremaining: 737ms\n",
      "596:\tlearn: 2508.9366370\ttotal: 1m 49s\tremaining: 553ms\n",
      "597:\tlearn: 2508.7794528\ttotal: 1m 50s\tremaining: 369ms\n",
      "598:\tlearn: 2508.5885912\ttotal: 1m 50s\tremaining: 184ms\n",
      "599:\tlearn: 2508.4775208\ttotal: 1m 50s\tremaining: 0us\n",
      "R squared of Regressor model: 0.7505556356144297\n",
      "Wall time: 1min 53s\n"
     ]
    }
   ],
   "source": [
    "%%time\n",
    "# CatBoost Regressor\n",
    "import catboost\n",
    "from catboost import CatBoostRegressor\n",
    "catboostr = CatBoostRegressor(loss_function='RMSE', random_state= 15, bagging_temperature = 0, depth= 8, iterations = 600, \n",
    "                              l2_leaf_reg = 0.1, learning_rate = 0.1, random_strength = 0 )\n",
    "catboostr = catboostr.fit(X_train[rfr_features_lst], y_train)\n",
    "catboost_R_squared = catboostr.score(X_train[rfr_features_lst], y_train)\n",
    "print('R squared of Regressor model:', catboost_R_squared)"
   ]
  },
  {
   "cell_type": "code",
   "execution_count": 41,
   "metadata": {},
   "outputs": [],
   "source": [
    "# Prediction of X_validation Dataset 7278670690446742\n",
    "y_validation_predict = catboostr.predict(X_validation[rfr_features_lst])"
   ]
  },
  {
   "cell_type": "code",
   "execution_count": 67,
   "metadata": {},
   "outputs": [],
   "source": [
    "#model.fit(X_train, y_train,cat_features=categorical_features_indices,eval_set=(X_validation, y_validation),plot=True)"
   ]
  },
  {
   "cell_type": "markdown",
   "metadata": {},
   "source": [
    "#### Model Validation Prediction"
   ]
  },
  {
   "cell_type": "code",
   "execution_count": 43,
   "metadata": {},
   "outputs": [
    {
     "name": "stdout",
     "output_type": "stream",
     "text": [
      "0.737\n"
     ]
    }
   ],
   "source": [
    "# Check the explained Variance score of the validation \n",
    "from sklearn.metrics import explained_variance_score\n",
    "model_explained_score = explained_variance_score(y_validation, y_validation_predict)\n",
    "print(round(model_explained_score,3))"
   ]
  },
  {
   "cell_type": "code",
   "execution_count": 44,
   "metadata": {},
   "outputs": [
    {
     "name": "stdout",
     "output_type": "stream",
     "text": [
      "Mean Absolute Error : 1905.8771764809164\n",
      "Mean Squared Error : 6639905.461123766\n",
      "Root Mean Squared Error : 2576.801401180108\n"
     ]
    }
   ],
   "source": [
    "#### Validation Evaluation Matrix of the Model, RMSE, MSE  & MAE value\n",
    "from sklearn.metrics import mean_squared_error, mean_absolute_error\n",
    "residuals = (y_validation - y_validation_predict)\n",
    "mae = mean_absolute_error(y_validation_predict,y_validation)\n",
    "mse = mean_squared_error(y_validation_predict,y_validation)\n",
    "RMSE = np.sqrt(mse)\n",
    "print('Mean Absolute Error :', mae)\n",
    "print('Mean Squared Error :', mse)\n",
    "print('Root Mean Squared Error :', RMSE)"
   ]
  },
  {
   "cell_type": "code",
   "execution_count": 45,
   "metadata": {},
   "outputs": [
    {
     "name": "stdout",
     "output_type": "stream",
     "text": [
      "Mean Absolute Percentage Error: 30.35%\n"
     ]
    }
   ],
   "source": [
    "#### MAPE METRICS for X_train Dataset ####\n",
    "validation_mape = (y_validation - y_validation_predict)/y_validation *100\n",
    "validation_mape = round(np.mean(np.abs(validation_mape)),2)\n",
    "print('Mean Absolute Percentage Error: {}%'.format(validation_mape))"
   ]
  },
  {
   "cell_type": "markdown",
   "metadata": {},
   "source": [
    "#### Actual Values Vs Predicted Values"
   ]
  },
  {
   "cell_type": "code",
   "execution_count": 46,
   "metadata": {},
   "outputs": [
    {
     "data": {
      "image/png": "[encoded data removed]",
      "text/plain": [
       "<Figure size 1152x432 with 1 Axes>"
      ]
     },
     "metadata": {
      "needs_background": "light"
     },
     "output_type": "display_data"
    }
   ],
   "source": [
    "# Visualizing the differences between actual prices and predicted values\n",
    "plt.figure(figsize=(16,6))\n",
    "plt.scatter(y_validation, y_validation_predict)\n",
    "plt.xlabel(\"Actual\")\n",
    "plt.ylabel(\"Predicted Values\")\n",
    "plt.title(\"Actual vs Predicted Values\")\n",
    "plt.show()"
   ]
  },
  {
   "cell_type": "markdown",
   "metadata": {},
   "source": [
    "#### Predicted Vs Residuals"
   ]
  },
  {
   "cell_type": "code",
   "execution_count": 47,
   "metadata": {},
   "outputs": [
    {
     "data": {
      "image/png": "[encoded data removed]",
      "text/plain": [
       "<Figure size 1152x432 with 1 Axes>"
      ]
     },
     "metadata": {
      "needs_background": "light"
     },
     "output_type": "display_data"
    }
   ],
   "source": [
    "#### Residuals Vs Predicted Values Scatter plot ####\n",
    "plt.figure(figsize=(16,6))\n",
    "plt.title(\"{} vs Residuals\".format('Predicted'),fontsize=16)\n",
    "plt.scatter(x=y_validation_predict,y=residuals,color='blue',edgecolor='k')\n",
    "plt.grid(True)\n",
    "xmin=min(y_validation_predict)\n",
    "xmax = max(y_validation_predict)\n",
    "plt.hlines(y=0,xmin=xmin*0.9,xmax=xmax*1.1,color='red',linestyle='--',lw=3)\n",
    "plt.xlabel('Predict',fontsize=14)\n",
    "plt.ylabel('Residuals',fontsize=14)\n",
    "plt.show()"
   ]
  },
  {
   "cell_type": "markdown",
   "metadata": {},
   "source": [
    "#### Distribution of Residuals"
   ]
  },
  {
   "cell_type": "code",
   "execution_count": 48,
   "metadata": {},
   "outputs": [
    {
     "name": "stdout",
     "output_type": "stream",
     "text": [
      "Mean of Residuals : 10.12678789106191\n",
      "Std Deviation of Residuals : 2576.781502046858\n"
     ]
    },
    {
     "data": {
      "image/png": "[encoded data removed]",
      "text/plain": [
       "<Figure size 432x288 with 1 Axes>"
      ]
     },
     "metadata": {
      "needs_background": "light"
     },
     "output_type": "display_data"
    }
   ],
   "source": [
    "# Histogram Distribution of Residuals\n",
    "sns.distplot(residuals)\n",
    "print('Mean of Residuals :', np.mean(residuals))\n",
    "print('Std Deviation of Residuals :', np.std(residuals))\n",
    "plt.title('Residual Distribution')\n",
    "plt.xlabel(\"Residuals\")\n",
    "plt.ylabel(\"Frequency\")\n",
    "plt.show()"
   ]
  },
  {
   "cell_type": "code",
   "execution_count": 49,
   "metadata": {},
   "outputs": [
    {
     "data": {
      "text/plain": [
       "<Figure size 1152x432 with 0 Axes>"
      ]
     },
     "metadata": {},
     "output_type": "display_data"
    },
    {
     "data": {
      "image/png": "[encoded data removed]",
      "text/plain": [
       "<Figure size 432x288 with 1 Axes>"
      ]
     },
     "metadata": {
      "needs_background": "light"
     },
     "output_type": "display_data"
    }
   ],
   "source": [
    "# Q-Q Plots of Residuals\n",
    "from statsmodels.graphics.gofplots import qqplot\n",
    "plt.figure(figsize=(16,6))\n",
    "fig=qqplot(residuals,line='45',fit='True')\n",
    "plt.xticks(fontsize=13)\n",
    "plt.yticks(fontsize=13)\n",
    "plt.xlabel(\"Theoretical quantiles\",fontsize=15)\n",
    "plt.ylabel(\"Sample quantiles\",fontsize=15)\n",
    "plt.title(\"Q-Q plot of normalized residuals\",fontsize=18)\n",
    "plt.grid(True)\n",
    "plt.show()"
   ]
  },
  {
   "cell_type": "markdown",
   "metadata": {},
   "source": [
    "#### Residual Normality Test"
   ]
  },
  {
   "cell_type": "code",
   "execution_count": 50,
   "metadata": {},
   "outputs": [
    {
     "name": "stdout",
     "output_type": "stream",
     "text": [
      "0.943507969379425 0.11308106034994125\n",
      "0.8959884643554688 0.006709675770252943\n",
      "0.9602717161178589 0.31476280093193054\n",
      "0.9609756469726562 0.32800453901290894\n",
      "0.9783889651298523 0.7812892198562622\n",
      "0.976006031036377 0.7123538255691528\n",
      "0.9286681413650513 0.04526723176240921\n",
      "0.9670237898826599 0.46127256751060486\n",
      "0.9819251894950867 0.8741068243980408\n",
      "0.9465065002441406 0.13620401918888092\n"
     ]
    }
   ],
   "source": [
    "# statistical normality test for validation dataset redisuals\n",
    "from scipy.stats import shapiro\n",
    "for i in range(10) :\n",
    "    stats, pval = shapiro(residuals.sample(30))\n",
    "    print(stats, pval)"
   ]
  },
  {
   "cell_type": "markdown",
   "metadata": {},
   "source": [
    "#### Observations :\n",
    "    1. Residuals follow normal distribution"
   ]
  },
  {
   "cell_type": "markdown",
   "metadata": {},
   "source": [
    "#### Homoscedasticity (constant variance)  test of the Residuals"
   ]
  },
  {
   "cell_type": "code",
   "execution_count": 51,
   "metadata": {},
   "outputs": [
    {
     "name": "stdout",
     "output_type": "stream",
     "text": [
      "0.2329108019208719 0.629373862087958\n",
      "0.0038861523217839657 0.9502928624008563\n",
      "1.0782481151286871 0.29908979538454333\n",
      "1.2734301447116951 0.25912417208280625\n",
      "1.6221022663945577 0.2027989055355511\n",
      "0.13122538292163805 0.7171648880598287\n",
      "6.251550024966542 0.012408467813798002\n",
      "10.7204439770181 0.0010595824488595802\n",
      "0.12931647751863348 0.7191417936366249\n",
      "2.136430511506159 0.14383622723807743\n"
     ]
    }
   ],
   "source": [
    "# Bartlett Statistical Test\n",
    "### Null Hypothesis : Variances are same, Alternate Hypothesis : Variances are different, significance level = 0.05\n",
    "from scipy.stats import bartlett\n",
    "for i in range(10) :\n",
    "    stats, pval = bartlett(residuals.sample(30), residuals.sample(30))\n",
    "    print(stats, pval)"
   ]
  },
  {
   "cell_type": "markdown",
   "metadata": {},
   "source": [
    "#### Observations :\n",
    "    1. Variance among the residuals are same\n",
    "    2. Residuals has constant variance"
   ]
  },
  {
   "cell_type": "markdown",
   "metadata": {},
   "source": [
    "#### Cook's distance (checking for outliers in residuals)"
   ]
  },
  {
   "cell_type": "code",
   "execution_count": null,
   "metadata": {},
   "outputs": [],
   "source": [
    "%%time\n",
    "##### Cook's Distance ####\n",
    "#from statsmodels.stats.outliers_influence import OLSInfluence as influence\n",
    "#inf=influence(model)\n",
    "##### c is Cook's Distance ####\n",
    "#(c, p) = inf.cooks_distance\n",
    "#plt.figure(figsize=(16,6))\n",
    "#plt.title(\"Cook's distance plot for the residuals\",fontsize=16)\n",
    "#plt.stem(np.arange(len(c)), c, markerfmt=\",\")\n",
    "#plt.grid(True)\n",
    "#plt.show()"
   ]
  },
  {
   "cell_type": "markdown",
   "metadata": {},
   "source": [
    "#### pickling models"
   ]
  },
  {
   "cell_type": "code",
   "execution_count": 35,
   "metadata": {},
   "outputs": [
    {
     "name": "stdout",
     "output_type": "stream",
     "text": [
      "['linear_regressor.pkl']\n",
      "['xgbr.pkl']\n",
      "['catboost.pkl']\n"
     ]
    }
   ],
   "source": [
    "# Linear Regression\n",
    "print(joblib.dump(regressor, \"linear_regressor.pkl\"))\n",
    "\n",
    "# XGBoost Regressor\n",
    "print(joblib.dump(xgbr, \"xgbr.pkl\"))\n",
    "\n",
    "# catboost \n",
    "print(joblib.dump(catboostr, \"catboost.pkl\"))"
   ]
  },
  {
   "cell_type": "code",
   "execution_count": null,
   "metadata": {},
   "outputs": [],
   "source": []
  },
  {
   "cell_type": "code",
   "execution_count": null,
   "metadata": {},
   "outputs": [],
   "source": []
  }
 ],
 "metadata": {
  "kernelspec": {
   "display_name": "Python 3",
   "language": "python",
   "name": "python3"
  },
  "language_info": {
   "codemirror_mode": {
    "name": "ipython",
    "version": 3
   },
   "file_extension": ".py",
   "mimetype": "text/x-python",
   "name": "python",
   "nbconvert_exporter": "python",
   "pygments_lexer": "ipython3",
   "version": "3.7.3"
  }
 },
 "nbformat": 4,
 "nbformat_minor": 2
}
