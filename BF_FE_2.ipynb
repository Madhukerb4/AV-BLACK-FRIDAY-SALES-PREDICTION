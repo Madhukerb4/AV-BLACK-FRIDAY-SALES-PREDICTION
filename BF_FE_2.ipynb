{
 "cells": [
  {
   "cell_type": "code",
   "execution_count": 1,
   "metadata": {},
   "outputs": [],
   "source": [
    "## Importing the required Packages\n",
    "import warnings\n",
    "warnings.filterwarnings('ignore')\n",
    "import numpy as np\n",
    "import pandas as pd\n",
    "from datetime import datetime, date, time\n",
    "import joblib\n",
    "# to display all columns of the dataframe in the notebook\n",
    "pd.pandas.set_option('display.max_columns', None)"
   ]
  },
  {
   "cell_type": "code",
   "execution_count": 2,
   "metadata": {},
   "outputs": [],
   "source": [
    "import matplotlib.pyplot as plt\n",
    "import seaborn as sns\n",
    "%matplotlib inline\n",
    "from matplotlib.pyplot import figure\n",
    "from pylab import rcParams"
   ]
  },
  {
   "cell_type": "markdown",
   "metadata": {},
   "source": [
    "#### loading pickled train dataset"
   ]
  },
  {
   "cell_type": "code",
   "execution_count": 3,
   "metadata": {},
   "outputs": [
    {
     "data": {
      "text/plain": [
       "(550068, 22)"
      ]
     },
     "execution_count": 3,
     "metadata": {},
     "output_type": "execute_result"
    }
   ],
   "source": [
    "# loading pickled train dataset ####\n",
    "df_train_eda = joblib.load(\"df_train_eda.pkl\")\n",
    "df_train_eda.shape"
   ]
  },
  {
   "cell_type": "code",
   "execution_count": 4,
   "metadata": {},
   "outputs": [
    {
     "data": {
      "text/plain": [
       "Index(['User_ID', 'Product_ID', 'Gender', 'Age', 'Occupation', 'City_Category',\n",
       "       'Stay_In_Current_City_Years', 'Marital_Status', 'Product_Category_1',\n",
       "       'Product_Category_2', 'Product_Category_3', 'Purchase', 'Product_ID_n',\n",
       "       'Product_ID_s', 'Product_ID_Rare', 'Product_Category_1_Rare',\n",
       "       'Product_Category_2_Rare', 'Product_Category_3_Rare', 'Gender_le',\n",
       "       'ohe_city_A', 'ohe_city_B', 'ohe_city_C'],\n",
       "      dtype='object')"
      ]
     },
     "execution_count": 4,
     "metadata": {},
     "output_type": "execute_result"
    }
   ],
   "source": [
    "# columns\n",
    "df_train_eda.columns"
   ]
  },
  {
   "cell_type": "markdown",
   "metadata": {},
   "source": [
    "### Feature Engineering"
   ]
  },
  {
   "cell_type": "markdown",
   "metadata": {},
   "source": [
    "#### 1. product id overview"
   ]
  },
  {
   "cell_type": "code",
   "execution_count": 5,
   "metadata": {},
   "outputs": [
    {
     "name": "stdout",
     "output_type": "stream",
     "text": [
      "(2006, 7)\n"
     ]
    },
    {
     "data": {
      "text/plain": [
       "(550068, 28)"
      ]
     },
     "execution_count": 5,
     "metadata": {},
     "output_type": "execute_result"
    }
   ],
   "source": [
    "# product total, mean, median, min, max, std\n",
    "total_purchase_amt = df_train_eda['Purchase'].sum()\n",
    "df_product = pd.DataFrame()\n",
    "df_product['f_product_tot_sale_amt'] = df_train_eda.groupby(['Product_ID_Rare'])['Purchase'].sum()\n",
    "df_product['f_product_id_m'] = df_train_eda.groupby(['Product_ID_Rare'])['Purchase'].mean()\n",
    "df_product['f_product_id_median'] = df_train_eda.groupby(['Product_ID_Rare'])['Purchase'].median()\n",
    "df_product['f_product_id_min'] = df_train_eda.groupby(['Product_ID_Rare'])['Purchase'].min()\n",
    "df_product['f_product_id_max'] = df_train_eda.groupby(['Product_ID_Rare'])['Purchase'].max()\n",
    "df_product['f_product_id_std'] = df_train_eda.groupby(['Product_ID_Rare'])['Purchase'].std()\n",
    "#df_product['f_product_percent_sale'] = df_product['f_product_tot_sale_amt']/total_purchase_amt * 100\n",
    "df_product = df_product.reset_index()\n",
    "print(df_product.shape)\n",
    "\n",
    "# adding new columns\n",
    "df_train_eda = pd.merge(df_train_eda, df_product, how = 'left', on= ['Product_ID_Rare'] )\n",
    "df_train_eda.shape"
   ]
  },
  {
   "cell_type": "markdown",
   "metadata": {},
   "source": [
    "#### 2. f_gender_unique_users_cnt"
   ]
  },
  {
   "cell_type": "code",
   "execution_count": 6,
   "metadata": {},
   "outputs": [
    {
     "name": "stdout",
     "output_type": "stream",
     "text": [
      "(2, 2)\n",
      "(550068, 29)\n"
     ]
    }
   ],
   "source": [
    "# gender unique users count\n",
    "df_gender_unique_users_cnt = pd.DataFrame(df_train_eda.groupby(['Gender'])['User_ID'].nunique())\n",
    "df_gender_unique_users_cnt = df_gender_unique_users_cnt.reset_index()\n",
    "df_gender_unique_users_cnt = df_gender_unique_users_cnt.rename(columns = {'User_ID' : 'f_gender_unique_users_cnt'})\n",
    "print(df_gender_unique_users_cnt.shape)\n",
    "# add new column\n",
    "df_train_eda = pd.merge(df_train_eda, df_gender_unique_users_cnt, how = 'left', on= ['Gender'] )\n",
    "print(df_train_eda.shape)"
   ]
  },
  {
   "cell_type": "markdown",
   "metadata": {},
   "source": [
    "#### 3. user id overview"
   ]
  },
  {
   "cell_type": "code",
   "execution_count": 7,
   "metadata": {},
   "outputs": [
    {
     "name": "stdout",
     "output_type": "stream",
     "text": [
      "(5891, 8)\n"
     ]
    },
    {
     "data": {
      "text/plain": [
       "(550068, 29)"
      ]
     },
     "execution_count": 7,
     "metadata": {},
     "output_type": "execute_result"
    }
   ],
   "source": [
    "# product count \n",
    "df_userid = pd.DataFrame(df_train_eda.groupby(['User_ID']).size(), columns = ['f_userid_cnt']) \n",
    "# product mean, median, min, max, std\n",
    "df_userid['f_userid_tot_purchase_amt'] = df_train_eda.groupby(['User_ID'])['Purchase'].sum()\n",
    "df_userid['f_userid_m'] = df_train_eda.groupby(['User_ID'])['Purchase'].mean()\n",
    "df_userid['f_userid_median'] = df_train_eda.groupby(['User_ID'])['Purchase'].median()\n",
    "df_userid['f_userid_min'] = df_train_eda.groupby(['User_ID'])['Purchase'].min()\n",
    "df_userid['f_userid_max'] = df_train_eda.groupby(['User_ID'])['Purchase'].max()\n",
    "df_userid['f_userid_std'] = df_train_eda.groupby(['User_ID'])['Purchase'].std()\n",
    "df_userid = df_userid.reset_index()\n",
    "print(df_userid.shape)\n",
    "\n",
    "# adding new columns\n",
    "#df_train_eda = pd.merge(df_train_eda, df_userid, how = 'left', on= ['User_ID'] )\n",
    "df_train_eda.shape"
   ]
  },
  {
   "cell_type": "markdown",
   "metadata": {},
   "source": [
    "#### 4. Age Bin - Min & Max"
   ]
  },
  {
   "cell_type": "code",
   "execution_count": 8,
   "metadata": {},
   "outputs": [
    {
     "data": {
      "text/plain": [
       "(7, 4)"
      ]
     },
     "execution_count": 8,
     "metadata": {},
     "output_type": "execute_result"
    }
   ],
   "source": [
    "# Age Mean \n",
    "df_age = pd.DataFrame(df_train_eda.groupby(['Age'])['Purchase'].mean()) \n",
    "df_age['f_age_median'] = df_train_eda.groupby(['Age'])['Purchase'].median()\n",
    "df_age['f_age_std'] = df_train_eda.groupby(['Age'])['Purchase'].std()\n",
    "df_age = df_age.reset_index()\n",
    "df_age = df_age.rename(columns = {'Purchase' : 'f_age_m'})\n",
    "df_age.shape"
   ]
  },
  {
   "cell_type": "code",
   "execution_count": 9,
   "metadata": {},
   "outputs": [
    {
     "data": {
      "text/plain": [
       "(7, 6)"
      ]
     },
     "execution_count": 9,
     "metadata": {},
     "output_type": "execute_result"
    }
   ],
   "source": [
    "# Age Min & Max values\n",
    "age_min = []\n",
    "age_max = []\n",
    "for i in range(df_age.shape[0]) :\n",
    "    \n",
    "    if df_age['Age'][i] == '0-17' :\n",
    "        age_min.append(0)\n",
    "        age_max.append(17)\n",
    "        \n",
    "    elif df_age['Age'][i] == '18-25' :\n",
    "        age_min.append(18)\n",
    "        age_max.append(25)\n",
    "        \n",
    "    elif df_age['Age'][i] == '26-35' :\n",
    "        age_min.append(26)\n",
    "        age_max.append(35)\n",
    "    \n",
    "    elif df_age['Age'][i] == '36-45' :\n",
    "        age_min.append(36)\n",
    "        age_max.append(45)\n",
    "    \n",
    "    elif df_age['Age'][i] == '46-50' :\n",
    "        age_min.append(46)\n",
    "        age_max.append(50)\n",
    "        \n",
    "    elif df_age['Age'][i] == '51-55' :\n",
    "        age_min.append(51)\n",
    "        age_max.append(55)\n",
    "    \n",
    "    else :\n",
    "        age_min.append(56)\n",
    "        age_max.append(100)\n",
    "\n",
    "# add new columns\n",
    "df_age['f_Age_Min'] = age_min\n",
    "df_age['f_Age_Max'] = age_max\n",
    "df_age.shape"
   ]
  },
  {
   "cell_type": "code",
   "execution_count": 10,
   "metadata": {},
   "outputs": [
    {
     "data": {
      "text/plain": [
       "(550068, 34)"
      ]
     },
     "execution_count": 10,
     "metadata": {},
     "output_type": "execute_result"
    }
   ],
   "source": [
    "# adding new columns\n",
    "df_train_eda = pd.merge(df_train_eda, df_age, how = 'left', on= ['Age'] )\n",
    "df_train_eda.shape"
   ]
  },
  {
   "cell_type": "markdown",
   "metadata": {},
   "source": [
    "#### 5. f_occupation_m"
   ]
  },
  {
   "cell_type": "code",
   "execution_count": 11,
   "metadata": {},
   "outputs": [
    {
     "name": "stdout",
     "output_type": "stream",
     "text": [
      "(21, 3)\n"
     ]
    },
    {
     "data": {
      "text/plain": [
       "(550068, 36)"
      ]
     },
     "execution_count": 11,
     "metadata": {},
     "output_type": "execute_result"
    }
   ],
   "source": [
    "# Occupation mean \n",
    "df_occupation = pd.DataFrame(df_train_eda.groupby(['Occupation'])['Purchase'].mean()) \n",
    "df_occupation['f_occupation_tot_amt'] = df_train_eda.groupby(['Occupation'])['Purchase'].sum()\n",
    "df_occupation = df_occupation.reset_index()\n",
    "df_occupation = df_occupation.rename(columns = {'Purchase' : 'f_occupation_m'})\n",
    "print(df_occupation.shape)\n",
    "# add new column\n",
    "df_train_eda = pd.merge(df_train_eda, df_occupation, how = 'left', on= ['Occupation'] )\n",
    "df_train_eda.shape"
   ]
  },
  {
   "cell_type": "markdown",
   "metadata": {},
   "source": [
    "#### 6. f_current_city_m "
   ]
  },
  {
   "cell_type": "code",
   "execution_count": 12,
   "metadata": {},
   "outputs": [
    {
     "name": "stdout",
     "output_type": "stream",
     "text": [
      "(5, 6)\n"
     ]
    },
    {
     "data": {
      "text/plain": [
       "(550068, 41)"
      ]
     },
     "execution_count": 12,
     "metadata": {},
     "output_type": "execute_result"
    }
   ],
   "source": [
    "# current city period mean \n",
    "df_city_period = pd.DataFrame(df_train_eda.groupby(['Stay_In_Current_City_Years'])['Purchase'].mean()) \n",
    "df_city_period['f_current_city_median'] = df_train_eda.groupby(['Stay_In_Current_City_Years'])['Purchase'].median()\n",
    "df_city_period['f_current_city_min'] = df_train_eda.groupby(['Stay_In_Current_City_Years'])['Purchase'].min()\n",
    "df_city_period['f_current_city_max'] = df_train_eda.groupby(['Stay_In_Current_City_Years'])['Purchase'].max()\n",
    "df_city_period['f_current_city_std'] = df_train_eda.groupby(['Stay_In_Current_City_Years'])['Purchase'].std()\n",
    "df_city_period = df_city_period.reset_index()\n",
    "df_city_period = df_city_period.rename(columns = {'Purchase' : 'f_current_city_m'})\n",
    "print(df_city_period.shape)\n",
    "# add new column\n",
    "df_train_eda = pd.merge(df_train_eda, df_city_period, how = 'left', on= ['Stay_In_Current_City_Years'] )\n",
    "df_train_eda.shape"
   ]
  },
  {
   "cell_type": "markdown",
   "metadata": {},
   "source": [
    "#### 7. f_prod_category_1_m"
   ]
  },
  {
   "cell_type": "code",
   "execution_count": 13,
   "metadata": {},
   "outputs": [
    {
     "name": "stdout",
     "output_type": "stream",
     "text": [
      "(12, 7)\n"
     ]
    },
    {
     "data": {
      "text/plain": [
       "(550068, 47)"
      ]
     },
     "execution_count": 13,
     "metadata": {},
     "output_type": "execute_result"
    }
   ],
   "source": [
    "# Product Category 1 mean \n",
    "df_prod_category_1 = pd.DataFrame(df_train_eda.groupby(['Product_Category_1_Rare'])['Purchase'].mean())\n",
    "df_prod_category_1['f_prod_category_1_tot_amt'] = df_train_eda.groupby(['Product_Category_1_Rare'])['Purchase'].sum()\n",
    "df_prod_category_1['f_prod_category_1_median'] = df_train_eda.groupby(['Product_Category_1_Rare'])['Purchase'].median()\n",
    "df_prod_category_1['f_prod_category_1_min'] = df_train_eda.groupby(['Product_Category_1_Rare'])['Purchase'].min()\n",
    "df_prod_category_1['f_prod_category_1_max'] = df_train_eda.groupby(['Product_Category_1_Rare'])['Purchase'].max()\n",
    "df_prod_category_1['f_prod_category_1_std'] = df_train_eda.groupby(['Product_Category_1_Rare'])['Purchase'].std()\n",
    "df_prod_category_1 = df_prod_category_1.reset_index()\n",
    "df_prod_category_1 = df_prod_category_1.rename(columns = {'Purchase' : 'f_prod_category_1_m'})\n",
    "print(df_prod_category_1.shape)\n",
    "# add new column\n",
    "df_train_eda = pd.merge(df_train_eda, df_prod_category_1, how = 'left', on= ['Product_Category_1_Rare'] )\n",
    "df_train_eda.shape"
   ]
  },
  {
   "cell_type": "markdown",
   "metadata": {},
   "source": [
    "#### 8. f_prod_category_2_m"
   ]
  },
  {
   "cell_type": "code",
   "execution_count": 14,
   "metadata": {},
   "outputs": [
    {
     "name": "stdout",
     "output_type": "stream",
     "text": [
      "(14, 7)\n"
     ]
    },
    {
     "data": {
      "text/plain": [
       "(550068, 53)"
      ]
     },
     "execution_count": 14,
     "metadata": {},
     "output_type": "execute_result"
    }
   ],
   "source": [
    "# Product Category 2 mean \n",
    "df_prod_category_2 = pd.DataFrame(df_train_eda.groupby(['Product_Category_2_Rare'])['Purchase'].mean()) \n",
    "df_prod_category_2['f_prod_category_2_tot_amt'] = df_train_eda.groupby(['Product_Category_2_Rare'])['Purchase'].sum()\n",
    "df_prod_category_2['f_prod_category_2_median'] = df_train_eda.groupby(['Product_Category_2_Rare'])['Purchase'].median()\n",
    "df_prod_category_2['f_prod_category_2_min'] = df_train_eda.groupby(['Product_Category_2_Rare'])['Purchase'].min()\n",
    "df_prod_category_2['f_prod_category_2_max'] = df_train_eda.groupby(['Product_Category_2_Rare'])['Purchase'].max()\n",
    "df_prod_category_2['f_prod_category_2_std'] = df_train_eda.groupby(['Product_Category_2_Rare'])['Purchase'].std()\n",
    "df_prod_category_2 = df_prod_category_2.reset_index()\n",
    "df_prod_category_2 = df_prod_category_2.rename(columns = {'Purchase' : 'f_prod_category_2_m'})\n",
    "print(df_prod_category_2.shape)\n",
    "# add new column\n",
    "df_train_eda = pd.merge(df_train_eda, df_prod_category_2, how = 'left', on= ['Product_Category_2_Rare'] )\n",
    "df_train_eda.shape"
   ]
  },
  {
   "cell_type": "markdown",
   "metadata": {},
   "source": [
    "#### 9. f_prod_category_3_m"
   ]
  },
  {
   "cell_type": "code",
   "execution_count": 15,
   "metadata": {},
   "outputs": [
    {
     "name": "stdout",
     "output_type": "stream",
     "text": [
      "(9, 7)\n"
     ]
    },
    {
     "data": {
      "text/plain": [
       "(550068, 59)"
      ]
     },
     "execution_count": 15,
     "metadata": {},
     "output_type": "execute_result"
    }
   ],
   "source": [
    "# Product Category 3 mean \n",
    "df_prod_category_3 = pd.DataFrame(df_train_eda.groupby(['Product_Category_3_Rare'])['Purchase'].mean()) \n",
    "df_prod_category_3['f_prod_category_3_tot_amt'] = df_train_eda.groupby(['Product_Category_3_Rare'])['Purchase'].sum()\n",
    "df_prod_category_3['f_prod_category_3_median'] = df_train_eda.groupby(['Product_Category_3_Rare'])['Purchase'].median()\n",
    "df_prod_category_3['f_prod_category_3_min'] = df_train_eda.groupby(['Product_Category_3_Rare'])['Purchase'].min()\n",
    "df_prod_category_3['f_prod_category_3_max'] = df_train_eda.groupby(['Product_Category_3_Rare'])['Purchase'].max()\n",
    "df_prod_category_3['f_prod_category_3_std'] = df_train_eda.groupby(['Product_Category_3_Rare'])['Purchase'].std()\n",
    "df_prod_category_3 = df_prod_category_3.reset_index()\n",
    "df_prod_category_3 = df_prod_category_3.rename(columns = {'Purchase' : 'f_prod_category_3_m'})\n",
    "print(df_prod_category_3.shape)\n",
    "# add new column\n",
    "df_train_eda = pd.merge(df_train_eda, df_prod_category_3, how = 'left', on= ['Product_Category_3_Rare'] )\n",
    "df_train_eda.shape"
   ]
  },
  {
   "cell_type": "markdown",
   "metadata": {},
   "source": [
    "#### 10. f_age_occupation_m"
   ]
  },
  {
   "cell_type": "code",
   "execution_count": 16,
   "metadata": {},
   "outputs": [
    {
     "name": "stdout",
     "output_type": "stream",
     "text": [
      "(134, 3)\n"
     ]
    },
    {
     "data": {
      "text/plain": [
       "(550068, 60)"
      ]
     },
     "execution_count": 16,
     "metadata": {},
     "output_type": "execute_result"
    }
   ],
   "source": [
    "# Age & Occupation mean \n",
    "df_age_occupation_m = pd.DataFrame(df_train_eda.groupby(['Age', 'Occupation'])['Purchase'].mean()) \n",
    "df_age_occupation_m = df_age_occupation_m.reset_index()\n",
    "df_age_occupation_m = df_age_occupation_m.rename(columns = {'Purchase' : 'f_age_occupation_m'})\n",
    "print(df_age_occupation_m.shape)\n",
    "# add new column\n",
    "df_train_eda = pd.merge(df_train_eda, df_age_occupation_m, how = 'left', on= ['Age', 'Occupation'] )\n",
    "df_train_eda.shape"
   ]
  },
  {
   "cell_type": "markdown",
   "metadata": {},
   "source": [
    "#### 11. f_age_city_m"
   ]
  },
  {
   "cell_type": "code",
   "execution_count": 17,
   "metadata": {},
   "outputs": [
    {
     "name": "stdout",
     "output_type": "stream",
     "text": [
      "(21, 3)\n"
     ]
    },
    {
     "data": {
      "text/plain": [
       "(550068, 61)"
      ]
     },
     "execution_count": 17,
     "metadata": {},
     "output_type": "execute_result"
    }
   ],
   "source": [
    "# Age & city category mean \n",
    "df_age_city_m = pd.DataFrame(df_train_eda.groupby(['Age', 'City_Category'])['Purchase'].mean()) \n",
    "df_age_city_m = df_age_city_m.reset_index()\n",
    "df_age_city_m = df_age_city_m.rename(columns = {'Purchase' : 'f_age_city_m'})\n",
    "print(df_age_city_m.shape)\n",
    "# add new column\n",
    "df_train_eda = pd.merge(df_train_eda, df_age_city_m, how = 'left', on= ['Age', 'City_Category'] )\n",
    "df_train_eda.shape"
   ]
  },
  {
   "cell_type": "markdown",
   "metadata": {},
   "source": [
    "#### 12. f_age_current_city_m"
   ]
  },
  {
   "cell_type": "code",
   "execution_count": 18,
   "metadata": {},
   "outputs": [
    {
     "name": "stdout",
     "output_type": "stream",
     "text": [
      "(35, 3)\n"
     ]
    },
    {
     "data": {
      "text/plain": [
       "(550068, 62)"
      ]
     },
     "execution_count": 18,
     "metadata": {},
     "output_type": "execute_result"
    }
   ],
   "source": [
    "# Age &  Current City mean \n",
    "df_age_current_city_m = pd.DataFrame(df_train_eda.groupby(['Age', 'Stay_In_Current_City_Years'])['Purchase'].mean()) \n",
    "df_age_current_city_m = df_age_current_city_m.reset_index()\n",
    "df_age_current_city_m = df_age_current_city_m.rename(columns = {'Purchase' : 'f_age_current_city_m'})\n",
    "print(df_age_current_city_m.shape)\n",
    "# add new column\n",
    "df_train_eda = pd.merge(df_train_eda, df_age_current_city_m, how = 'left', on= ['Age', 'Stay_In_Current_City_Years'] )\n",
    "df_train_eda.shape"
   ]
  },
  {
   "cell_type": "markdown",
   "metadata": {},
   "source": [
    "#### 13. f_age_prod_category_1_m"
   ]
  },
  {
   "cell_type": "code",
   "execution_count": 19,
   "metadata": {},
   "outputs": [
    {
     "name": "stdout",
     "output_type": "stream",
     "text": [
      "(84, 3)\n"
     ]
    },
    {
     "data": {
      "text/plain": [
       "(550068, 63)"
      ]
     },
     "execution_count": 19,
     "metadata": {},
     "output_type": "execute_result"
    }
   ],
   "source": [
    "# Age &  Product Category 1 mean \n",
    "df_age_prod_category_1_m = pd.DataFrame(df_train_eda.groupby(['Age', 'Product_Category_1_Rare'])['Purchase'].mean()) \n",
    "df_age_prod_category_1_m = df_age_prod_category_1_m.reset_index()\n",
    "df_age_prod_category_1_m = df_age_prod_category_1_m.rename(columns = {'Purchase' : 'f_age_prod_category_1_m'})\n",
    "print(df_age_prod_category_1_m.shape)\n",
    "# add new column\n",
    "df_train_eda = pd.merge(df_train_eda, df_age_prod_category_1_m, how = 'left', on= ['Age', 'Product_Category_1_Rare'] )\n",
    "df_train_eda.shape"
   ]
  },
  {
   "cell_type": "markdown",
   "metadata": {},
   "source": [
    "#### 14. f_age_prod_category_2_m"
   ]
  },
  {
   "cell_type": "code",
   "execution_count": 20,
   "metadata": {},
   "outputs": [
    {
     "name": "stdout",
     "output_type": "stream",
     "text": [
      "(98, 3)\n"
     ]
    },
    {
     "data": {
      "text/plain": [
       "(550068, 64)"
      ]
     },
     "execution_count": 20,
     "metadata": {},
     "output_type": "execute_result"
    }
   ],
   "source": [
    "# Age &  Product Category 2 mean \n",
    "df_age_prod_category_2_m = pd.DataFrame(df_train_eda.groupby(['Age', 'Product_Category_2_Rare'])['Purchase'].mean()) \n",
    "df_age_prod_category_2_m = df_age_prod_category_2_m.reset_index()\n",
    "df_age_prod_category_2_m = df_age_prod_category_2_m.rename(columns = {'Purchase' : 'f_age_prod_category_2_m'})\n",
    "print(df_age_prod_category_2_m.shape)\n",
    "# add new column\n",
    "df_train_eda = pd.merge(df_train_eda, df_age_prod_category_2_m, how = 'left', on= ['Age', 'Product_Category_2_Rare'] )\n",
    "df_train_eda.shape"
   ]
  },
  {
   "cell_type": "markdown",
   "metadata": {},
   "source": [
    "#### 15. f_age_prod_category_3_m"
   ]
  },
  {
   "cell_type": "code",
   "execution_count": 21,
   "metadata": {},
   "outputs": [
    {
     "name": "stdout",
     "output_type": "stream",
     "text": [
      "(63, 3)\n"
     ]
    },
    {
     "data": {
      "text/plain": [
       "(550068, 65)"
      ]
     },
     "execution_count": 21,
     "metadata": {},
     "output_type": "execute_result"
    }
   ],
   "source": [
    "# Age &  Product Category 3 mean \n",
    "df_age_prod_category_3_m = pd.DataFrame(df_train_eda.groupby(['Age', 'Product_Category_3_Rare'])['Purchase'].mean()) \n",
    "df_age_prod_category_3_m = df_age_prod_category_3_m.reset_index()\n",
    "df_age_prod_category_3_m = df_age_prod_category_3_m.rename(columns = {'Purchase' : 'f_age_prod_category_3_m'})\n",
    "print(df_age_prod_category_3_m.shape)\n",
    "# add new column\n",
    "df_train_eda = pd.merge(df_train_eda, df_age_prod_category_3_m, how = 'left', on= ['Age', 'Product_Category_3_Rare'] )\n",
    "df_train_eda.shape"
   ]
  },
  {
   "cell_type": "markdown",
   "metadata": {},
   "source": [
    "#### 16. f_city_current_stay_m"
   ]
  },
  {
   "cell_type": "code",
   "execution_count": 22,
   "metadata": {},
   "outputs": [
    {
     "name": "stdout",
     "output_type": "stream",
     "text": [
      "(15, 3)\n"
     ]
    },
    {
     "data": {
      "text/plain": [
       "(550068, 66)"
      ]
     },
     "execution_count": 22,
     "metadata": {},
     "output_type": "execute_result"
    }
   ],
   "source": [
    "# Age &  Product Category 1 mean \n",
    "df_city_stay_m = pd.DataFrame(df_train_eda.groupby(['City_Category', 'Stay_In_Current_City_Years'])['Purchase'].mean()) \n",
    "df_city_stay_m = df_city_stay_m.reset_index()\n",
    "df_city_stay_m = df_city_stay_m.rename(columns = {'Purchase' : 'f_city_current_stay_m'})\n",
    "print(df_city_stay_m.shape)\n",
    "# add new column\n",
    "df_train_eda = pd.merge(df_train_eda, df_city_stay_m, how = 'left', on= ['City_Category', 'Stay_In_Current_City_Years'] )\n",
    "df_train_eda.shape"
   ]
  },
  {
   "cell_type": "markdown",
   "metadata": {},
   "source": [
    "#### 17. f_occupation_city_m"
   ]
  },
  {
   "cell_type": "code",
   "execution_count": 23,
   "metadata": {},
   "outputs": [
    {
     "name": "stdout",
     "output_type": "stream",
     "text": [
      "(63, 3)\n"
     ]
    },
    {
     "data": {
      "text/plain": [
       "(550068, 67)"
      ]
     },
     "execution_count": 23,
     "metadata": {},
     "output_type": "execute_result"
    }
   ],
   "source": [
    "# Occupation & City mean \n",
    "df_occupation_city_m = pd.DataFrame(df_train_eda.groupby(['Occupation', 'City_Category'])['Purchase'].mean()) \n",
    "df_occupation_city_m = df_occupation_city_m.reset_index()\n",
    "df_occupation_city_m = df_occupation_city_m.rename(columns = {'Purchase' : 'f_occupation_city_m'})\n",
    "print(df_occupation_city_m.shape)\n",
    "# add new column\n",
    "df_train_eda = pd.merge(df_train_eda, df_occupation_city_m, how = 'left', on= ['Occupation', 'City_Category'] )\n",
    "df_train_eda.shape"
   ]
  },
  {
   "cell_type": "markdown",
   "metadata": {},
   "source": [
    "#### 18. f_occupation_current_city_m"
   ]
  },
  {
   "cell_type": "code",
   "execution_count": 24,
   "metadata": {},
   "outputs": [
    {
     "name": "stdout",
     "output_type": "stream",
     "text": [
      "(104, 3)\n"
     ]
    },
    {
     "data": {
      "text/plain": [
       "(550068, 68)"
      ]
     },
     "execution_count": 24,
     "metadata": {},
     "output_type": "execute_result"
    }
   ],
   "source": [
    "# Occupation & Current City mean \n",
    "df_occupation_current_city_m = pd.DataFrame(df_train_eda.groupby(['Occupation', 'Stay_In_Current_City_Years'])['Purchase'].mean()) \n",
    "df_occupation_current_city_m = df_occupation_current_city_m.reset_index()\n",
    "df_occupation_current_city_m = df_occupation_current_city_m.rename(columns = {'Purchase' : 'f_occupation_current_city_m'})\n",
    "print(df_occupation_current_city_m.shape)\n",
    "# add new column\n",
    "df_train_eda = pd.merge(df_train_eda, df_occupation_current_city_m, how = 'left', on= ['Occupation', 'Stay_In_Current_City_Years'] )\n",
    "df_train_eda.shape"
   ]
  },
  {
   "cell_type": "markdown",
   "metadata": {},
   "source": [
    "#### 19. f_product_category_1_2_m"
   ]
  },
  {
   "cell_type": "code",
   "execution_count": 25,
   "metadata": {},
   "outputs": [
    {
     "name": "stdout",
     "output_type": "stream",
     "text": [
      "(83, 3)\n"
     ]
    },
    {
     "data": {
      "text/plain": [
       "(550068, 69)"
      ]
     },
     "execution_count": 25,
     "metadata": {},
     "output_type": "execute_result"
    }
   ],
   "source": [
    "# Product Category 1 & 2 mean \n",
    "df_product_category_1_2_m = pd.DataFrame(df_train_eda.groupby(['Product_Category_1_Rare', 'Product_Category_2_Rare'])['Purchase'].mean()) \n",
    "df_product_category_1_2_m = df_product_category_1_2_m.reset_index()\n",
    "df_product_category_1_2_m = df_product_category_1_2_m.rename(columns = {'Purchase' : 'f_product_category_1_2_m'})\n",
    "print(df_product_category_1_2_m.shape)\n",
    "# add new column\n",
    "df_train_eda = pd.merge(df_train_eda, df_product_category_1_2_m, how = 'left', on= ['Product_Category_1_Rare', 'Product_Category_2_Rare'] )\n",
    "df_train_eda.shape"
   ]
  },
  {
   "cell_type": "markdown",
   "metadata": {},
   "source": [
    "#### 20. f_product_category_1_3_m"
   ]
  },
  {
   "cell_type": "code",
   "execution_count": 26,
   "metadata": {},
   "outputs": [
    {
     "name": "stdout",
     "output_type": "stream",
     "text": [
      "(55, 3)\n"
     ]
    },
    {
     "data": {
      "text/plain": [
       "(550068, 70)"
      ]
     },
     "execution_count": 26,
     "metadata": {},
     "output_type": "execute_result"
    }
   ],
   "source": [
    "# Product Category 1 & 3 mean \n",
    "df_product_category_1_3_m = pd.DataFrame(df_train_eda.groupby(['Product_Category_1_Rare', 'Product_Category_3_Rare'])['Purchase'].mean()) \n",
    "df_product_category_1_3_m = df_product_category_1_3_m.reset_index()\n",
    "df_product_category_1_3_m = df_product_category_1_3_m.rename(columns = {'Purchase' : 'f_product_category_1_3_m'})\n",
    "print(df_product_category_1_3_m.shape)\n",
    "# add new column\n",
    "df_train_eda = pd.merge(df_train_eda, df_product_category_1_3_m, how = 'left', on= ['Product_Category_1_Rare', 'Product_Category_3_Rare'] )\n",
    "df_train_eda.shape"
   ]
  },
  {
   "cell_type": "markdown",
   "metadata": {},
   "source": [
    "#### 21. f_product_category_2_3_m"
   ]
  },
  {
   "cell_type": "code",
   "execution_count": 27,
   "metadata": {},
   "outputs": [
    {
     "name": "stdout",
     "output_type": "stream",
     "text": [
      "(64, 3)\n"
     ]
    },
    {
     "data": {
      "text/plain": [
       "(550068, 71)"
      ]
     },
     "execution_count": 27,
     "metadata": {},
     "output_type": "execute_result"
    }
   ],
   "source": [
    "# Product Category 1 & 3 mean \n",
    "df_product_category_2_3_m = pd.DataFrame(df_train_eda.groupby(['Product_Category_2_Rare', 'Product_Category_3_Rare'])['Purchase'].mean()) \n",
    "df_product_category_2_3_m = df_product_category_2_3_m.reset_index()\n",
    "df_product_category_2_3_m = df_product_category_2_3_m.rename(columns = {'Purchase' : 'f_product_category_2_3_m'})\n",
    "print(df_product_category_2_3_m.shape)\n",
    "# add new column\n",
    "df_train_eda = pd.merge(df_train_eda, df_product_category_2_3_m, how = 'left', on= ['Product_Category_2_Rare', 'Product_Category_3_Rare'] )\n",
    "df_train_eda.shape"
   ]
  },
  {
   "cell_type": "markdown",
   "metadata": {},
   "source": [
    "#### 22. f_occupation_gender_m"
   ]
  },
  {
   "cell_type": "code",
   "execution_count": 28,
   "metadata": {},
   "outputs": [
    {
     "name": "stdout",
     "output_type": "stream",
     "text": [
      "(42, 3)\n"
     ]
    },
    {
     "data": {
      "text/plain": [
       "(550068, 72)"
      ]
     },
     "execution_count": 28,
     "metadata": {},
     "output_type": "execute_result"
    }
   ],
   "source": [
    "# Product Category 1 & 3 mean \n",
    "df_occ_gender_m = pd.DataFrame(df_train_eda.groupby(['Occupation', 'Gender'])['Purchase'].mean()) \n",
    "df_occ_gender_m = df_occ_gender_m.reset_index()\n",
    "df_occ_gender_m = df_occ_gender_m.rename(columns = {'Purchase' : 'f_occupation_gender_m'})\n",
    "print(df_occ_gender_m.shape)\n",
    "# add new column\n",
    "df_train_eda = pd.merge(df_train_eda, df_occ_gender_m, how = 'left', on= ['Occupation', 'Gender'] )\n",
    "df_train_eda.shape"
   ]
  },
  {
   "cell_type": "markdown",
   "metadata": {},
   "source": [
    "#### 23. City_Category Overview"
   ]
  },
  {
   "cell_type": "code",
   "execution_count": 29,
   "metadata": {},
   "outputs": [
    {
     "name": "stdout",
     "output_type": "stream",
     "text": [
      "(3, 6)\n"
     ]
    },
    {
     "data": {
      "text/plain": [
       "(550068, 77)"
      ]
     },
     "execution_count": 29,
     "metadata": {},
     "output_type": "execute_result"
    }
   ],
   "source": [
    "# product count \n",
    "df_city_category = pd.DataFrame() \n",
    "# product mean, median, min, max, std\n",
    "df_city_category['f_city_m'] = df_train_eda.groupby(['City_Category'])['Purchase'].mean()\n",
    "df_city_category['f_city_median'] = df_train_eda.groupby(['City_Category'])['Purchase'].median()\n",
    "df_city_category['f_city_min'] = df_train_eda.groupby(['City_Category'])['Purchase'].min()\n",
    "df_city_category['f_city_max'] = df_train_eda.groupby(['City_Category'])['Purchase'].max()\n",
    "df_city_category['f_city_std'] = df_train_eda.groupby(['City_Category'])['Purchase'].std()\n",
    "df_city_category = df_city_category.reset_index()\n",
    "print(df_city_category.shape)\n",
    "\n",
    "# adding new columns\n",
    "df_train_eda = pd.merge(df_train_eda, df_city_category, how = 'left', on= ['City_Category'] )\n",
    "df_train_eda.shape"
   ]
  },
  {
   "cell_type": "markdown",
   "metadata": {},
   "source": [
    "#### 24. City_Category_Product_Category1"
   ]
  },
  {
   "cell_type": "code",
   "execution_count": 30,
   "metadata": {},
   "outputs": [
    {
     "name": "stdout",
     "output_type": "stream",
     "text": [
      "(36, 8)\n"
     ]
    },
    {
     "data": {
      "text/plain": [
       "(550068, 83)"
      ]
     },
     "execution_count": 30,
     "metadata": {},
     "output_type": "execute_result"
    }
   ],
   "source": [
    "# Product Category 1\n",
    "df_city_product_category_1 = pd.DataFrame() \n",
    "df_city_product_category_1['f_city_product_category_1_m'] = df_train_eda.groupby(['City_Category', 'Product_Category_1_Rare'])['Purchase'].mean()\n",
    "df_city_product_category_1['f_city_product_category_1_tot_amt'] = df_train_eda.groupby(['City_Category', 'Product_Category_1_Rare'])['Purchase'].sum()\n",
    "df_city_product_category_1['f_city_product_category_1_median'] = df_train_eda.groupby(['City_Category', 'Product_Category_1_Rare'])['Purchase'].median()\n",
    "df_city_product_category_1['f_city_product_category_1_min'] = df_train_eda.groupby(['City_Category', 'Product_Category_1_Rare'])['Purchase'].min()\n",
    "df_city_product_category_1['f_city_product_category_1_max'] = df_train_eda.groupby(['City_Category', 'Product_Category_1_Rare'])['Purchase'].max()\n",
    "df_city_product_category_1['f_city_product_category_1_std'] = df_train_eda.groupby(['City_Category', 'Product_Category_1_Rare'])['Purchase'].std()\n",
    "df_city_product_category_1 = df_city_product_category_1.reset_index()\n",
    "print(df_city_product_category_1.shape)\n",
    "# add new columns\n",
    "df_train_eda = pd.merge(df_train_eda, df_city_product_category_1, how = 'left', on= ['City_Category', 'Product_Category_1_Rare'] )\n",
    "df_train_eda.shape\n"
   ]
  },
  {
   "cell_type": "markdown",
   "metadata": {},
   "source": [
    "#### 25. City_Category_Product_Category2"
   ]
  },
  {
   "cell_type": "code",
   "execution_count": 31,
   "metadata": {},
   "outputs": [
    {
     "name": "stdout",
     "output_type": "stream",
     "text": [
      "(42, 8)\n"
     ]
    },
    {
     "data": {
      "text/plain": [
       "(550068, 89)"
      ]
     },
     "execution_count": 31,
     "metadata": {},
     "output_type": "execute_result"
    }
   ],
   "source": [
    "# Product Category 2\n",
    "df_city_product_category_2 = pd.DataFrame() \n",
    "df_city_product_category_2['f_city_product_category_2_m'] = df_train_eda.groupby(['City_Category', 'Product_Category_2_Rare'])['Purchase'].mean()\n",
    "df_city_product_category_2['f_city_product_category_2_tot_amt'] = df_train_eda.groupby(['City_Category', 'Product_Category_2_Rare'])['Purchase'].sum()\n",
    "df_city_product_category_2['f_city_product_category_2_median'] = df_train_eda.groupby(['City_Category', 'Product_Category_2_Rare'])['Purchase'].median()\n",
    "df_city_product_category_2['f_city_product_category_2_min'] = df_train_eda.groupby(['City_Category', 'Product_Category_2_Rare'])['Purchase'].min()\n",
    "df_city_product_category_2['f_city_product_category_2_max'] = df_train_eda.groupby(['City_Category', 'Product_Category_2_Rare'])['Purchase'].max()\n",
    "df_city_product_category_2['f_city_product_category_2_std'] = df_train_eda.groupby(['City_Category', 'Product_Category_2_Rare'])['Purchase'].std()\n",
    "df_city_product_category_2 = df_city_product_category_2.reset_index()\n",
    "print(df_city_product_category_2.shape)\n",
    "# add new columns\n",
    "df_train_eda = pd.merge(df_train_eda, df_city_product_category_2, how = 'left', on= ['City_Category', 'Product_Category_2_Rare'] )\n",
    "df_train_eda.shape"
   ]
  },
  {
   "cell_type": "markdown",
   "metadata": {},
   "source": [
    "#### 26. City_Category_Product_Category3"
   ]
  },
  {
   "cell_type": "code",
   "execution_count": 32,
   "metadata": {},
   "outputs": [
    {
     "name": "stdout",
     "output_type": "stream",
     "text": [
      "(27, 8)\n"
     ]
    },
    {
     "data": {
      "text/plain": [
       "(550068, 95)"
      ]
     },
     "execution_count": 32,
     "metadata": {},
     "output_type": "execute_result"
    }
   ],
   "source": [
    "# Product Category 3\n",
    "df_city_product_category_3 = pd.DataFrame() \n",
    "df_city_product_category_3['f_city_product_category_3_m'] = df_train_eda.groupby(['City_Category', 'Product_Category_3_Rare'])['Purchase'].mean()\n",
    "df_city_product_category_3['f_city_product_category_3_tot_amt'] = df_train_eda.groupby(['City_Category', 'Product_Category_3_Rare'])['Purchase'].sum()\n",
    "df_city_product_category_3['f_city_product_category_3_median'] = df_train_eda.groupby(['City_Category', 'Product_Category_3_Rare'])['Purchase'].median()\n",
    "df_city_product_category_3['f_city_product_category_3_min'] = df_train_eda.groupby(['City_Category', 'Product_Category_3_Rare'])['Purchase'].min()\n",
    "df_city_product_category_3['f_city_product_category_3_max'] = df_train_eda.groupby(['City_Category', 'Product_Category_3_Rare'])['Purchase'].max()\n",
    "df_city_product_category_3['f_city_product_category_3_std'] = df_train_eda.groupby(['City_Category', 'Product_Category_3_Rare'])['Purchase'].std()\n",
    "df_city_product_category_3 = df_city_product_category_3.reset_index()\n",
    "print(df_city_product_category_3.shape)\n",
    "# add new columns\n",
    "df_train_eda = pd.merge(df_train_eda, df_city_product_category_3, how = 'left', on= ['City_Category', 'Product_Category_3_Rare'] )\n",
    "df_train_eda.shape"
   ]
  },
  {
   "cell_type": "markdown",
   "metadata": {},
   "source": [
    "#### 27. Product_Id_age_category"
   ]
  },
  {
   "cell_type": "code",
   "execution_count": 33,
   "metadata": {},
   "outputs": [
    {
     "name": "stdout",
     "output_type": "stream",
     "text": [
      "(13657, 7)\n"
     ]
    }
   ],
   "source": [
    "# Product Id and Age Categories\n",
    "df_productid_age = pd.DataFrame() \n",
    "df_productid_age['f_productid_age_m'] = df_train_eda.groupby(['Product_ID_Rare', 'Age'])['Purchase'].mean()\n",
    "df_productid_age['f_productid_age_tot_amt'] = df_train_eda.groupby(['Product_ID_Rare', 'Age'])['Purchase'].sum()\n",
    "df_productid_age['f_productid_age_median'] = df_train_eda.groupby(['Product_ID_Rare', 'Age'])['Purchase'].median()\n",
    "df_productid_age['f_productid_age_min'] = df_train_eda.groupby(['Product_ID_Rare', 'Age'])['Purchase'].min()\n",
    "df_productid_age['f_productid_age_max'] = df_train_eda.groupby(['Product_ID_Rare', 'Age'])['Purchase'].max()\n",
    "# df_productid_age['f_productid_age_std'] = df_train_eda.groupby(['Product_ID_Rare', 'Age'])['Purchase'].std()\n",
    "df_productid_age = df_productid_age.reset_index()\n",
    "print(df_productid_age.shape)\n",
    "# add new columns\n",
    "df_train_eda = pd.merge(df_train_eda, df_productid_age, how = 'left', on= ['Product_ID_Rare', 'Age'] )\n",
    "df_train_eda.shape\n",
    "\n",
    "# to handle NA values for f_productid_age_min\n",
    "v_productid_age_min_min = df_productid_age['f_productid_age_min'].min()\n"
   ]
  },
  {
   "cell_type": "markdown",
   "metadata": {},
   "source": [
    "#### 28. Product_Id_Occupation"
   ]
  },
  {
   "cell_type": "code",
   "execution_count": 34,
   "metadata": {},
   "outputs": [
    {
     "name": "stdout",
     "output_type": "stream",
     "text": [
      "(38665, 7)\n"
     ]
    }
   ],
   "source": [
    "# Product Id and Age Categories\n",
    "df_productid_occupation = pd.DataFrame() \n",
    "df_productid_occupation['f_productid_occupation_m'] = df_train_eda.groupby(['Product_ID_Rare', 'Occupation'])['Purchase'].mean()\n",
    "df_productid_occupation['f_productid_occupation_tot_amt'] = df_train_eda.groupby(['Product_ID_Rare', 'Occupation'])['Purchase'].sum()\n",
    "df_productid_occupation['f_productid_occupation_median'] = df_train_eda.groupby(['Product_ID_Rare', 'Occupation'])['Purchase'].median()\n",
    "df_productid_occupation['f_productid_occupation_min'] = df_train_eda.groupby(['Product_ID_Rare', 'Occupation'])['Purchase'].min()\n",
    "df_productid_occupation['f_productid_occupation_max'] = df_train_eda.groupby(['Product_ID_Rare', 'Occupation'])['Purchase'].max()\n",
    "#df_productid_occupation['f_productid_occupation_std'] = df_train_eda.groupby(['Product_ID_Rare', 'Occupation'])['Purchase'].std()\n",
    "df_productid_occupation = df_productid_occupation.reset_index()\n",
    "print(df_productid_occupation.shape)\n",
    "# add new columns\n",
    "df_train_eda = pd.merge(df_train_eda, df_productid_occupation, how = 'left', on= ['Product_ID_Rare', 'Occupation'] )\n",
    "df_train_eda.shape\n",
    "\n",
    "# to handle NA values for f_productid_occupation_min\n",
    "v_productid_occupation_min_min = df_productid_occupation['f_productid_occupation_min'].min()\n"
   ]
  },
  {
   "cell_type": "markdown",
   "metadata": {},
   "source": [
    "#### 29. Product_Id_City_Category  City_Category"
   ]
  },
  {
   "cell_type": "code",
   "execution_count": 35,
   "metadata": {},
   "outputs": [
    {
     "name": "stdout",
     "output_type": "stream",
     "text": [
      "(6018, 8)\n"
     ]
    },
    {
     "data": {
      "text/plain": [
       "(550068, 111)"
      ]
     },
     "execution_count": 35,
     "metadata": {},
     "output_type": "execute_result"
    }
   ],
   "source": [
    "# Product Id and City Category Categories\n",
    "df_productid_city_category = pd.DataFrame() \n",
    "df_productid_city_category['f_productid_city_cat_m'] = df_train_eda.groupby(['Product_ID_Rare', 'City_Category'])['Purchase'].mean()\n",
    "df_productid_city_category['f_productid_city_cat_tot_amt'] = df_train_eda.groupby(['Product_ID_Rare', 'City_Category'])['Purchase'].sum()\n",
    "df_productid_city_category['f_productid_city_cat_median'] = df_train_eda.groupby(['Product_ID_Rare', 'City_Category'])['Purchase'].median()\n",
    "df_productid_city_category['f_productid_city_cat_min'] = df_train_eda.groupby(['Product_ID_Rare', 'City_Category'])['Purchase'].min()\n",
    "df_productid_city_category['f_productid_city_cat_max'] = df_train_eda.groupby(['Product_ID_Rare', 'City_Category'])['Purchase'].max()\n",
    "df_productid_city_category['f_productid_city_cat_std'] = df_train_eda.groupby(['Product_ID_Rare', 'City_Category'])['Purchase'].std()\n",
    "df_productid_city_category = df_productid_city_category.reset_index()\n",
    "print(df_productid_city_category.shape)\n",
    "# add new columns\n",
    "df_train_eda = pd.merge(df_train_eda, df_productid_city_category, how = 'left', on= ['Product_ID_Rare', 'City_Category'] )\n",
    "df_train_eda.shape"
   ]
  },
  {
   "cell_type": "code",
   "execution_count": 39,
   "metadata": {},
   "outputs": [
    {
     "name": "stdout",
     "output_type": "stream",
     "text": [
      "Index(['User_ID', 'Product_ID', 'Gender', 'Age', 'Occupation', 'City_Category',\n",
      "       'Stay_In_Current_City_Years', 'Marital_Status', 'Product_Category_1',\n",
      "       'Product_Category_2',\n",
      "       ...\n",
      "       'f_productid_occupation_tot_amt', 'f_productid_occupation_median',\n",
      "       'f_productid_occupation_min', 'f_productid_occupation_max',\n",
      "       'f_productid_city_cat_m', 'f_productid_city_cat_tot_amt',\n",
      "       'f_productid_city_cat_median', 'f_productid_city_cat_min',\n",
      "       'f_productid_city_cat_max', 'f_productid_city_cat_std'],\n",
      "      dtype='object', length=111)\n"
     ]
    }
   ],
   "source": [
    "# feature engineering columns\n",
    "print(df_train_eda.columns)"
   ]
  },
  {
   "cell_type": "markdown",
   "metadata": {},
   "source": [
    "#### Pickling Dataset"
   ]
  },
  {
   "cell_type": "code",
   "execution_count": 37,
   "metadata": {},
   "outputs": [
    {
     "name": "stdout",
     "output_type": "stream",
     "text": [
      "(550068, 111)\n",
      "['df_train_fe.pkl']\n"
     ]
    }
   ],
   "source": [
    "#### pickling train dataset for further processing ####\n",
    "print(df_train_eda.shape)\n",
    "print(joblib.dump(df_train_eda, \"df_train_fe.pkl\"))"
   ]
  },
  {
   "cell_type": "code",
   "execution_count": 38,
   "metadata": {},
   "outputs": [
    {
     "name": "stdout",
     "output_type": "stream",
     "text": [
      "['feature_engineering1.pkl']\n",
      "['feature_engineering2.pkl']\n",
      "['feature_engineering3.pkl']\n",
      "['feature_engineering4.pkl']\n"
     ]
    }
   ],
   "source": [
    "# pickling feature engineering\n",
    "print(joblib.dump((df_product, df_gender_unique_users_cnt, df_userid, df_age, df_occupation, df_city_period, df_prod_category_1, df_prod_category_2, df_prod_category_3, df_age_occupation_m, df_age_city_m, df_age_current_city_m, df_age_prod_category_1_m ), \"feature_engineering1.pkl\"))\n",
    "print(joblib.dump((df_age_prod_category_2_m, df_age_prod_category_3_m, df_city_stay_m, df_occupation_city_m, df_occupation_current_city_m, df_product_category_1_2_m, df_product_category_1_3_m, df_product_category_2_3_m, df_occ_gender_m, df_city_category), \"feature_engineering2.pkl\"))\n",
    "print(joblib.dump((df_city_product_category_1, df_city_product_category_2, df_city_product_category_3, df_productid_age, df_productid_occupation, df_productid_city_category), \"feature_engineering3.pkl\"))\n",
    "print(joblib.dump((v_productid_age_min_min, v_productid_occupation_min_min), \"feature_engineering4.pkl\"))"
   ]
  },
  {
   "cell_type": "markdown",
   "metadata": {},
   "source": [
    "### Comments are appreciated to improve model performance and learning !!!"
   ]
  },
  {
   "cell_type": "code",
   "execution_count": null,
   "metadata": {},
   "outputs": [],
   "source": []
  },
  {
   "cell_type": "code",
   "execution_count": null,
   "metadata": {},
   "outputs": [],
   "source": []
  },
  {
   "cell_type": "code",
   "execution_count": null,
   "metadata": {},
   "outputs": [],
   "source": []
  },
  {
   "cell_type": "code",
   "execution_count": null,
   "metadata": {},
   "outputs": [],
   "source": []
  }
 ],
 "metadata": {
  "kernelspec": {
   "display_name": "Python 3",
   "language": "python",
   "name": "python3"
  },
  "language_info": {
   "codemirror_mode": {
    "name": "ipython",
    "version": 3
   },
   "file_extension": ".py",
   "mimetype": "text/x-python",
   "name": "python",
   "nbconvert_exporter": "python",
   "pygments_lexer": "ipython3",
   "version": "3.7.3"
  }
 },
 "nbformat": 4,
 "nbformat_minor": 2
}
